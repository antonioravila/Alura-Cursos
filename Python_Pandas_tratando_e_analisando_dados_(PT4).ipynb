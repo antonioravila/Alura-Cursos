{
  "nbformat": 4,
  "nbformat_minor": 0,
  "metadata": {
    "colab": {
      "name": "Python Pandas: tratando e analisando dados (PT4).ipynb",
      "provenance": [],
      "authorship_tag": "ABX9TyPI1FhisUKrWNcdtOixyYeT",
      "include_colab_link": true
    },
    "kernelspec": {
      "name": "python3",
      "display_name": "Python 3"
    }
  },
  "cells": [
    {
      "cell_type": "markdown",
      "metadata": {
        "id": "view-in-github",
        "colab_type": "text"
      },
      "source": [
        "<a href=\"https://colab.research.google.com/github/antonioravila/Alura-Cursos/blob/main/Python_Pandas_tratando_e_analisando_dados_(PT4).ipynb\" target=\"_parent\"><img src=\"https://colab.research.google.com/assets/colab-badge.svg\" alt=\"Open In Colab\"/></a>"
      ]
    },
    {
      "cell_type": "markdown",
      "metadata": {
        "id": "QjyiKcfmhEue"
      },
      "source": [
        "# Relatório de Análise VII"
      ]
    },
    {
      "cell_type": "markdown",
      "metadata": {
        "id": "xuw4I1HchHKg"
      },
      "source": [
        "## Criando Agrupamentos"
      ]
    },
    {
      "cell_type": "code",
      "metadata": {
        "id": "9PJkRp-dg6ef"
      },
      "source": [
        "import pandas as pd\r\n",
        "import matplotlib.pyplot as plt\r\n"
      ],
      "execution_count": null,
      "outputs": []
    },
    {
      "cell_type": "code",
      "metadata": {
        "id": "U8x0SytEhKz8"
      },
      "source": [
        "dados = pd.read_csv('/content/aluguel_residencial_tratado_2.csv', sep = ';')"
      ],
      "execution_count": null,
      "outputs": []
    },
    {
      "cell_type": "code",
      "metadata": {
        "colab": {
          "base_uri": "https://localhost:8080/",
          "height": 464
        },
        "id": "Q-kgQyVohfEU",
        "outputId": "9aea9e69-c3cd-4c37-c938-4ad105c26513"
      },
      "source": [
        "dados.head(10)"
      ],
      "execution_count": null,
      "outputs": [
        {
          "output_type": "execute_result",
          "data": {
            "text/html": [
              "<div>\n",
              "<style scoped>\n",
              "    .dataframe tbody tr th:only-of-type {\n",
              "        vertical-align: middle;\n",
              "    }\n",
              "\n",
              "    .dataframe tbody tr th {\n",
              "        vertical-align: top;\n",
              "    }\n",
              "\n",
              "    .dataframe thead th {\n",
              "        text-align: right;\n",
              "    }\n",
              "</style>\n",
              "<table border=\"1\" class=\"dataframe\">\n",
              "  <thead>\n",
              "    <tr style=\"text-align: right;\">\n",
              "      <th></th>\n",
              "      <th>Unnamed: 0</th>\n",
              "      <th>Tipo</th>\n",
              "      <th>Bairro</th>\n",
              "      <th>Quartos</th>\n",
              "      <th>Vagas</th>\n",
              "      <th>Suites</th>\n",
              "      <th>Area</th>\n",
              "      <th>Valor</th>\n",
              "      <th>Condominio</th>\n",
              "      <th>IPTU</th>\n",
              "      <th>Valor m2</th>\n",
              "      <th>Tipo Agregado</th>\n",
              "    </tr>\n",
              "  </thead>\n",
              "  <tbody>\n",
              "    <tr>\n",
              "      <th>0</th>\n",
              "      <td>0</td>\n",
              "      <td>Quitinete</td>\n",
              "      <td>Copacabana</td>\n",
              "      <td>1</td>\n",
              "      <td>0</td>\n",
              "      <td>0</td>\n",
              "      <td>40</td>\n",
              "      <td>1700.0</td>\n",
              "      <td>500.0</td>\n",
              "      <td>60.0</td>\n",
              "      <td>42.50</td>\n",
              "      <td>Apartamento</td>\n",
              "    </tr>\n",
              "    <tr>\n",
              "      <th>1</th>\n",
              "      <td>1</td>\n",
              "      <td>Casa</td>\n",
              "      <td>Jardim Botânico</td>\n",
              "      <td>2</td>\n",
              "      <td>0</td>\n",
              "      <td>1</td>\n",
              "      <td>100</td>\n",
              "      <td>7000.0</td>\n",
              "      <td>0.0</td>\n",
              "      <td>0.0</td>\n",
              "      <td>70.00</td>\n",
              "      <td>Casa</td>\n",
              "    </tr>\n",
              "    <tr>\n",
              "      <th>2</th>\n",
              "      <td>2</td>\n",
              "      <td>Apartamento</td>\n",
              "      <td>Centro</td>\n",
              "      <td>1</td>\n",
              "      <td>0</td>\n",
              "      <td>0</td>\n",
              "      <td>15</td>\n",
              "      <td>800.0</td>\n",
              "      <td>390.0</td>\n",
              "      <td>20.0</td>\n",
              "      <td>53.33</td>\n",
              "      <td>Apartamento</td>\n",
              "    </tr>\n",
              "    <tr>\n",
              "      <th>3</th>\n",
              "      <td>3</td>\n",
              "      <td>Apartamento</td>\n",
              "      <td>Higienópolis</td>\n",
              "      <td>1</td>\n",
              "      <td>0</td>\n",
              "      <td>0</td>\n",
              "      <td>48</td>\n",
              "      <td>800.0</td>\n",
              "      <td>230.0</td>\n",
              "      <td>0.0</td>\n",
              "      <td>16.67</td>\n",
              "      <td>Apartamento</td>\n",
              "    </tr>\n",
              "    <tr>\n",
              "      <th>4</th>\n",
              "      <td>5</td>\n",
              "      <td>Apartamento</td>\n",
              "      <td>Cachambi</td>\n",
              "      <td>2</td>\n",
              "      <td>0</td>\n",
              "      <td>0</td>\n",
              "      <td>50</td>\n",
              "      <td>1300.0</td>\n",
              "      <td>301.0</td>\n",
              "      <td>17.0</td>\n",
              "      <td>26.00</td>\n",
              "      <td>Apartamento</td>\n",
              "    </tr>\n",
              "    <tr>\n",
              "      <th>5</th>\n",
              "      <td>6</td>\n",
              "      <td>Casa de Condomínio</td>\n",
              "      <td>Barra da Tijuca</td>\n",
              "      <td>5</td>\n",
              "      <td>4</td>\n",
              "      <td>5</td>\n",
              "      <td>750</td>\n",
              "      <td>22000.0</td>\n",
              "      <td>0.0</td>\n",
              "      <td>0.0</td>\n",
              "      <td>29.33</td>\n",
              "      <td>Casa</td>\n",
              "    </tr>\n",
              "    <tr>\n",
              "      <th>6</th>\n",
              "      <td>7</td>\n",
              "      <td>Casa de Condomínio</td>\n",
              "      <td>Ramos</td>\n",
              "      <td>2</td>\n",
              "      <td>2</td>\n",
              "      <td>0</td>\n",
              "      <td>65</td>\n",
              "      <td>1000.0</td>\n",
              "      <td>0.0</td>\n",
              "      <td>0.0</td>\n",
              "      <td>15.38</td>\n",
              "      <td>Casa</td>\n",
              "    </tr>\n",
              "    <tr>\n",
              "      <th>7</th>\n",
              "      <td>9</td>\n",
              "      <td>Apartamento</td>\n",
              "      <td>Grajaú</td>\n",
              "      <td>2</td>\n",
              "      <td>1</td>\n",
              "      <td>0</td>\n",
              "      <td>70</td>\n",
              "      <td>1500.0</td>\n",
              "      <td>642.0</td>\n",
              "      <td>74.0</td>\n",
              "      <td>21.43</td>\n",
              "      <td>Apartamento</td>\n",
              "    </tr>\n",
              "    <tr>\n",
              "      <th>8</th>\n",
              "      <td>10</td>\n",
              "      <td>Apartamento</td>\n",
              "      <td>Lins de Vasconcelos</td>\n",
              "      <td>3</td>\n",
              "      <td>1</td>\n",
              "      <td>1</td>\n",
              "      <td>90</td>\n",
              "      <td>1500.0</td>\n",
              "      <td>455.0</td>\n",
              "      <td>14.0</td>\n",
              "      <td>16.67</td>\n",
              "      <td>Apartamento</td>\n",
              "    </tr>\n",
              "    <tr>\n",
              "      <th>9</th>\n",
              "      <td>11</td>\n",
              "      <td>Apartamento</td>\n",
              "      <td>Copacabana</td>\n",
              "      <td>1</td>\n",
              "      <td>0</td>\n",
              "      <td>1</td>\n",
              "      <td>40</td>\n",
              "      <td>2000.0</td>\n",
              "      <td>561.0</td>\n",
              "      <td>50.0</td>\n",
              "      <td>50.00</td>\n",
              "      <td>Apartamento</td>\n",
              "    </tr>\n",
              "  </tbody>\n",
              "</table>\n",
              "</div>"
            ],
            "text/plain": [
              "   Unnamed: 0                Tipo  ... Valor m2  Tipo Agregado\n",
              "0           0           Quitinete  ...    42.50    Apartamento\n",
              "1           1                Casa  ...    70.00           Casa\n",
              "2           2         Apartamento  ...    53.33    Apartamento\n",
              "3           3         Apartamento  ...    16.67    Apartamento\n",
              "4           5         Apartamento  ...    26.00    Apartamento\n",
              "5           6  Casa de Condomínio  ...    29.33           Casa\n",
              "6           7  Casa de Condomínio  ...    15.38           Casa\n",
              "7           9         Apartamento  ...    21.43    Apartamento\n",
              "8          10         Apartamento  ...    16.67    Apartamento\n",
              "9          11         Apartamento  ...    50.00    Apartamento\n",
              "\n",
              "[10 rows x 12 columns]"
            ]
          },
          "metadata": {
            "tags": []
          },
          "execution_count": 560
        }
      ]
    },
    {
      "cell_type": "code",
      "metadata": {
        "colab": {
          "base_uri": "https://localhost:8080/"
        },
        "id": "gWLtXearhggq",
        "outputId": "eac015ce-65bb-41d5-9880-aad2c70d5b30"
      },
      "source": [
        "dados['Valor'].mean()"
      ],
      "execution_count": null,
      "outputs": [
        {
          "output_type": "execute_result",
          "data": {
            "text/plain": [
              "5046.172821405663"
            ]
          },
          "metadata": {
            "tags": []
          },
          "execution_count": 561
        }
      ]
    },
    {
      "cell_type": "code",
      "metadata": {
        "id": "5PyGaq79iCSB"
      },
      "source": [
        "# Aqui selecionei somente os bairros desejados\r\n",
        "bairros = ['Barra da Tijuca', 'Copacabana', 'Ipanema', 'Leblon', 'Botafogo', 'Flamengo', 'Tijuca']\r\n",
        "selecao = dados['Bairro'].isin(bairros)\r\n",
        "dados = dados[selecao]"
      ],
      "execution_count": null,
      "outputs": []
    },
    {
      "cell_type": "code",
      "metadata": {
        "colab": {
          "base_uri": "https://localhost:8080/"
        },
        "id": "VEqzSXZ_jOG8",
        "outputId": "104dcc5d-e1d0-4913-b782-861d6a93df1e"
      },
      "source": [
        "dados['Bairro'].unique()"
      ],
      "execution_count": null,
      "outputs": [
        {
          "output_type": "execute_result",
          "data": {
            "text/plain": [
              "array(['Copacabana', 'Barra da Tijuca', 'Tijuca', 'Ipanema', 'Botafogo',\n",
              "       'Leblon', 'Flamengo'], dtype=object)"
            ]
          },
          "metadata": {
            "tags": []
          },
          "execution_count": 563
        }
      ]
    },
    {
      "cell_type": "code",
      "metadata": {
        "id": "HrL3W1WYjXff"
      },
      "source": [
        "grupo_bairro = dados.groupby('Bairro')"
      ],
      "execution_count": null,
      "outputs": []
    },
    {
      "cell_type": "code",
      "metadata": {
        "colab": {
          "base_uri": "https://localhost:8080/"
        },
        "id": "DAfUqziJjynF",
        "outputId": "349ae7ca-238e-46bc-aece-96b9926a7f1c"
      },
      "source": [
        "for bairro, dados in grupo_bairro:\r\n",
        "  print(bairro)"
      ],
      "execution_count": null,
      "outputs": [
        {
          "output_type": "stream",
          "text": [
            "Barra da Tijuca\n",
            "Botafogo\n",
            "Copacabana\n",
            "Flamengo\n",
            "Ipanema\n",
            "Leblon\n",
            "Tijuca\n"
          ],
          "name": "stdout"
        }
      ]
    },
    {
      "cell_type": "code",
      "metadata": {
        "colab": {
          "base_uri": "https://localhost:8080/"
        },
        "id": "Q27takxclTPA",
        "outputId": "5aba9973-5395-4b6f-a125-0c815816c279"
      },
      "source": [
        "# Fica claro que o método groupby armazena cada bairro como um dataframe separado\r\n",
        "for bairro, dados in grupo_bairro:\r\n",
        "  print(type(dados))"
      ],
      "execution_count": null,
      "outputs": [
        {
          "output_type": "stream",
          "text": [
            "<class 'pandas.core.frame.DataFrame'>\n",
            "<class 'pandas.core.frame.DataFrame'>\n",
            "<class 'pandas.core.frame.DataFrame'>\n",
            "<class 'pandas.core.frame.DataFrame'>\n",
            "<class 'pandas.core.frame.DataFrame'>\n",
            "<class 'pandas.core.frame.DataFrame'>\n",
            "<class 'pandas.core.frame.DataFrame'>\n"
          ],
          "name": "stdout"
        }
      ]
    },
    {
      "cell_type": "code",
      "metadata": {
        "colab": {
          "base_uri": "https://localhost:8080/"
        },
        "id": "jeqh0Bjold-x",
        "outputId": "a8275562-e0c9-4214-b351-b77e4875127e"
      },
      "source": [
        "# A média de valor de cada bairro\r\n",
        "grupo_bairro['Valor'].mean().round(2)"
      ],
      "execution_count": null,
      "outputs": [
        {
          "output_type": "execute_result",
          "data": {
            "text/plain": [
              "Bairro\n",
              "Barra da Tijuca    7069.55\n",
              "Botafogo           8791.83\n",
              "Copacabana         4126.68\n",
              "Flamengo           4113.53\n",
              "Ipanema            9352.00\n",
              "Leblon             8746.34\n",
              "Tijuca             2043.52\n",
              "Name: Valor, dtype: float64"
            ]
          },
          "metadata": {
            "tags": []
          },
          "execution_count": 567
        }
      ]
    },
    {
      "cell_type": "code",
      "metadata": {
        "colab": {
          "base_uri": "https://localhost:8080/"
        },
        "id": "m9gHRghBl6tE",
        "outputId": "472f9993-960c-4197-dd75-1f4d1e750585"
      },
      "source": [
        "# Outra opção, menos rápida\r\n",
        "for bairro, data in grupo_bairro: \r\n",
        "    print(f'{bairro} -> {data.Valor.mean()}')"
      ],
      "execution_count": null,
      "outputs": [
        {
          "output_type": "stream",
          "text": [
            "Barra da Tijuca -> 7069.552938130986\n",
            "Botafogo -> 8791.828178694159\n",
            "Copacabana -> 4126.677004538578\n",
            "Flamengo -> 4113.526610644258\n",
            "Ipanema -> 9352.001133786847\n",
            "Leblon -> 8746.344992050874\n",
            "Tijuca -> 2043.52\n"
          ],
          "name": "stdout"
        }
      ]
    },
    {
      "cell_type": "code",
      "metadata": {
        "colab": {
          "base_uri": "https://localhost:8080/",
          "height": 297
        },
        "id": "zgXqSrfcmSXY",
        "outputId": "5092a20e-e26e-4716-f545-4336f8d3d18c"
      },
      "source": [
        "#Podemos também selecionar duas variáveis ao mesmo tempo\r\n",
        "grupo_bairro[['Valor', 'Condominio']].mean().round(2)"
      ],
      "execution_count": null,
      "outputs": [
        {
          "output_type": "execute_result",
          "data": {
            "text/html": [
              "<div>\n",
              "<style scoped>\n",
              "    .dataframe tbody tr th:only-of-type {\n",
              "        vertical-align: middle;\n",
              "    }\n",
              "\n",
              "    .dataframe tbody tr th {\n",
              "        vertical-align: top;\n",
              "    }\n",
              "\n",
              "    .dataframe thead th {\n",
              "        text-align: right;\n",
              "    }\n",
              "</style>\n",
              "<table border=\"1\" class=\"dataframe\">\n",
              "  <thead>\n",
              "    <tr style=\"text-align: right;\">\n",
              "      <th></th>\n",
              "      <th>Valor</th>\n",
              "      <th>Condominio</th>\n",
              "    </tr>\n",
              "    <tr>\n",
              "      <th>Bairro</th>\n",
              "      <th></th>\n",
              "      <th></th>\n",
              "    </tr>\n",
              "  </thead>\n",
              "  <tbody>\n",
              "    <tr>\n",
              "      <th>Barra da Tijuca</th>\n",
              "      <td>7069.55</td>\n",
              "      <td>3591.01</td>\n",
              "    </tr>\n",
              "    <tr>\n",
              "      <th>Botafogo</th>\n",
              "      <td>8791.83</td>\n",
              "      <td>976.28</td>\n",
              "    </tr>\n",
              "    <tr>\n",
              "      <th>Copacabana</th>\n",
              "      <td>4126.68</td>\n",
              "      <td>1148.68</td>\n",
              "    </tr>\n",
              "    <tr>\n",
              "      <th>Flamengo</th>\n",
              "      <td>4113.53</td>\n",
              "      <td>1102.15</td>\n",
              "    </tr>\n",
              "    <tr>\n",
              "      <th>Ipanema</th>\n",
              "      <td>9352.00</td>\n",
              "      <td>2244.44</td>\n",
              "    </tr>\n",
              "    <tr>\n",
              "      <th>Leblon</th>\n",
              "      <td>8746.34</td>\n",
              "      <td>2107.18</td>\n",
              "    </tr>\n",
              "    <tr>\n",
              "      <th>Tijuca</th>\n",
              "      <td>2043.52</td>\n",
              "      <td>711.69</td>\n",
              "    </tr>\n",
              "  </tbody>\n",
              "</table>\n",
              "</div>"
            ],
            "text/plain": [
              "                   Valor  Condominio\n",
              "Bairro                              \n",
              "Barra da Tijuca  7069.55     3591.01\n",
              "Botafogo         8791.83      976.28\n",
              "Copacabana       4126.68     1148.68\n",
              "Flamengo         4113.53     1102.15\n",
              "Ipanema          9352.00     2244.44\n",
              "Leblon           8746.34     2107.18\n",
              "Tijuca           2043.52      711.69"
            ]
          },
          "metadata": {
            "tags": []
          },
          "execution_count": 569
        }
      ]
    },
    {
      "cell_type": "markdown",
      "metadata": {
        "id": "Wl-WUtlAnGXU"
      },
      "source": [
        "## Estatísticas Descritivas"
      ]
    },
    {
      "cell_type": "code",
      "metadata": {
        "colab": {
          "base_uri": "https://localhost:8080/",
          "height": 297
        },
        "id": "RPvWkAJKnGBe",
        "outputId": "ecc02e29-97a4-4a53-ab04-70caf6cfb1f5"
      },
      "source": [
        "grupo_bairro['Valor'].describe().round(2)"
      ],
      "execution_count": null,
      "outputs": [
        {
          "output_type": "execute_result",
          "data": {
            "text/html": [
              "<div>\n",
              "<style scoped>\n",
              "    .dataframe tbody tr th:only-of-type {\n",
              "        vertical-align: middle;\n",
              "    }\n",
              "\n",
              "    .dataframe tbody tr th {\n",
              "        vertical-align: top;\n",
              "    }\n",
              "\n",
              "    .dataframe thead th {\n",
              "        text-align: right;\n",
              "    }\n",
              "</style>\n",
              "<table border=\"1\" class=\"dataframe\">\n",
              "  <thead>\n",
              "    <tr style=\"text-align: right;\">\n",
              "      <th></th>\n",
              "      <th>count</th>\n",
              "      <th>mean</th>\n",
              "      <th>std</th>\n",
              "      <th>min</th>\n",
              "      <th>25%</th>\n",
              "      <th>50%</th>\n",
              "      <th>75%</th>\n",
              "      <th>max</th>\n",
              "    </tr>\n",
              "    <tr>\n",
              "      <th>Bairro</th>\n",
              "      <th></th>\n",
              "      <th></th>\n",
              "      <th></th>\n",
              "      <th></th>\n",
              "      <th></th>\n",
              "      <th></th>\n",
              "      <th></th>\n",
              "      <th></th>\n",
              "    </tr>\n",
              "  </thead>\n",
              "  <tbody>\n",
              "    <tr>\n",
              "      <th>Barra da Tijuca</th>\n",
              "      <td>3863.0</td>\n",
              "      <td>7069.55</td>\n",
              "      <td>11874.15</td>\n",
              "      <td>800.0</td>\n",
              "      <td>2500.0</td>\n",
              "      <td>4500.0</td>\n",
              "      <td>8500.0</td>\n",
              "      <td>600000.0</td>\n",
              "    </tr>\n",
              "    <tr>\n",
              "      <th>Botafogo</th>\n",
              "      <td>873.0</td>\n",
              "      <td>8791.83</td>\n",
              "      <td>152202.41</td>\n",
              "      <td>700.0</td>\n",
              "      <td>2200.0</td>\n",
              "      <td>3000.0</td>\n",
              "      <td>4350.0</td>\n",
              "      <td>4500000.0</td>\n",
              "    </tr>\n",
              "    <tr>\n",
              "      <th>Copacabana</th>\n",
              "      <td>2644.0</td>\n",
              "      <td>4126.68</td>\n",
              "      <td>3611.41</td>\n",
              "      <td>100.0</td>\n",
              "      <td>2000.0</td>\n",
              "      <td>3000.0</td>\n",
              "      <td>4800.0</td>\n",
              "      <td>35000.0</td>\n",
              "    </tr>\n",
              "    <tr>\n",
              "      <th>Flamengo</th>\n",
              "      <td>714.0</td>\n",
              "      <td>4113.53</td>\n",
              "      <td>3839.13</td>\n",
              "      <td>800.0</td>\n",
              "      <td>1900.0</td>\n",
              "      <td>2900.0</td>\n",
              "      <td>4975.0</td>\n",
              "      <td>35000.0</td>\n",
              "    </tr>\n",
              "    <tr>\n",
              "      <th>Ipanema</th>\n",
              "      <td>1764.0</td>\n",
              "      <td>9352.00</td>\n",
              "      <td>8219.72</td>\n",
              "      <td>1200.0</td>\n",
              "      <td>4500.0</td>\n",
              "      <td>7000.0</td>\n",
              "      <td>11000.0</td>\n",
              "      <td>90000.0</td>\n",
              "    </tr>\n",
              "    <tr>\n",
              "      <th>Leblon</th>\n",
              "      <td>1258.0</td>\n",
              "      <td>8746.34</td>\n",
              "      <td>7004.04</td>\n",
              "      <td>100.0</td>\n",
              "      <td>4500.0</td>\n",
              "      <td>7000.0</td>\n",
              "      <td>10500.0</td>\n",
              "      <td>100000.0</td>\n",
              "    </tr>\n",
              "    <tr>\n",
              "      <th>Tijuca</th>\n",
              "      <td>1100.0</td>\n",
              "      <td>2043.52</td>\n",
              "      <td>1664.34</td>\n",
              "      <td>750.0</td>\n",
              "      <td>1500.0</td>\n",
              "      <td>1800.0</td>\n",
              "      <td>2300.0</td>\n",
              "      <td>45000.0</td>\n",
              "    </tr>\n",
              "  </tbody>\n",
              "</table>\n",
              "</div>"
            ],
            "text/plain": [
              "                  count     mean        std  ...     50%      75%        max\n",
              "Bairro                                       ...                            \n",
              "Barra da Tijuca  3863.0  7069.55   11874.15  ...  4500.0   8500.0   600000.0\n",
              "Botafogo          873.0  8791.83  152202.41  ...  3000.0   4350.0  4500000.0\n",
              "Copacabana       2644.0  4126.68    3611.41  ...  3000.0   4800.0    35000.0\n",
              "Flamengo          714.0  4113.53    3839.13  ...  2900.0   4975.0    35000.0\n",
              "Ipanema          1764.0  9352.00    8219.72  ...  7000.0  11000.0    90000.0\n",
              "Leblon           1258.0  8746.34    7004.04  ...  7000.0  10500.0   100000.0\n",
              "Tijuca           1100.0  2043.52    1664.34  ...  1800.0   2300.0    45000.0\n",
              "\n",
              "[7 rows x 8 columns]"
            ]
          },
          "metadata": {
            "tags": []
          },
          "execution_count": 570
        }
      ]
    },
    {
      "cell_type": "code",
      "metadata": {
        "colab": {
          "base_uri": "https://localhost:8080/",
          "height": 297
        },
        "id": "YKuEQHE9mzow",
        "outputId": "30607350-0107-43a7-e68c-edc6ab959d51"
      },
      "source": [
        "# aqui se só desejo algumas das estatísticas descritivas\r\n",
        "grupo_bairro['Valor'].aggregate(['min', 'max', 'sum'])"
      ],
      "execution_count": null,
      "outputs": [
        {
          "output_type": "execute_result",
          "data": {
            "text/html": [
              "<div>\n",
              "<style scoped>\n",
              "    .dataframe tbody tr th:only-of-type {\n",
              "        vertical-align: middle;\n",
              "    }\n",
              "\n",
              "    .dataframe tbody tr th {\n",
              "        vertical-align: top;\n",
              "    }\n",
              "\n",
              "    .dataframe thead th {\n",
              "        text-align: right;\n",
              "    }\n",
              "</style>\n",
              "<table border=\"1\" class=\"dataframe\">\n",
              "  <thead>\n",
              "    <tr style=\"text-align: right;\">\n",
              "      <th></th>\n",
              "      <th>min</th>\n",
              "      <th>max</th>\n",
              "      <th>sum</th>\n",
              "    </tr>\n",
              "    <tr>\n",
              "      <th>Bairro</th>\n",
              "      <th></th>\n",
              "      <th></th>\n",
              "      <th></th>\n",
              "    </tr>\n",
              "  </thead>\n",
              "  <tbody>\n",
              "    <tr>\n",
              "      <th>Barra da Tijuca</th>\n",
              "      <td>800.0</td>\n",
              "      <td>600000.0</td>\n",
              "      <td>27309683.0</td>\n",
              "    </tr>\n",
              "    <tr>\n",
              "      <th>Botafogo</th>\n",
              "      <td>700.0</td>\n",
              "      <td>4500000.0</td>\n",
              "      <td>7675266.0</td>\n",
              "    </tr>\n",
              "    <tr>\n",
              "      <th>Copacabana</th>\n",
              "      <td>100.0</td>\n",
              "      <td>35000.0</td>\n",
              "      <td>10910934.0</td>\n",
              "    </tr>\n",
              "    <tr>\n",
              "      <th>Flamengo</th>\n",
              "      <td>800.0</td>\n",
              "      <td>35000.0</td>\n",
              "      <td>2937058.0</td>\n",
              "    </tr>\n",
              "    <tr>\n",
              "      <th>Ipanema</th>\n",
              "      <td>1200.0</td>\n",
              "      <td>90000.0</td>\n",
              "      <td>16496930.0</td>\n",
              "    </tr>\n",
              "    <tr>\n",
              "      <th>Leblon</th>\n",
              "      <td>100.0</td>\n",
              "      <td>100000.0</td>\n",
              "      <td>11002902.0</td>\n",
              "    </tr>\n",
              "    <tr>\n",
              "      <th>Tijuca</th>\n",
              "      <td>750.0</td>\n",
              "      <td>45000.0</td>\n",
              "      <td>2247872.0</td>\n",
              "    </tr>\n",
              "  </tbody>\n",
              "</table>\n",
              "</div>"
            ],
            "text/plain": [
              "                    min        max         sum\n",
              "Bairro                                        \n",
              "Barra da Tijuca   800.0   600000.0  27309683.0\n",
              "Botafogo          700.0  4500000.0   7675266.0\n",
              "Copacabana        100.0    35000.0  10910934.0\n",
              "Flamengo          800.0    35000.0   2937058.0\n",
              "Ipanema          1200.0    90000.0  16496930.0\n",
              "Leblon            100.0   100000.0  11002902.0\n",
              "Tijuca            750.0    45000.0   2247872.0"
            ]
          },
          "metadata": {
            "tags": []
          },
          "execution_count": 571
        }
      ]
    },
    {
      "cell_type": "code",
      "metadata": {
        "colab": {
          "base_uri": "https://localhost:8080/",
          "height": 297
        },
        "id": "Asf_sWhZnzn7",
        "outputId": "ee37c434-4b3f-445e-a4c7-b2dc31bec432"
      },
      "source": [
        "# Posso renomear as colunas também\r\n",
        "grupo_bairro['Valor'].aggregate(['min', 'max', 'sum']).rename(columns = {'min': 'Minimo', 'max': 'Maximo', 'sum': 'Soma'})"
      ],
      "execution_count": null,
      "outputs": [
        {
          "output_type": "execute_result",
          "data": {
            "text/html": [
              "<div>\n",
              "<style scoped>\n",
              "    .dataframe tbody tr th:only-of-type {\n",
              "        vertical-align: middle;\n",
              "    }\n",
              "\n",
              "    .dataframe tbody tr th {\n",
              "        vertical-align: top;\n",
              "    }\n",
              "\n",
              "    .dataframe thead th {\n",
              "        text-align: right;\n",
              "    }\n",
              "</style>\n",
              "<table border=\"1\" class=\"dataframe\">\n",
              "  <thead>\n",
              "    <tr style=\"text-align: right;\">\n",
              "      <th></th>\n",
              "      <th>Minimo</th>\n",
              "      <th>Maximo</th>\n",
              "      <th>Soma</th>\n",
              "    </tr>\n",
              "    <tr>\n",
              "      <th>Bairro</th>\n",
              "      <th></th>\n",
              "      <th></th>\n",
              "      <th></th>\n",
              "    </tr>\n",
              "  </thead>\n",
              "  <tbody>\n",
              "    <tr>\n",
              "      <th>Barra da Tijuca</th>\n",
              "      <td>800.0</td>\n",
              "      <td>600000.0</td>\n",
              "      <td>27309683.0</td>\n",
              "    </tr>\n",
              "    <tr>\n",
              "      <th>Botafogo</th>\n",
              "      <td>700.0</td>\n",
              "      <td>4500000.0</td>\n",
              "      <td>7675266.0</td>\n",
              "    </tr>\n",
              "    <tr>\n",
              "      <th>Copacabana</th>\n",
              "      <td>100.0</td>\n",
              "      <td>35000.0</td>\n",
              "      <td>10910934.0</td>\n",
              "    </tr>\n",
              "    <tr>\n",
              "      <th>Flamengo</th>\n",
              "      <td>800.0</td>\n",
              "      <td>35000.0</td>\n",
              "      <td>2937058.0</td>\n",
              "    </tr>\n",
              "    <tr>\n",
              "      <th>Ipanema</th>\n",
              "      <td>1200.0</td>\n",
              "      <td>90000.0</td>\n",
              "      <td>16496930.0</td>\n",
              "    </tr>\n",
              "    <tr>\n",
              "      <th>Leblon</th>\n",
              "      <td>100.0</td>\n",
              "      <td>100000.0</td>\n",
              "      <td>11002902.0</td>\n",
              "    </tr>\n",
              "    <tr>\n",
              "      <th>Tijuca</th>\n",
              "      <td>750.0</td>\n",
              "      <td>45000.0</td>\n",
              "      <td>2247872.0</td>\n",
              "    </tr>\n",
              "  </tbody>\n",
              "</table>\n",
              "</div>"
            ],
            "text/plain": [
              "                 Minimo     Maximo        Soma\n",
              "Bairro                                        \n",
              "Barra da Tijuca   800.0   600000.0  27309683.0\n",
              "Botafogo          700.0  4500000.0   7675266.0\n",
              "Copacabana        100.0    35000.0  10910934.0\n",
              "Flamengo          800.0    35000.0   2937058.0\n",
              "Ipanema          1200.0    90000.0  16496930.0\n",
              "Leblon            100.0   100000.0  11002902.0\n",
              "Tijuca            750.0    45000.0   2247872.0"
            ]
          },
          "metadata": {
            "tags": []
          },
          "execution_count": 572
        }
      ]
    },
    {
      "cell_type": "code",
      "metadata": {
        "id": "KVU6DGvgqP5I"
      },
      "source": [
        "plt.rc('figure', figsize = (20, 10))"
      ],
      "execution_count": null,
      "outputs": []
    },
    {
      "cell_type": "code",
      "metadata": {
        "colab": {
          "base_uri": "https://localhost:8080/",
          "height": 508
        },
        "id": "cKN411JSoK_e",
        "outputId": "1388c1ab-6a65-4915-fd88-8e6576295638"
      },
      "source": [
        "fig = grupo_bairro['Valor'].mean().plot.bar(color = 'blue')\r\n",
        "fig.set_ylabel('Valor do Aluguel')\r\n",
        "fig.set_title('Valor Médio do Aluguel por Bairro', {'fontsize': 22})"
      ],
      "execution_count": null,
      "outputs": [
        {
          "output_type": "execute_result",
          "data": {
            "text/plain": [
              "Text(0.5, 1.0, 'Valor Médio do Aluguel por Bairro')"
            ]
          },
          "metadata": {
            "tags": []
          },
          "execution_count": 574
        },
        {
          "output_type": "display_data",
          "data": {
            "image/png": "[encoded data removed]",
            "text/plain": [
              "<Figure size 1440x720 with 1 Axes>"
            ]
          },
          "metadata": {
            "tags": [],
            "needs_background": "light"
          }
        }
      ]
    },
    {
      "cell_type": "code",
      "metadata": {
        "colab": {
          "base_uri": "https://localhost:8080/",
          "height": 516
        },
        "id": "qGYgtpvrplqs",
        "outputId": "88b31c9e-5979-4e7a-9340-9a6dabc05cbe"
      },
      "source": [
        "fig = grupo_bairro['Valor'].max().plot.bar(color = 'blue')\r\n",
        "fig.set_ylabel('Valor do Aluguel')\r\n",
        "fig.set_title('Valor Máximo do Aluguel por Bairro', {'fontsize': 22})"
      ],
      "execution_count": null,
      "outputs": [
        {
          "output_type": "execute_result",
          "data": {
            "text/plain": [
              "Text(0.5, 1.0, 'Valor Máximo do Aluguel por Bairro')"
            ]
          },
          "metadata": {
            "tags": []
          },
          "execution_count": 575
        },
        {
          "output_type": "display_data",
          "data": {
            "image/png": "[encoded data removed]",
            "text/plain": [
              "<Figure size 1440x720 with 1 Axes>"
            ]
          },
          "metadata": {
            "tags": [],
            "needs_background": "light"
          }
        }
      ]
    },
    {
      "cell_type": "code",
      "metadata": {
        "colab": {
          "base_uri": "https://localhost:8080/",
          "height": 507
        },
        "id": "n5rboFyMrTJ_",
        "outputId": "ffda30cd-4cbf-47fd-d827-b9145aee8a72"
      },
      "source": [
        "fig = grupo_bairro['Valor'].min().plot.bar(color = 'blue')\r\n",
        "fig.set_ylabel('Valor do Aluguel')\r\n",
        "fig.set_title('Valor Minimo do Aluguel por Bairro', {'fontsize': 22})"
      ],
      "execution_count": null,
      "outputs": [
        {
          "output_type": "execute_result",
          "data": {
            "text/plain": [
              "Text(0.5, 1.0, 'Valor Minimo do Aluguel por Bairro')"
            ]
          },
          "metadata": {
            "tags": []
          },
          "execution_count": 576
        },
        {
          "output_type": "display_data",
          "data": {
            "image/png": "[encoded data removed]",
            "text/plain": [
              "<Figure size 1440x720 with 1 Axes>"
            ]
          },
          "metadata": {
            "tags": [],
            "needs_background": "light"
          }
        }
      ]
    },
    {
      "cell_type": "markdown",
      "metadata": {
        "id": "6eCIltF-tvxk"
      },
      "source": [
        "## Faixas de valor (quantidade de quartos)\r\n",
        "\r\n",
        "---\r\n",
        "\r\n",
        "\r\n",
        "1 e 2, 3 e 4, 5 e 6, 7 ou mais"
      ]
    },
    {
      "cell_type": "code",
      "metadata": {
        "id": "XXbY-DaStxtX"
      },
      "source": [
        "# Primeiramente vou criar as classes de valor\r\n",
        "classes = [0, 2, 4, 6, 100]"
      ],
      "execution_count": null,
      "outputs": []
    },
    {
      "cell_type": "code",
      "metadata": {
        "id": "Nie2LzjXxgHj"
      },
      "source": [
        "# O primeiro parametro pede o array que vai ser usado\r\n",
        "# o segundo pede as classes para tais cortes\r\n",
        "quartos = pd.cut(dados['Quartos'], classes)"
      ],
      "execution_count": null,
      "outputs": []
    },
    {
      "cell_type": "code",
      "metadata": {
        "colab": {
          "base_uri": "https://localhost:8080/"
        },
        "id": "A5FHOX1OzA-c",
        "outputId": "0c8fbb1f-4c94-4292-973a-fb2363acf4c9"
      },
      "source": [
        "quartos"
      ],
      "execution_count": null,
      "outputs": [
        {
          "output_type": "execute_result",
          "data": {
            "text/plain": [
              "15       (0, 2]\n",
              "18       (0, 2]\n",
              "20       (0, 2]\n",
              "80       (0, 2]\n",
              "82       (2, 4]\n",
              "          ...  \n",
              "21675    (0, 2]\n",
              "21714    (0, 2]\n",
              "21729    (0, 2]\n",
              "21773    (2, 4]\n",
              "21818    (0, 2]\n",
              "Name: Quartos, Length: 1100, dtype: category\n",
              "Categories (4, interval[int64]): [(0, 2] < (2, 4] < (4, 6] < (6, 100]]"
            ]
          },
          "metadata": {
            "tags": []
          },
          "execution_count": 579
        }
      ]
    },
    {
      "cell_type": "code",
      "metadata": {
        "colab": {
          "base_uri": "https://localhost:8080/"
        },
        "id": "QGBOfFCvzD0Z",
        "outputId": "5d460537-918a-4729-f66d-b230b65b0f1a"
      },
      "source": [
        "pd.value_counts(quartos)"
      ],
      "execution_count": null,
      "outputs": [
        {
          "output_type": "execute_result",
          "data": {
            "text/plain": [
              "(0, 2]      650\n",
              "(2, 4]      439\n",
              "(4, 6]        6\n",
              "(6, 100]      3\n",
              "Name: Quartos, dtype: int64"
            ]
          },
          "metadata": {
            "tags": []
          },
          "execution_count": 580
        }
      ]
    },
    {
      "cell_type": "code",
      "metadata": {
        "id": "NmIa5Qb8zOkC"
      },
      "source": [
        "labels = ['1 e 2 quartos', '3 e 4 quartos', '5 e 6 quartos', '7 quartos ou mais' ]"
      ],
      "execution_count": null,
      "outputs": []
    },
    {
      "cell_type": "code",
      "metadata": {
        "id": "RuLWauJDzpIF"
      },
      "source": [
        "quartos = pd.cut(dados.Quartos, classes, labels = labels)"
      ],
      "execution_count": null,
      "outputs": []
    },
    {
      "cell_type": "code",
      "metadata": {
        "colab": {
          "base_uri": "https://localhost:8080/"
        },
        "id": "tIoxGzRtzqRp",
        "outputId": "06b0de8f-2d85-4358-eb3b-4f025882eda5"
      },
      "source": [
        "pd.value_counts(quartos)"
      ],
      "execution_count": null,
      "outputs": [
        {
          "output_type": "execute_result",
          "data": {
            "text/plain": [
              "1 e 2 quartos        650\n",
              "3 e 4 quartos        439\n",
              "5 e 6 quartos          6\n",
              "7 quartos ou mais      3\n",
              "Name: Quartos, dtype: int64"
            ]
          },
          "metadata": {
            "tags": []
          },
          "execution_count": 583
        }
      ]
    },
    {
      "cell_type": "code",
      "metadata": {
        "id": "sRzE-wrdzthO"
      },
      "source": [
        ""
      ],
      "execution_count": null,
      "outputs": []
    },
    {
      "cell_type": "markdown",
      "metadata": {
        "id": "Fwk8_6qryc1H"
      },
      "source": [
        "# Relatório de Análise VII"
      ]
    },
    {
      "cell_type": "markdown",
      "metadata": {
        "id": "1J0p3a8ayiXs"
      },
      "source": [
        "##Identificando e removendo Outliers\r\n",
        "\r\n",
        "---\r\n",
        "\r\n",
        "“Um outlier é uma observação que se diferencia tanto das demais observações que levanta suspeitas de que aquela observação foi gerada por um mecanismo distinto”"
      ]
    },
    {
      "cell_type": "code",
      "metadata": {
        "id": "j0s0SO1NG8aX"
      },
      "source": [
        "dados = pd.read_csv('/content/aluguel_residencial_tratado.csv', sep = ';')"
      ],
      "execution_count": null,
      "outputs": []
    },
    {
      "cell_type": "code",
      "metadata": {
        "colab": {
          "base_uri": "https://localhost:8080/",
          "height": 455
        },
        "id": "7o-eWRcryhYn",
        "outputId": "8b108e28-1958-485d-e50a-c238e48a06b2"
      },
      "source": [
        "# Visualização está ruim, pois temos alguns valores muito discrepante\r\n",
        "dados.boxplot(['Valor'])"
      ],
      "execution_count": null,
      "outputs": [
        {
          "output_type": "execute_result",
          "data": {
            "text/plain": [
              "<matplotlib.axes._subplots.AxesSubplot at 0x7f4ff475a390>"
            ]
          },
          "metadata": {
            "tags": []
          },
          "execution_count": 585
        },
        {
          "output_type": "display_data",
          "data": {
            "image/png": "[encoded data removed]",
            "text/plain": [
              "<Figure size 1440x720 with 1 Axes>"
            ]
          },
          "metadata": {
            "tags": [],
            "needs_background": "light"
          }
        }
      ]
    },
    {
      "cell_type": "code",
      "metadata": {
        "colab": {
          "base_uri": "https://localhost:8080/",
          "height": 238
        },
        "id": "8_waDZju1zWb",
        "outputId": "e5867a0e-9b6d-4bb5-a614-7b200acec71e"
      },
      "source": [
        "# Primeiro vamos ver todos os dados maiores que  500 mil\r\n",
        "dados.query('Valor >= 500000')"
      ],
      "execution_count": null,
      "outputs": [
        {
          "output_type": "execute_result",
          "data": {
            "text/html": [
              "<div>\n",
              "<style scoped>\n",
              "    .dataframe tbody tr th:only-of-type {\n",
              "        vertical-align: middle;\n",
              "    }\n",
              "\n",
              "    .dataframe tbody tr th {\n",
              "        vertical-align: top;\n",
              "    }\n",
              "\n",
              "    .dataframe thead th {\n",
              "        text-align: right;\n",
              "    }\n",
              "</style>\n",
              "<table border=\"1\" class=\"dataframe\">\n",
              "  <thead>\n",
              "    <tr style=\"text-align: right;\">\n",
              "      <th></th>\n",
              "      <th>Tipo</th>\n",
              "      <th>Bairro</th>\n",
              "      <th>Quartos</th>\n",
              "      <th>Vagas</th>\n",
              "      <th>Suites</th>\n",
              "      <th>Area</th>\n",
              "      <th>Valor</th>\n",
              "      <th>Condominio</th>\n",
              "      <th>IPTU</th>\n",
              "    </tr>\n",
              "  </thead>\n",
              "  <tbody>\n",
              "    <tr>\n",
              "      <th>7629</th>\n",
              "      <td>Apartamento</td>\n",
              "      <td>Barra da Tijuca</td>\n",
              "      <td>1</td>\n",
              "      <td>1</td>\n",
              "      <td>0</td>\n",
              "      <td>65</td>\n",
              "      <td>600000.0</td>\n",
              "      <td>980.0</td>\n",
              "      <td>120.0</td>\n",
              "    </tr>\n",
              "    <tr>\n",
              "      <th>10636</th>\n",
              "      <td>Casa de Condomínio</td>\n",
              "      <td>Freguesia (Jacarepaguá)</td>\n",
              "      <td>4</td>\n",
              "      <td>2</td>\n",
              "      <td>3</td>\n",
              "      <td>163</td>\n",
              "      <td>800000.0</td>\n",
              "      <td>900.0</td>\n",
              "      <td>0.0</td>\n",
              "    </tr>\n",
              "    <tr>\n",
              "      <th>12661</th>\n",
              "      <td>Apartamento</td>\n",
              "      <td>Freguesia (Jacarepaguá)</td>\n",
              "      <td>2</td>\n",
              "      <td>2</td>\n",
              "      <td>1</td>\n",
              "      <td>150</td>\n",
              "      <td>550000.0</td>\n",
              "      <td>850.0</td>\n",
              "      <td>150.0</td>\n",
              "    </tr>\n",
              "    <tr>\n",
              "      <th>13846</th>\n",
              "      <td>Apartamento</td>\n",
              "      <td>Recreio dos Bandeirantes</td>\n",
              "      <td>3</td>\n",
              "      <td>2</td>\n",
              "      <td>1</td>\n",
              "      <td>167</td>\n",
              "      <td>1250000.0</td>\n",
              "      <td>1186.0</td>\n",
              "      <td>320.0</td>\n",
              "    </tr>\n",
              "    <tr>\n",
              "      <th>15520</th>\n",
              "      <td>Apartamento</td>\n",
              "      <td>Botafogo</td>\n",
              "      <td>4</td>\n",
              "      <td>1</td>\n",
              "      <td>1</td>\n",
              "      <td>300</td>\n",
              "      <td>4500000.0</td>\n",
              "      <td>1100.0</td>\n",
              "      <td>0.0</td>\n",
              "    </tr>\n",
              "  </tbody>\n",
              "</table>\n",
              "</div>"
            ],
            "text/plain": [
              "                     Tipo                    Bairro  ...  Condominio   IPTU\n",
              "7629          Apartamento           Barra da Tijuca  ...       980.0  120.0\n",
              "10636  Casa de Condomínio   Freguesia (Jacarepaguá)  ...       900.0    0.0\n",
              "12661         Apartamento   Freguesia (Jacarepaguá)  ...       850.0  150.0\n",
              "13846         Apartamento  Recreio dos Bandeirantes  ...      1186.0  320.0\n",
              "15520         Apartamento                  Botafogo  ...      1100.0    0.0\n",
              "\n",
              "[5 rows x 9 columns]"
            ]
          },
          "metadata": {
            "tags": []
          },
          "execution_count": 586
        }
      ]
    },
    {
      "cell_type": "code",
      "metadata": {
        "id": "0chDBGjYIUgT"
      },
      "source": [
        "valor = dados['Valor']"
      ],
      "execution_count": null,
      "outputs": []
    },
    {
      "cell_type": "markdown",
      "metadata": {
        "id": "1LBwlcwgA_UX"
      },
      "source": [
        "![compressed_box-plot.png](data:image/png;base64,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)"
      ]
    },
    {
      "cell_type": "markdown",
      "metadata": {
        "id": "3thjD8deMr2B"
      },
      "source": [
        "O QUE EU FIZ?\r\n",
        "\r\n",
        "---\r\n",
        "\r\n",
        "*   Primeiramente, retirei as medidas dos Q1 e Q3, como mostram nos gráficos\r\n",
        "*   Depois disso, calculei a medida do IIQ, que é a diferença do Q1 para o Q3\r\n",
        "*   Sendo assim, precisei calcular os limites inferior e superior, que representam até onde vão os dados sem os outliers\r\n",
        "*   Apartir disso, fiz uma seleção apartir desses limites, e utilizei essa para retirar os dados discrepantes   \r\n",
        "\r\n",
        "\r\n"
      ]
    },
    {
      "cell_type": "code",
      "metadata": {
        "id": "lHAELjdkIi4V"
      },
      "source": [
        "Q1 = valor.quantile(.25)\r\n",
        "Q3 = valor.quantile(.75)\r\n",
        "IIQ = Q3 - Q1\r\n",
        "limite_inferior = Q1 - 1.5 * IIQ\r\n",
        "limite_superior = Q3 + 1.3 * IIQ"
      ],
      "execution_count": null,
      "outputs": []
    },
    {
      "cell_type": "code",
      "metadata": {
        "id": "Iquj0f1mJJ6t"
      },
      "source": [
        "selecao = (valor >= limite_inferior) & (valor <= limite_superior)"
      ],
      "execution_count": null,
      "outputs": []
    },
    {
      "cell_type": "code",
      "metadata": {
        "id": "r8Vqakf8J6kw"
      },
      "source": [
        "dados_new = dados[selecao]"
      ],
      "execution_count": null,
      "outputs": []
    },
    {
      "cell_type": "code",
      "metadata": {
        "colab": {
          "base_uri": "https://localhost:8080/",
          "height": 439
        },
        "id": "8E_cZwbSKX_h",
        "outputId": "fbd90d30-976f-46dc-e9da-d8ca5e3c6f84"
      },
      "source": [
        "dados_new.boxplot(['Valor'])"
      ],
      "execution_count": null,
      "outputs": [
        {
          "output_type": "execute_result",
          "data": {
            "text/plain": [
              "<matplotlib.axes._subplots.AxesSubplot at 0x7f4ff46bca10>"
            ]
          },
          "metadata": {
            "tags": []
          },
          "execution_count": 591
        },
        {
          "output_type": "display_data",
          "data": {
            "image/png": "[encoded data removed]",
            "text/plain": [
              "<Figure size 1440x720 with 1 Axes>"
            ]
          },
          "metadata": {
            "tags": [],
            "needs_background": "light"
          }
        }
      ]
    },
    {
      "cell_type": "code",
      "metadata": {
        "colab": {
          "base_uri": "https://localhost:8080/",
          "height": 893
        },
        "id": "LzalK8cQKe8u",
        "outputId": "656cd571-8859-4306-8fbf-261f1ef6e673"
      },
      "source": [
        "# Esses dois histogramas mostra a diferença na distribuição dos dados com e sem os antigos outliers\r\n",
        "dados.hist(['Valor'])\r\n",
        "dados_new.hist(['Valor'])"
      ],
      "execution_count": null,
      "outputs": [
        {
          "output_type": "execute_result",
          "data": {
            "text/plain": [
              "array([[<matplotlib.axes._subplots.AxesSubplot object at 0x7f4ff45f9210>]],\n",
              "      dtype=object)"
            ]
          },
          "metadata": {
            "tags": []
          },
          "execution_count": 592
        },
        {
          "output_type": "display_data",
          "data": {
            "image/png": "[encoded data removed]",
            "text/plain": [
              "<Figure size 1440x720 with 1 Axes>"
            ]
          },
          "metadata": {
            "tags": [],
            "needs_background": "light"
          }
        },
        {
          "output_type": "display_data",
          "data": {
            "image/png": "[encoded data removed]",
            "text/plain": [
              "<Figure size 1440x720 with 1 Axes>"
            ]
          },
          "metadata": {
            "tags": [],
            "needs_background": "light"
          }
        }
      ]
    },
    {
      "cell_type": "markdown",
      "metadata": {
        "id": "V5beAdx4eXAk"
      },
      "source": [
        "## Identificando e removendo Outliers (continuação)"
      ]
    },
    {
      "cell_type": "code",
      "metadata": {
        "colab": {
          "base_uri": "https://localhost:8080/",
          "height": 536
        },
        "id": "4ej0WROPeb4U",
        "outputId": "ac3d46b9-a3aa-4b46-fc0f-3a9526fffd77"
      },
      "source": [
        "# A mesma seleção anterior, com os outliers, por grupo\r\n",
        "dados.boxplot(['Valor'], by=['Tipo'])"
      ],
      "execution_count": null,
      "outputs": [
        {
          "output_type": "stream",
          "text": [
            "/usr/local/lib/python3.7/dist-packages/numpy/core/_asarray.py:83: VisibleDeprecationWarning: Creating an ndarray from ragged nested sequences (which is a list-or-tuple of lists-or-tuples-or ndarrays with different lengths or shapes) is deprecated. If you meant to do this, you must specify 'dtype=object' when creating the ndarray\n",
            "  return array(a, dtype, copy=False, order=order)\n"
          ],
          "name": "stderr"
        },
        {
          "output_type": "execute_result",
          "data": {
            "text/plain": [
              "<matplotlib.axes._subplots.AxesSubplot at 0x7f4ff453b990>"
            ]
          },
          "metadata": {
            "tags": []
          },
          "execution_count": 593
        },
        {
          "output_type": "display_data",
          "data": {
            "image/png": "[encoded data removed]",
            "text/plain": [
              "<Figure size 1440x720 with 1 Axes>"
            ]
          },
          "metadata": {
            "tags": [],
            "needs_background": "light"
          }
        }
      ]
    },
    {
      "cell_type": "code",
      "metadata": {
        "colab": {
          "base_uri": "https://localhost:8080/",
          "height": 86
        },
        "id": "g2rHbt7Oen6c",
        "outputId": "21701bd1-8e79-401f-deeb-34ded7d2e736"
      },
      "source": [
        "\"\"\"\r\n",
        "- O objetivo será tirar outliers se baseando no boxplot de cada tipo\r\n",
        "- É importante lembrar que se for feito um boxplot para cada tipo, \r\n",
        "algumas particularidades podem ser ignoradas\r\n",
        "- Enquanto um valor pode aparecer como um outlier no boxplot geral, alguns \r\n",
        "desses podem não ser discrepantes se isolados em sua análise particular de cada\r\n",
        "\"\"\""
      ],
      "execution_count": null,
      "outputs": [
        {
          "output_type": "execute_result",
          "data": {
            "application/vnd.google.colaboratory.intrinsic+json": {
              "type": "string"
            },
            "text/plain": [
              "'\\n- O objetivo será tirar outliers se baseando no boxplot de cada tipo\\n- É importante lembrar que se for feito um boxplot para cada tipo, \\nalgumas particularidades podem ser ignoradas\\n- Enquanto um valor pode aparecer como um outlier no boxplot geral, alguns \\ndesses podem não ser discrepantes se isolados em sua análise particular de cada\\n'"
            ]
          },
          "metadata": {
            "tags": []
          },
          "execution_count": 594
        }
      ]
    },
    {
      "cell_type": "code",
      "metadata": {
        "id": "7WDFtIvakqwr"
      },
      "source": [
        "#Agrupando por tipo somente na variável \"Valor\"\r\n",
        "grupo_tipo = dados.groupby('Tipo')['Valor']"
      ],
      "execution_count": null,
      "outputs": []
    },
    {
      "cell_type": "code",
      "metadata": {
        "colab": {
          "base_uri": "https://localhost:8080/"
        },
        "id": "qimSzpmJkwdj",
        "outputId": "819c3349-a2ff-4b13-dbc8-acf1cd3ccc8a"
      },
      "source": [
        "type(grupo_tipo)"
      ],
      "execution_count": null,
      "outputs": [
        {
          "output_type": "execute_result",
          "data": {
            "text/plain": [
              "pandas.core.groupby.generic.SeriesGroupBy"
            ]
          },
          "metadata": {
            "tags": []
          },
          "execution_count": 596
        }
      ]
    },
    {
      "cell_type": "code",
      "metadata": {
        "colab": {
          "base_uri": "https://localhost:8080/"
        },
        "id": "9ApW8fjilNa_",
        "outputId": "a6294608-71dd-4c03-cb68-cba8d02c5d10"
      },
      "source": [
        "for tipo, data in grupo_tipo:\r\n",
        "  print(tipo)"
      ],
      "execution_count": null,
      "outputs": [
        {
          "output_type": "stream",
          "text": [
            "Apartamento\n",
            "Casa\n",
            "Casa de Condomínio\n",
            "Casa de Vila\n",
            "Quitinete\n"
          ],
          "name": "stdout"
        }
      ]
    },
    {
      "cell_type": "code",
      "metadata": {
        "id": "JEg4Xq79lmqG"
      },
      "source": [
        "Q1 = grupo_tipo.quantile(.25)\r\n",
        "Q3 = grupo_tipo.quantile(.75)\r\n",
        "IIQ = Q3 - Q1\r\n",
        "limite_inferior = Q1 - 1.5 * IIQ\r\n",
        "limite_superior = Q3 + 1.3 * IIQ"
      ],
      "execution_count": null,
      "outputs": []
    },
    {
      "cell_type": "code",
      "metadata": {
        "colab": {
          "base_uri": "https://localhost:8080/"
        },
        "id": "5BW82muAmzWU",
        "outputId": "3a156113-5d34-48db-8d80-f728cdbb37f0"
      },
      "source": [
        "#nota-se que os valores agoras são separados por tipo\r\n",
        "limite_superior"
      ],
      "execution_count": null,
      "outputs": [
        {
          "output_type": "execute_result",
          "data": {
            "text/plain": [
              "Tipo\n",
              "Apartamento            9290.0\n",
              "Casa                  21110.0\n",
              "Casa de Condomínio    29875.0\n",
              "Casa de Vila           3165.0\n",
              "Quitinete              2280.0\n",
              "Name: Valor, dtype: float64"
            ]
          },
          "metadata": {
            "tags": []
          },
          "execution_count": 599
        }
      ]
    },
    {
      "cell_type": "code",
      "metadata": {
        "colab": {
          "base_uri": "https://localhost:8080/"
        },
        "id": "jiNE8N8vm-B7",
        "outputId": "fb14f802-7f4f-40bd-94bd-7b4922394f7b"
      },
      "source": [
        "limite_superior['Apartamento']"
      ],
      "execution_count": null,
      "outputs": [
        {
          "output_type": "execute_result",
          "data": {
            "text/plain": [
              "9290.0"
            ]
          },
          "metadata": {
            "tags": []
          },
          "execution_count": 600
        }
      ]
    },
    {
      "cell_type": "code",
      "metadata": {
        "id": "2CB8m4NdnD-p"
      },
      "source": [
        "# o método .keys() pega as chaves do dicionario\r\n",
        "\r\n",
        "dados_new = pd.DataFrame()\r\n",
        "\r\n",
        "for tipo in grupo_tipo.groups.keys():\r\n",
        "    eh_tipo = dados['Tipo'] == tipo\r\n",
        "    eh_dentro_limite = (dados['Valor'] >= limite_inferior[tipo]) & (dados['Valor'] <= limite_superior[tipo])\r\n",
        "    selecao = eh_tipo & eh_dentro_limite\r\n",
        "    dados_selecao = dados[selecao]\r\n",
        "    dados_new = pd.concat([dados_new, dados_selecao])"
      ],
      "execution_count": null,
      "outputs": []
    },
    {
      "cell_type": "code",
      "metadata": {
        "colab": {
          "base_uri": "https://localhost:8080/",
          "height": 526
        },
        "id": "L6TI93H5nxoL",
        "outputId": "fd057727-9f5e-40a4-b3a4-023b202ed4b6"
      },
      "source": [
        "dados_new.boxplot(['Valor'], by=['Tipo'])"
      ],
      "execution_count": null,
      "outputs": [
        {
          "output_type": "stream",
          "text": [
            "/usr/local/lib/python3.7/dist-packages/numpy/core/_asarray.py:83: VisibleDeprecationWarning: Creating an ndarray from ragged nested sequences (which is a list-or-tuple of lists-or-tuples-or ndarrays with different lengths or shapes) is deprecated. If you meant to do this, you must specify 'dtype=object' when creating the ndarray\n",
            "  return array(a, dtype, copy=False, order=order)\n"
          ],
          "name": "stderr"
        },
        {
          "output_type": "execute_result",
          "data": {
            "text/plain": [
              "<matplotlib.axes._subplots.AxesSubplot at 0x7f4ff9dc1b90>"
            ]
          },
          "metadata": {
            "tags": []
          },
          "execution_count": 602
        },
        {
          "output_type": "display_data",
          "data": {
            "image/png": "[encoded data removed]",
            "text/plain": [
              "<Figure size 1440x720 with 1 Axes>"
            ]
          },
          "metadata": {
            "tags": [],
            "needs_background": "light"
          }
        }
      ]
    },
    {
      "cell_type": "code",
      "metadata": {
        "colab": {
          "base_uri": "https://localhost:8080/",
          "height": 204
        },
        "id": "tQQFS0_6sVY-",
        "outputId": "f0fcd5c2-a66c-421e-d900-2f7cde135796"
      },
      "source": [
        "dados_new.to_csv('/content/aluguel_residencial_sem_outliers.csv', sep = ';', index = False)\r\n",
        "dados_extra = pd.read_csv('/content/aluguel_residencial_sem_outliers.csv', sep = ';')\r\n",
        "dados_extra.head()"
      ],
      "execution_count": null,
      "outputs": [
        {
          "output_type": "execute_result",
          "data": {
            "text/html": [
              "<div>\n",
              "<style scoped>\n",
              "    .dataframe tbody tr th:only-of-type {\n",
              "        vertical-align: middle;\n",
              "    }\n",
              "\n",
              "    .dataframe tbody tr th {\n",
              "        vertical-align: top;\n",
              "    }\n",
              "\n",
              "    .dataframe thead th {\n",
              "        text-align: right;\n",
              "    }\n",
              "</style>\n",
              "<table border=\"1\" class=\"dataframe\">\n",
              "  <thead>\n",
              "    <tr style=\"text-align: right;\">\n",
              "      <th></th>\n",
              "      <th>Tipo</th>\n",
              "      <th>Bairro</th>\n",
              "      <th>Quartos</th>\n",
              "      <th>Vagas</th>\n",
              "      <th>Suites</th>\n",
              "      <th>Area</th>\n",
              "      <th>Valor</th>\n",
              "      <th>Condominio</th>\n",
              "      <th>IPTU</th>\n",
              "    </tr>\n",
              "  </thead>\n",
              "  <tbody>\n",
              "    <tr>\n",
              "      <th>0</th>\n",
              "      <td>Apartamento</td>\n",
              "      <td>Centro</td>\n",
              "      <td>1</td>\n",
              "      <td>0</td>\n",
              "      <td>0</td>\n",
              "      <td>15</td>\n",
              "      <td>800.0</td>\n",
              "      <td>390.0</td>\n",
              "      <td>20.0</td>\n",
              "    </tr>\n",
              "    <tr>\n",
              "      <th>1</th>\n",
              "      <td>Apartamento</td>\n",
              "      <td>Higienópolis</td>\n",
              "      <td>1</td>\n",
              "      <td>0</td>\n",
              "      <td>0</td>\n",
              "      <td>48</td>\n",
              "      <td>800.0</td>\n",
              "      <td>230.0</td>\n",
              "      <td>0.0</td>\n",
              "    </tr>\n",
              "    <tr>\n",
              "      <th>2</th>\n",
              "      <td>Apartamento</td>\n",
              "      <td>Cachambi</td>\n",
              "      <td>2</td>\n",
              "      <td>0</td>\n",
              "      <td>0</td>\n",
              "      <td>50</td>\n",
              "      <td>1300.0</td>\n",
              "      <td>301.0</td>\n",
              "      <td>17.0</td>\n",
              "    </tr>\n",
              "    <tr>\n",
              "      <th>3</th>\n",
              "      <td>Apartamento</td>\n",
              "      <td>Grajaú</td>\n",
              "      <td>2</td>\n",
              "      <td>1</td>\n",
              "      <td>0</td>\n",
              "      <td>70</td>\n",
              "      <td>1500.0</td>\n",
              "      <td>642.0</td>\n",
              "      <td>74.0</td>\n",
              "    </tr>\n",
              "    <tr>\n",
              "      <th>4</th>\n",
              "      <td>Apartamento</td>\n",
              "      <td>Lins de Vasconcelos</td>\n",
              "      <td>3</td>\n",
              "      <td>1</td>\n",
              "      <td>1</td>\n",
              "      <td>90</td>\n",
              "      <td>1500.0</td>\n",
              "      <td>455.0</td>\n",
              "      <td>14.0</td>\n",
              "    </tr>\n",
              "  </tbody>\n",
              "</table>\n",
              "</div>"
            ],
            "text/plain": [
              "          Tipo               Bairro  Quartos  ...   Valor  Condominio  IPTU\n",
              "0  Apartamento               Centro        1  ...   800.0       390.0  20.0\n",
              "1  Apartamento         Higienópolis        1  ...   800.0       230.0   0.0\n",
              "2  Apartamento             Cachambi        2  ...  1300.0       301.0  17.0\n",
              "3  Apartamento               Grajaú        2  ...  1500.0       642.0  74.0\n",
              "4  Apartamento  Lins de Vasconcelos        3  ...  1500.0       455.0  14.0\n",
              "\n",
              "[5 rows x 9 columns]"
            ]
          },
          "metadata": {
            "tags": []
          },
          "execution_count": 603
        }
      ]
    },
    {
      "cell_type": "markdown",
      "metadata": {
        "id": "cAETWx_X1pGU"
      },
      "source": [
        "#(EXTRA) Mais sobre gráficos"
      ]
    },
    {
      "cell_type": "code",
      "metadata": {
        "id": "l7N7BhTm1tgI"
      },
      "source": [
        "%matplotlib inline\r\n",
        "plt.rc('figure', figsize = (15,8))"
      ],
      "execution_count": null,
      "outputs": []
    },
    {
      "cell_type": "code",
      "metadata": {
        "colab": {
          "base_uri": "https://localhost:8080/",
          "height": 204
        },
        "id": "1Hc_ved-10c9",
        "outputId": "4a44768c-2d49-41fc-e357-f944f68ea672"
      },
      "source": [
        "dados_extra.head()"
      ],
      "execution_count": null,
      "outputs": [
        {
          "output_type": "execute_result",
          "data": {
            "text/html": [
              "<div>\n",
              "<style scoped>\n",
              "    .dataframe tbody tr th:only-of-type {\n",
              "        vertical-align: middle;\n",
              "    }\n",
              "\n",
              "    .dataframe tbody tr th {\n",
              "        vertical-align: top;\n",
              "    }\n",
              "\n",
              "    .dataframe thead th {\n",
              "        text-align: right;\n",
              "    }\n",
              "</style>\n",
              "<table border=\"1\" class=\"dataframe\">\n",
              "  <thead>\n",
              "    <tr style=\"text-align: right;\">\n",
              "      <th></th>\n",
              "      <th>Tipo</th>\n",
              "      <th>Bairro</th>\n",
              "      <th>Quartos</th>\n",
              "      <th>Vagas</th>\n",
              "      <th>Suites</th>\n",
              "      <th>Area</th>\n",
              "      <th>Valor</th>\n",
              "      <th>Condominio</th>\n",
              "      <th>IPTU</th>\n",
              "    </tr>\n",
              "  </thead>\n",
              "  <tbody>\n",
              "    <tr>\n",
              "      <th>0</th>\n",
              "      <td>Apartamento</td>\n",
              "      <td>Centro</td>\n",
              "      <td>1</td>\n",
              "      <td>0</td>\n",
              "      <td>0</td>\n",
              "      <td>15</td>\n",
              "      <td>800.0</td>\n",
              "      <td>390.0</td>\n",
              "      <td>20.0</td>\n",
              "    </tr>\n",
              "    <tr>\n",
              "      <th>1</th>\n",
              "      <td>Apartamento</td>\n",
              "      <td>Higienópolis</td>\n",
              "      <td>1</td>\n",
              "      <td>0</td>\n",
              "      <td>0</td>\n",
              "      <td>48</td>\n",
              "      <td>800.0</td>\n",
              "      <td>230.0</td>\n",
              "      <td>0.0</td>\n",
              "    </tr>\n",
              "    <tr>\n",
              "      <th>2</th>\n",
              "      <td>Apartamento</td>\n",
              "      <td>Cachambi</td>\n",
              "      <td>2</td>\n",
              "      <td>0</td>\n",
              "      <td>0</td>\n",
              "      <td>50</td>\n",
              "      <td>1300.0</td>\n",
              "      <td>301.0</td>\n",
              "      <td>17.0</td>\n",
              "    </tr>\n",
              "    <tr>\n",
              "      <th>3</th>\n",
              "      <td>Apartamento</td>\n",
              "      <td>Grajaú</td>\n",
              "      <td>2</td>\n",
              "      <td>1</td>\n",
              "      <td>0</td>\n",
              "      <td>70</td>\n",
              "      <td>1500.0</td>\n",
              "      <td>642.0</td>\n",
              "      <td>74.0</td>\n",
              "    </tr>\n",
              "    <tr>\n",
              "      <th>4</th>\n",
              "      <td>Apartamento</td>\n",
              "      <td>Lins de Vasconcelos</td>\n",
              "      <td>3</td>\n",
              "      <td>1</td>\n",
              "      <td>1</td>\n",
              "      <td>90</td>\n",
              "      <td>1500.0</td>\n",
              "      <td>455.0</td>\n",
              "      <td>14.0</td>\n",
              "    </tr>\n",
              "  </tbody>\n",
              "</table>\n",
              "</div>"
            ],
            "text/plain": [
              "          Tipo               Bairro  Quartos  ...   Valor  Condominio  IPTU\n",
              "0  Apartamento               Centro        1  ...   800.0       390.0  20.0\n",
              "1  Apartamento         Higienópolis        1  ...   800.0       230.0   0.0\n",
              "2  Apartamento             Cachambi        2  ...  1300.0       301.0  17.0\n",
              "3  Apartamento               Grajaú        2  ...  1500.0       642.0  74.0\n",
              "4  Apartamento  Lins de Vasconcelos        3  ...  1500.0       455.0  14.0\n",
              "\n",
              "[5 rows x 9 columns]"
            ]
          },
          "metadata": {
            "tags": []
          },
          "execution_count": 605
        }
      ]
    },
    {
      "cell_type": "markdown",
      "metadata": {
        "id": "n7ADiCTA2g_w"
      },
      "source": [
        "O objetivo aqui é criar uma visualização de 4 gráficos juntos"
      ]
    },
    {
      "cell_type": "code",
      "metadata": {
        "colab": {
          "base_uri": "https://localhost:8080/",
          "height": 34
        },
        "id": "ZLE7h9jY2IOA",
        "outputId": "e1ba3eb7-c7c2-405f-80f3-f27fd03cca05"
      },
      "source": [
        "# primeiro criamos essa variavel\r\n",
        "area = plt.figure()"
      ],
      "execution_count": null,
      "outputs": [
        {
          "output_type": "display_data",
          "data": {
            "text/plain": [
              "<Figure size 1080x576 with 0 Axes>"
            ]
          },
          "metadata": {
            "tags": []
          }
        }
      ]
    },
    {
      "cell_type": "code",
      "metadata": {
        "id": "kfj_G0Jy2Suf"
      },
      "source": [
        "# depois criamos as variáveis de cada gráfico\r\n",
        "# os parametro significam o numero de linhas e colunas (2 linhas * 2 colunas = 4 gráficos)\r\n",
        "g1 = area.add_subplot(2, 2, 1)\r\n",
        "g2 = area.add_subplot(2, 2, 2)\r\n",
        "g3 = area.add_subplot(2, 2, 3)\r\n",
        "g4 = area.add_subplot(2, 2, 4)"
      ],
      "execution_count": null,
      "outputs": []
    },
    {
      "cell_type": "code",
      "metadata": {
        "colab": {
          "base_uri": "https://localhost:8080/"
        },
        "id": "sYfk7rzA2f8X",
        "outputId": "d447fc54-2630-4748-d5c1-f3aeac6b1598"
      },
      "source": [
        "g1.scatter(dados_extra['Valor'], dados_extra['Area'])\r\n",
        "g1.set_title('Valor X Área')"
      ],
      "execution_count": null,
      "outputs": [
        {
          "output_type": "execute_result",
          "data": {
            "text/plain": [
              "Text(0.5, 1.0, 'Valor X Área')"
            ]
          },
          "metadata": {
            "tags": []
          },
          "execution_count": 608
        }
      ]
    },
    {
      "cell_type": "code",
      "metadata": {
        "colab": {
          "base_uri": "https://localhost:8080/"
        },
        "id": "01AsrVTP3KJI",
        "outputId": "d566a581-1d23-44dc-ff96-8fb7d798ce6c"
      },
      "source": [
        "g2.hist(dados_extra['Valor'])\r\n",
        "g2.set_title('Histograma')"
      ],
      "execution_count": null,
      "outputs": [
        {
          "output_type": "execute_result",
          "data": {
            "text/plain": [
              "Text(0.5, 1.0, 'Histograma')"
            ]
          },
          "metadata": {
            "tags": []
          },
          "execution_count": 609
        }
      ]
    },
    {
      "cell_type": "code",
      "metadata": {
        "colab": {
          "base_uri": "https://localhost:8080/"
        },
        "id": "he8L6uas3NgF",
        "outputId": "7f5e2485-7d15-4b5d-b133-5629269f543b"
      },
      "source": [
        "# Esse método .sample() pega registros aleatórios\r\n",
        "# entretante deixa o index fora de ordem\r\n",
        "dados_g3 = dados_extra.Valor.sample(100) \r\n",
        "dados_g3.index = range(dados_g3.shape[0])\r\n",
        "g3.plot(dados_g3)\r\n",
        "g3.set_title('Amostra (Valor)')"
      ],
      "execution_count": null,
      "outputs": [
        {
          "output_type": "execute_result",
          "data": {
            "text/plain": [
              "Text(0.5, 1.0, 'Amostra (Valor)')"
            ]
          },
          "metadata": {
            "tags": []
          },
          "execution_count": 610
        }
      ]
    },
    {
      "cell_type": "code",
      "metadata": {
        "colab": {
          "base_uri": "https://localhost:8080/"
        },
        "id": "j1YuOE3Z3SgJ",
        "outputId": "0a2866dd-814e-4fc2-c77a-2ffd74d64c6d"
      },
      "source": [
        "grupo = dados_extra.groupby('Tipo')['Valor']\r\n",
        "label = grupo.mean().index\r\n",
        "valores = grupo.mean().values\r\n",
        "g4.bar(label, valores)\r\n",
        "g4.set_title('Valor Médio por Tipo')"
      ],
      "execution_count": null,
      "outputs": [
        {
          "output_type": "execute_result",
          "data": {
            "text/plain": [
              "Text(0.5, 1.0, 'Valor Médio por Tipo')"
            ]
          },
          "metadata": {
            "tags": []
          },
          "execution_count": 611
        }
      ]
    },
    {
      "cell_type": "code",
      "metadata": {
        "colab": {
          "base_uri": "https://localhost:8080/",
          "height": 457
        },
        "id": "VVrhiO_y3VwW",
        "outputId": "90c8c790-4733-402f-c7bd-055cc3ba0299"
      },
      "source": [
        "area"
      ],
      "execution_count": null,
      "outputs": [
        {
          "output_type": "execute_result",
          "data": {
            "image/png": "[encoded data removed]",
            "text/plain": [
              "<Figure size 1080x576 with 4 Axes>"
            ]
          },
          "metadata": {
            "tags": []
          },
          "execution_count": 612
        }
      ]
    },
    {
      "cell_type": "code",
      "metadata": {
        "id": "mqFZ95cA3Whc"
      },
      "source": [
        "# O ultimo parametro retira o máximo possível da borda branca ao redor\r\n",
        "area.savefig('gráfico.png', dpi = 300, bboc_inches = 'tight')"
      ],
      "execution_count": null,
      "outputs": []
    }
  ]
}
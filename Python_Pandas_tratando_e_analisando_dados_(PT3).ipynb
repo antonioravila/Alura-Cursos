{
  "nbformat": 4,
  "nbformat_minor": 0,
  "metadata": {
    "colab": {
      "name": "Python Pandas: tratando e analisando dados (PT3).ipynb",
      "provenance": [],
      "authorship_tag": "ABX9TyMZRRDMBUNlBhWR9Umhayup",
      "include_colab_link": true
    },
    "kernelspec": {
      "name": "python3",
      "display_name": "Python 3"
    }
  },
  "cells": [
    {
      "cell_type": "markdown",
      "metadata": {
        "id": "view-in-github",
        "colab_type": "text"
      },
      "source": [
        "<a href=\"https://colab.research.google.com/github/antonioravila/Alura-Cursos/blob/main/Python_Pandas_tratando_e_analisando_dados_(PT3).ipynb\" target=\"_parent\"><img src=\"https://colab.research.google.com/assets/colab-badge.svg\" alt=\"Open In Colab\"/></a>"
      ]
    },
    {
      "cell_type": "markdown",
      "metadata": {
        "id": "LI0JQTdBxif_"
      },
      "source": [
        "# Relatório de Análise V"
      ]
    },
    {
      "cell_type": "markdown",
      "metadata": {
        "id": "bIBpFYilxx-O"
      },
      "source": [
        "## Tratamento de dados faltantes"
      ]
    },
    {
      "cell_type": "code",
      "metadata": {
        "id": "su2OjaM1xvWc"
      },
      "source": [
        "import pandas as pd"
      ],
      "execution_count": null,
      "outputs": []
    },
    {
      "cell_type": "code",
      "metadata": {
        "id": "vNGk9upQx49v"
      },
      "source": [
        "dados = pd.read_csv('/content/aluguel_residencial.csv', sep = ';')"
      ],
      "execution_count": null,
      "outputs": []
    },
    {
      "cell_type": "code",
      "metadata": {
        "colab": {
          "base_uri": "https://localhost:8080/",
          "height": 359
        },
        "id": "0TkGW7AmyaNo",
        "outputId": "0a9f0b53-4407-40c1-eea5-047d28815fa1"
      },
      "source": [
        "dados.head(10)"
      ],
      "execution_count": null,
      "outputs": [
        {
          "output_type": "execute_result",
          "data": {
            "text/html": [
              "<div>\n",
              "<style scoped>\n",
              "    .dataframe tbody tr th:only-of-type {\n",
              "        vertical-align: middle;\n",
              "    }\n",
              "\n",
              "    .dataframe tbody tr th {\n",
              "        vertical-align: top;\n",
              "    }\n",
              "\n",
              "    .dataframe thead th {\n",
              "        text-align: right;\n",
              "    }\n",
              "</style>\n",
              "<table border=\"1\" class=\"dataframe\">\n",
              "  <thead>\n",
              "    <tr style=\"text-align: right;\">\n",
              "      <th></th>\n",
              "      <th>Tipo</th>\n",
              "      <th>Bairro</th>\n",
              "      <th>Quartos</th>\n",
              "      <th>Vagas</th>\n",
              "      <th>Suites</th>\n",
              "      <th>Area</th>\n",
              "      <th>Valor</th>\n",
              "      <th>Condominio</th>\n",
              "      <th>IPTU</th>\n",
              "    </tr>\n",
              "  </thead>\n",
              "  <tbody>\n",
              "    <tr>\n",
              "      <th>0</th>\n",
              "      <td>Quitinete</td>\n",
              "      <td>Copacabana</td>\n",
              "      <td>1</td>\n",
              "      <td>0</td>\n",
              "      <td>0</td>\n",
              "      <td>40</td>\n",
              "      <td>1700.0</td>\n",
              "      <td>500.0</td>\n",
              "      <td>60.0</td>\n",
              "    </tr>\n",
              "    <tr>\n",
              "      <th>1</th>\n",
              "      <td>Casa</td>\n",
              "      <td>Jardim Botânico</td>\n",
              "      <td>2</td>\n",
              "      <td>0</td>\n",
              "      <td>1</td>\n",
              "      <td>100</td>\n",
              "      <td>7000.0</td>\n",
              "      <td>NaN</td>\n",
              "      <td>NaN</td>\n",
              "    </tr>\n",
              "    <tr>\n",
              "      <th>2</th>\n",
              "      <td>Apartamento</td>\n",
              "      <td>Centro</td>\n",
              "      <td>1</td>\n",
              "      <td>0</td>\n",
              "      <td>0</td>\n",
              "      <td>15</td>\n",
              "      <td>800.0</td>\n",
              "      <td>390.0</td>\n",
              "      <td>20.0</td>\n",
              "    </tr>\n",
              "    <tr>\n",
              "      <th>3</th>\n",
              "      <td>Apartamento</td>\n",
              "      <td>Higienópolis</td>\n",
              "      <td>1</td>\n",
              "      <td>0</td>\n",
              "      <td>0</td>\n",
              "      <td>48</td>\n",
              "      <td>800.0</td>\n",
              "      <td>230.0</td>\n",
              "      <td>NaN</td>\n",
              "    </tr>\n",
              "    <tr>\n",
              "      <th>4</th>\n",
              "      <td>Apartamento</td>\n",
              "      <td>Vista Alegre</td>\n",
              "      <td>3</td>\n",
              "      <td>1</td>\n",
              "      <td>0</td>\n",
              "      <td>70</td>\n",
              "      <td>1200.0</td>\n",
              "      <td>NaN</td>\n",
              "      <td>NaN</td>\n",
              "    </tr>\n",
              "    <tr>\n",
              "      <th>5</th>\n",
              "      <td>Apartamento</td>\n",
              "      <td>Cachambi</td>\n",
              "      <td>2</td>\n",
              "      <td>0</td>\n",
              "      <td>0</td>\n",
              "      <td>50</td>\n",
              "      <td>1300.0</td>\n",
              "      <td>301.0</td>\n",
              "      <td>17.0</td>\n",
              "    </tr>\n",
              "    <tr>\n",
              "      <th>6</th>\n",
              "      <td>Casa de Condomínio</td>\n",
              "      <td>Barra da Tijuca</td>\n",
              "      <td>5</td>\n",
              "      <td>4</td>\n",
              "      <td>5</td>\n",
              "      <td>750</td>\n",
              "      <td>22000.0</td>\n",
              "      <td>NaN</td>\n",
              "      <td>NaN</td>\n",
              "    </tr>\n",
              "    <tr>\n",
              "      <th>7</th>\n",
              "      <td>Casa de Condomínio</td>\n",
              "      <td>Ramos</td>\n",
              "      <td>2</td>\n",
              "      <td>2</td>\n",
              "      <td>0</td>\n",
              "      <td>65</td>\n",
              "      <td>1000.0</td>\n",
              "      <td>NaN</td>\n",
              "      <td>NaN</td>\n",
              "    </tr>\n",
              "    <tr>\n",
              "      <th>8</th>\n",
              "      <td>Apartamento</td>\n",
              "      <td>Centro</td>\n",
              "      <td>1</td>\n",
              "      <td>0</td>\n",
              "      <td>0</td>\n",
              "      <td>36</td>\n",
              "      <td>1200.0</td>\n",
              "      <td>NaN</td>\n",
              "      <td>NaN</td>\n",
              "    </tr>\n",
              "    <tr>\n",
              "      <th>9</th>\n",
              "      <td>Apartamento</td>\n",
              "      <td>Grajaú</td>\n",
              "      <td>2</td>\n",
              "      <td>1</td>\n",
              "      <td>0</td>\n",
              "      <td>70</td>\n",
              "      <td>1500.0</td>\n",
              "      <td>642.0</td>\n",
              "      <td>74.0</td>\n",
              "    </tr>\n",
              "  </tbody>\n",
              "</table>\n",
              "</div>"
            ],
            "text/plain": [
              "                 Tipo           Bairro  Quartos  ...    Valor  Condominio  IPTU\n",
              "0           Quitinete       Copacabana        1  ...   1700.0       500.0  60.0\n",
              "1                Casa  Jardim Botânico        2  ...   7000.0         NaN   NaN\n",
              "2         Apartamento           Centro        1  ...    800.0       390.0  20.0\n",
              "3         Apartamento     Higienópolis        1  ...    800.0       230.0   NaN\n",
              "4         Apartamento     Vista Alegre        3  ...   1200.0         NaN   NaN\n",
              "5         Apartamento         Cachambi        2  ...   1300.0       301.0  17.0\n",
              "6  Casa de Condomínio  Barra da Tijuca        5  ...  22000.0         NaN   NaN\n",
              "7  Casa de Condomínio            Ramos        2  ...   1000.0         NaN   NaN\n",
              "8         Apartamento           Centro        1  ...   1200.0         NaN   NaN\n",
              "9         Apartamento           Grajaú        2  ...   1500.0       642.0  74.0\n",
              "\n",
              "[10 rows x 9 columns]"
            ]
          },
          "metadata": {
            "tags": []
          },
          "execution_count": 197
        }
      ]
    },
    {
      "cell_type": "code",
      "metadata": {
        "id": "bpmiwl5PzG4o"
      },
      "source": [
        "# as duas funções abaixo retornam dataframes com valores booleanos\r\n",
        "# isso acontece de acordo com a presença de valores \"null\""
      ],
      "execution_count": null,
      "outputs": []
    },
    {
      "cell_type": "code",
      "metadata": {
        "colab": {
          "base_uri": "https://localhost:8080/",
          "height": 419
        },
        "id": "SaFopgUnysRM",
        "outputId": "961c437d-8ed8-4ca1-9d72-60ffc812ba34"
      },
      "source": [
        "dados.isnull()"
      ],
      "execution_count": null,
      "outputs": [
        {
          "output_type": "execute_result",
          "data": {
            "text/html": [
              "<div>\n",
              "<style scoped>\n",
              "    .dataframe tbody tr th:only-of-type {\n",
              "        vertical-align: middle;\n",
              "    }\n",
              "\n",
              "    .dataframe tbody tr th {\n",
              "        vertical-align: top;\n",
              "    }\n",
              "\n",
              "    .dataframe thead th {\n",
              "        text-align: right;\n",
              "    }\n",
              "</style>\n",
              "<table border=\"1\" class=\"dataframe\">\n",
              "  <thead>\n",
              "    <tr style=\"text-align: right;\">\n",
              "      <th></th>\n",
              "      <th>Tipo</th>\n",
              "      <th>Bairro</th>\n",
              "      <th>Quartos</th>\n",
              "      <th>Vagas</th>\n",
              "      <th>Suites</th>\n",
              "      <th>Area</th>\n",
              "      <th>Valor</th>\n",
              "      <th>Condominio</th>\n",
              "      <th>IPTU</th>\n",
              "    </tr>\n",
              "  </thead>\n",
              "  <tbody>\n",
              "    <tr>\n",
              "      <th>0</th>\n",
              "      <td>False</td>\n",
              "      <td>False</td>\n",
              "      <td>False</td>\n",
              "      <td>False</td>\n",
              "      <td>False</td>\n",
              "      <td>False</td>\n",
              "      <td>False</td>\n",
              "      <td>False</td>\n",
              "      <td>False</td>\n",
              "    </tr>\n",
              "    <tr>\n",
              "      <th>1</th>\n",
              "      <td>False</td>\n",
              "      <td>False</td>\n",
              "      <td>False</td>\n",
              "      <td>False</td>\n",
              "      <td>False</td>\n",
              "      <td>False</td>\n",
              "      <td>False</td>\n",
              "      <td>True</td>\n",
              "      <td>True</td>\n",
              "    </tr>\n",
              "    <tr>\n",
              "      <th>2</th>\n",
              "      <td>False</td>\n",
              "      <td>False</td>\n",
              "      <td>False</td>\n",
              "      <td>False</td>\n",
              "      <td>False</td>\n",
              "      <td>False</td>\n",
              "      <td>False</td>\n",
              "      <td>False</td>\n",
              "      <td>False</td>\n",
              "    </tr>\n",
              "    <tr>\n",
              "      <th>3</th>\n",
              "      <td>False</td>\n",
              "      <td>False</td>\n",
              "      <td>False</td>\n",
              "      <td>False</td>\n",
              "      <td>False</td>\n",
              "      <td>False</td>\n",
              "      <td>False</td>\n",
              "      <td>False</td>\n",
              "      <td>True</td>\n",
              "    </tr>\n",
              "    <tr>\n",
              "      <th>4</th>\n",
              "      <td>False</td>\n",
              "      <td>False</td>\n",
              "      <td>False</td>\n",
              "      <td>False</td>\n",
              "      <td>False</td>\n",
              "      <td>False</td>\n",
              "      <td>False</td>\n",
              "      <td>True</td>\n",
              "      <td>True</td>\n",
              "    </tr>\n",
              "    <tr>\n",
              "      <th>...</th>\n",
              "      <td>...</td>\n",
              "      <td>...</td>\n",
              "      <td>...</td>\n",
              "      <td>...</td>\n",
              "      <td>...</td>\n",
              "      <td>...</td>\n",
              "      <td>...</td>\n",
              "      <td>...</td>\n",
              "      <td>...</td>\n",
              "    </tr>\n",
              "    <tr>\n",
              "      <th>22575</th>\n",
              "      <td>False</td>\n",
              "      <td>False</td>\n",
              "      <td>False</td>\n",
              "      <td>False</td>\n",
              "      <td>False</td>\n",
              "      <td>False</td>\n",
              "      <td>False</td>\n",
              "      <td>False</td>\n",
              "      <td>False</td>\n",
              "    </tr>\n",
              "    <tr>\n",
              "      <th>22576</th>\n",
              "      <td>False</td>\n",
              "      <td>False</td>\n",
              "      <td>False</td>\n",
              "      <td>False</td>\n",
              "      <td>False</td>\n",
              "      <td>False</td>\n",
              "      <td>False</td>\n",
              "      <td>False</td>\n",
              "      <td>False</td>\n",
              "    </tr>\n",
              "    <tr>\n",
              "      <th>22577</th>\n",
              "      <td>False</td>\n",
              "      <td>False</td>\n",
              "      <td>False</td>\n",
              "      <td>False</td>\n",
              "      <td>False</td>\n",
              "      <td>False</td>\n",
              "      <td>False</td>\n",
              "      <td>False</td>\n",
              "      <td>False</td>\n",
              "    </tr>\n",
              "    <tr>\n",
              "      <th>22578</th>\n",
              "      <td>False</td>\n",
              "      <td>False</td>\n",
              "      <td>False</td>\n",
              "      <td>False</td>\n",
              "      <td>False</td>\n",
              "      <td>False</td>\n",
              "      <td>False</td>\n",
              "      <td>False</td>\n",
              "      <td>False</td>\n",
              "    </tr>\n",
              "    <tr>\n",
              "      <th>22579</th>\n",
              "      <td>False</td>\n",
              "      <td>False</td>\n",
              "      <td>False</td>\n",
              "      <td>False</td>\n",
              "      <td>False</td>\n",
              "      <td>False</td>\n",
              "      <td>False</td>\n",
              "      <td>False</td>\n",
              "      <td>True</td>\n",
              "    </tr>\n",
              "  </tbody>\n",
              "</table>\n",
              "<p>22580 rows × 9 columns</p>\n",
              "</div>"
            ],
            "text/plain": [
              "        Tipo  Bairro  Quartos  Vagas  Suites   Area  Valor  Condominio   IPTU\n",
              "0      False   False    False  False   False  False  False       False  False\n",
              "1      False   False    False  False   False  False  False        True   True\n",
              "2      False   False    False  False   False  False  False       False  False\n",
              "3      False   False    False  False   False  False  False       False   True\n",
              "4      False   False    False  False   False  False  False        True   True\n",
              "...      ...     ...      ...    ...     ...    ...    ...         ...    ...\n",
              "22575  False   False    False  False   False  False  False       False  False\n",
              "22576  False   False    False  False   False  False  False       False  False\n",
              "22577  False   False    False  False   False  False  False       False  False\n",
              "22578  False   False    False  False   False  False  False       False  False\n",
              "22579  False   False    False  False   False  False  False       False   True\n",
              "\n",
              "[22580 rows x 9 columns]"
            ]
          },
          "metadata": {
            "tags": []
          },
          "execution_count": 199
        }
      ]
    },
    {
      "cell_type": "code",
      "metadata": {
        "colab": {
          "base_uri": "https://localhost:8080/",
          "height": 419
        },
        "id": "uLKEm2arywWk",
        "outputId": "45d532d4-6bff-4389-d483-33db44cd8e42"
      },
      "source": [
        "dados.notnull()"
      ],
      "execution_count": null,
      "outputs": [
        {
          "output_type": "execute_result",
          "data": {
            "text/html": [
              "<div>\n",
              "<style scoped>\n",
              "    .dataframe tbody tr th:only-of-type {\n",
              "        vertical-align: middle;\n",
              "    }\n",
              "\n",
              "    .dataframe tbody tr th {\n",
              "        vertical-align: top;\n",
              "    }\n",
              "\n",
              "    .dataframe thead th {\n",
              "        text-align: right;\n",
              "    }\n",
              "</style>\n",
              "<table border=\"1\" class=\"dataframe\">\n",
              "  <thead>\n",
              "    <tr style=\"text-align: right;\">\n",
              "      <th></th>\n",
              "      <th>Tipo</th>\n",
              "      <th>Bairro</th>\n",
              "      <th>Quartos</th>\n",
              "      <th>Vagas</th>\n",
              "      <th>Suites</th>\n",
              "      <th>Area</th>\n",
              "      <th>Valor</th>\n",
              "      <th>Condominio</th>\n",
              "      <th>IPTU</th>\n",
              "    </tr>\n",
              "  </thead>\n",
              "  <tbody>\n",
              "    <tr>\n",
              "      <th>0</th>\n",
              "      <td>True</td>\n",
              "      <td>True</td>\n",
              "      <td>True</td>\n",
              "      <td>True</td>\n",
              "      <td>True</td>\n",
              "      <td>True</td>\n",
              "      <td>True</td>\n",
              "      <td>True</td>\n",
              "      <td>True</td>\n",
              "    </tr>\n",
              "    <tr>\n",
              "      <th>1</th>\n",
              "      <td>True</td>\n",
              "      <td>True</td>\n",
              "      <td>True</td>\n",
              "      <td>True</td>\n",
              "      <td>True</td>\n",
              "      <td>True</td>\n",
              "      <td>True</td>\n",
              "      <td>False</td>\n",
              "      <td>False</td>\n",
              "    </tr>\n",
              "    <tr>\n",
              "      <th>2</th>\n",
              "      <td>True</td>\n",
              "      <td>True</td>\n",
              "      <td>True</td>\n",
              "      <td>True</td>\n",
              "      <td>True</td>\n",
              "      <td>True</td>\n",
              "      <td>True</td>\n",
              "      <td>True</td>\n",
              "      <td>True</td>\n",
              "    </tr>\n",
              "    <tr>\n",
              "      <th>3</th>\n",
              "      <td>True</td>\n",
              "      <td>True</td>\n",
              "      <td>True</td>\n",
              "      <td>True</td>\n",
              "      <td>True</td>\n",
              "      <td>True</td>\n",
              "      <td>True</td>\n",
              "      <td>True</td>\n",
              "      <td>False</td>\n",
              "    </tr>\n",
              "    <tr>\n",
              "      <th>4</th>\n",
              "      <td>True</td>\n",
              "      <td>True</td>\n",
              "      <td>True</td>\n",
              "      <td>True</td>\n",
              "      <td>True</td>\n",
              "      <td>True</td>\n",
              "      <td>True</td>\n",
              "      <td>False</td>\n",
              "      <td>False</td>\n",
              "    </tr>\n",
              "    <tr>\n",
              "      <th>...</th>\n",
              "      <td>...</td>\n",
              "      <td>...</td>\n",
              "      <td>...</td>\n",
              "      <td>...</td>\n",
              "      <td>...</td>\n",
              "      <td>...</td>\n",
              "      <td>...</td>\n",
              "      <td>...</td>\n",
              "      <td>...</td>\n",
              "    </tr>\n",
              "    <tr>\n",
              "      <th>22575</th>\n",
              "      <td>True</td>\n",
              "      <td>True</td>\n",
              "      <td>True</td>\n",
              "      <td>True</td>\n",
              "      <td>True</td>\n",
              "      <td>True</td>\n",
              "      <td>True</td>\n",
              "      <td>True</td>\n",
              "      <td>True</td>\n",
              "    </tr>\n",
              "    <tr>\n",
              "      <th>22576</th>\n",
              "      <td>True</td>\n",
              "      <td>True</td>\n",
              "      <td>True</td>\n",
              "      <td>True</td>\n",
              "      <td>True</td>\n",
              "      <td>True</td>\n",
              "      <td>True</td>\n",
              "      <td>True</td>\n",
              "      <td>True</td>\n",
              "    </tr>\n",
              "    <tr>\n",
              "      <th>22577</th>\n",
              "      <td>True</td>\n",
              "      <td>True</td>\n",
              "      <td>True</td>\n",
              "      <td>True</td>\n",
              "      <td>True</td>\n",
              "      <td>True</td>\n",
              "      <td>True</td>\n",
              "      <td>True</td>\n",
              "      <td>True</td>\n",
              "    </tr>\n",
              "    <tr>\n",
              "      <th>22578</th>\n",
              "      <td>True</td>\n",
              "      <td>True</td>\n",
              "      <td>True</td>\n",
              "      <td>True</td>\n",
              "      <td>True</td>\n",
              "      <td>True</td>\n",
              "      <td>True</td>\n",
              "      <td>True</td>\n",
              "      <td>True</td>\n",
              "    </tr>\n",
              "    <tr>\n",
              "      <th>22579</th>\n",
              "      <td>True</td>\n",
              "      <td>True</td>\n",
              "      <td>True</td>\n",
              "      <td>True</td>\n",
              "      <td>True</td>\n",
              "      <td>True</td>\n",
              "      <td>True</td>\n",
              "      <td>True</td>\n",
              "      <td>False</td>\n",
              "    </tr>\n",
              "  </tbody>\n",
              "</table>\n",
              "<p>22580 rows × 9 columns</p>\n",
              "</div>"
            ],
            "text/plain": [
              "       Tipo  Bairro  Quartos  Vagas  Suites  Area  Valor  Condominio   IPTU\n",
              "0      True    True     True   True    True  True   True        True   True\n",
              "1      True    True     True   True    True  True   True       False  False\n",
              "2      True    True     True   True    True  True   True        True   True\n",
              "3      True    True     True   True    True  True   True        True  False\n",
              "4      True    True     True   True    True  True   True       False  False\n",
              "...     ...     ...      ...    ...     ...   ...    ...         ...    ...\n",
              "22575  True    True     True   True    True  True   True        True   True\n",
              "22576  True    True     True   True    True  True   True        True   True\n",
              "22577  True    True     True   True    True  True   True        True   True\n",
              "22578  True    True     True   True    True  True   True        True   True\n",
              "22579  True    True     True   True    True  True   True        True  False\n",
              "\n",
              "[22580 rows x 9 columns]"
            ]
          },
          "metadata": {
            "tags": []
          },
          "execution_count": 200
        }
      ]
    },
    {
      "cell_type": "code",
      "metadata": {
        "colab": {
          "base_uri": "https://localhost:8080/"
        },
        "id": "15l2wGf2zZbD",
        "outputId": "fb53564f-fae1-4d55-cc62-06c322fe49a4"
      },
      "source": [
        "\"\"\"\r\n",
        "Essa função .info() retorna várias informações sobre o dataframe\r\n",
        "nota-se portanto, que essa função nos informa a quantidade de valores não nulos em\r\n",
        "cada coluna.\r\n",
        "\r\n",
        "\"Non-null count\"\r\n",
        "\"\"\"\r\n",
        "dados.info()"
      ],
      "execution_count": null,
      "outputs": [
        {
          "output_type": "stream",
          "text": [
            "<class 'pandas.core.frame.DataFrame'>\n",
            "RangeIndex: 22580 entries, 0 to 22579\n",
            "Data columns (total 9 columns):\n",
            " #   Column      Non-Null Count  Dtype  \n",
            "---  ------      --------------  -----  \n",
            " 0   Tipo        22580 non-null  object \n",
            " 1   Bairro      22580 non-null  object \n",
            " 2   Quartos     22580 non-null  int64  \n",
            " 3   Vagas       22580 non-null  int64  \n",
            " 4   Suites      22580 non-null  int64  \n",
            " 5   Area        22580 non-null  int64  \n",
            " 6   Valor       22571 non-null  float64\n",
            " 7   Condominio  20765 non-null  float64\n",
            " 8   IPTU        15795 non-null  float64\n",
            "dtypes: float64(3), int64(4), object(2)\n",
            "memory usage: 1.6+ MB\n"
          ],
          "name": "stdout"
        }
      ]
    },
    {
      "cell_type": "code",
      "metadata": {
        "colab": {
          "base_uri": "https://localhost:8080/",
          "height": 328
        },
        "id": "RNNs-w7q2lxU",
        "outputId": "db69aa70-f38f-45d4-be9d-923354d351eb"
      },
      "source": [
        "# é importante lembrar que o colchete aqui está servindo como um selecionador\r\n",
        "# estamos vendo as linhas com os valores nulos na coluna \"Valor\"\r\n",
        "dados[dados['Valor'].isnull()]"
      ],
      "execution_count": null,
      "outputs": [
        {
          "output_type": "execute_result",
          "data": {
            "text/html": [
              "<div>\n",
              "<style scoped>\n",
              "    .dataframe tbody tr th:only-of-type {\n",
              "        vertical-align: middle;\n",
              "    }\n",
              "\n",
              "    .dataframe tbody tr th {\n",
              "        vertical-align: top;\n",
              "    }\n",
              "\n",
              "    .dataframe thead th {\n",
              "        text-align: right;\n",
              "    }\n",
              "</style>\n",
              "<table border=\"1\" class=\"dataframe\">\n",
              "  <thead>\n",
              "    <tr style=\"text-align: right;\">\n",
              "      <th></th>\n",
              "      <th>Tipo</th>\n",
              "      <th>Bairro</th>\n",
              "      <th>Quartos</th>\n",
              "      <th>Vagas</th>\n",
              "      <th>Suites</th>\n",
              "      <th>Area</th>\n",
              "      <th>Valor</th>\n",
              "      <th>Condominio</th>\n",
              "      <th>IPTU</th>\n",
              "    </tr>\n",
              "  </thead>\n",
              "  <tbody>\n",
              "    <tr>\n",
              "      <th>58</th>\n",
              "      <td>Apartamento</td>\n",
              "      <td>Barra da Tijuca</td>\n",
              "      <td>2</td>\n",
              "      <td>1</td>\n",
              "      <td>1</td>\n",
              "      <td>70</td>\n",
              "      <td>NaN</td>\n",
              "      <td>970.0</td>\n",
              "      <td>68.0</td>\n",
              "    </tr>\n",
              "    <tr>\n",
              "      <th>1492</th>\n",
              "      <td>Apartamento</td>\n",
              "      <td>Leme</td>\n",
              "      <td>2</td>\n",
              "      <td>0</td>\n",
              "      <td>0</td>\n",
              "      <td>75</td>\n",
              "      <td>NaN</td>\n",
              "      <td>878.0</td>\n",
              "      <td>NaN</td>\n",
              "    </tr>\n",
              "    <tr>\n",
              "      <th>1683</th>\n",
              "      <td>Casa</td>\n",
              "      <td>Campo Grande</td>\n",
              "      <td>3</td>\n",
              "      <td>4</td>\n",
              "      <td>3</td>\n",
              "      <td>363</td>\n",
              "      <td>NaN</td>\n",
              "      <td>NaN</td>\n",
              "      <td>NaN</td>\n",
              "    </tr>\n",
              "    <tr>\n",
              "      <th>2012</th>\n",
              "      <td>Apartamento</td>\n",
              "      <td>Botafogo</td>\n",
              "      <td>2</td>\n",
              "      <td>0</td>\n",
              "      <td>0</td>\n",
              "      <td>95</td>\n",
              "      <td>NaN</td>\n",
              "      <td>1010.0</td>\n",
              "      <td>170.0</td>\n",
              "    </tr>\n",
              "    <tr>\n",
              "      <th>2034</th>\n",
              "      <td>Apartamento</td>\n",
              "      <td>Copacabana</td>\n",
              "      <td>2</td>\n",
              "      <td>0</td>\n",
              "      <td>0</td>\n",
              "      <td>72</td>\n",
              "      <td>NaN</td>\n",
              "      <td>850.0</td>\n",
              "      <td>NaN</td>\n",
              "    </tr>\n",
              "    <tr>\n",
              "      <th>4941</th>\n",
              "      <td>Casa</td>\n",
              "      <td>Campo Grande</td>\n",
              "      <td>3</td>\n",
              "      <td>2</td>\n",
              "      <td>1</td>\n",
              "      <td>100</td>\n",
              "      <td>NaN</td>\n",
              "      <td>NaN</td>\n",
              "      <td>NaN</td>\n",
              "    </tr>\n",
              "    <tr>\n",
              "      <th>8568</th>\n",
              "      <td>Apartamento</td>\n",
              "      <td>Leme</td>\n",
              "      <td>2</td>\n",
              "      <td>0</td>\n",
              "      <td>1</td>\n",
              "      <td>75</td>\n",
              "      <td>NaN</td>\n",
              "      <td>878.0</td>\n",
              "      <td>NaN</td>\n",
              "    </tr>\n",
              "    <tr>\n",
              "      <th>8947</th>\n",
              "      <td>Apartamento</td>\n",
              "      <td>Glória</td>\n",
              "      <td>3</td>\n",
              "      <td>0</td>\n",
              "      <td>1</td>\n",
              "      <td>135</td>\n",
              "      <td>NaN</td>\n",
              "      <td>910.0</td>\n",
              "      <td>228.0</td>\n",
              "    </tr>\n",
              "    <tr>\n",
              "      <th>9149</th>\n",
              "      <td>Apartamento</td>\n",
              "      <td>Gávea</td>\n",
              "      <td>3</td>\n",
              "      <td>1</td>\n",
              "      <td>1</td>\n",
              "      <td>105</td>\n",
              "      <td>NaN</td>\n",
              "      <td>880.0</td>\n",
              "      <td>221.0</td>\n",
              "    </tr>\n",
              "  </tbody>\n",
              "</table>\n",
              "</div>"
            ],
            "text/plain": [
              "             Tipo           Bairro  Quartos  ...  Valor  Condominio   IPTU\n",
              "58    Apartamento  Barra da Tijuca        2  ...    NaN       970.0   68.0\n",
              "1492  Apartamento             Leme        2  ...    NaN       878.0    NaN\n",
              "1683         Casa     Campo Grande        3  ...    NaN         NaN    NaN\n",
              "2012  Apartamento         Botafogo        2  ...    NaN      1010.0  170.0\n",
              "2034  Apartamento       Copacabana        2  ...    NaN       850.0    NaN\n",
              "4941         Casa     Campo Grande        3  ...    NaN         NaN    NaN\n",
              "8568  Apartamento             Leme        2  ...    NaN       878.0    NaN\n",
              "8947  Apartamento           Glória        3  ...    NaN       910.0  228.0\n",
              "9149  Apartamento            Gávea        3  ...    NaN       880.0  221.0\n",
              "\n",
              "[9 rows x 9 columns]"
            ]
          },
          "metadata": {
            "tags": []
          },
          "execution_count": 202
        }
      ]
    },
    {
      "cell_type": "code",
      "metadata": {
        "id": "s4AdtGF071QD"
      },
      "source": [
        "\"\"\"\r\n",
        "Essa função elimina os valores nulos em uma determinada coluna\r\n",
        "O primeiro parametro seleciona a coluna que sera utilizada\r\n",
        "o segundo parametro, se True, já torna permanente as mudanças dentro do \r\n",
        "dataframe utilizado originalmente na função\r\n",
        "\"\"\"\r\n",
        "dados.dropna(subset=['Valor'], inplace=True)"
      ],
      "execution_count": null,
      "outputs": []
    },
    {
      "cell_type": "code",
      "metadata": {
        "colab": {
          "base_uri": "https://localhost:8080/",
          "height": 49
        },
        "id": "VJPEr9ae74TT",
        "outputId": "6a30ca52-978b-4596-844e-1e8d581fc53f"
      },
      "source": [
        "# Assim podemos checar se a função funcionou\r\n",
        "dados[dados['Valor'].isnull()]"
      ],
      "execution_count": null,
      "outputs": [
        {
          "output_type": "execute_result",
          "data": {
            "text/html": [
              "<div>\n",
              "<style scoped>\n",
              "    .dataframe tbody tr th:only-of-type {\n",
              "        vertical-align: middle;\n",
              "    }\n",
              "\n",
              "    .dataframe tbody tr th {\n",
              "        vertical-align: top;\n",
              "    }\n",
              "\n",
              "    .dataframe thead th {\n",
              "        text-align: right;\n",
              "    }\n",
              "</style>\n",
              "<table border=\"1\" class=\"dataframe\">\n",
              "  <thead>\n",
              "    <tr style=\"text-align: right;\">\n",
              "      <th></th>\n",
              "      <th>Tipo</th>\n",
              "      <th>Bairro</th>\n",
              "      <th>Quartos</th>\n",
              "      <th>Vagas</th>\n",
              "      <th>Suites</th>\n",
              "      <th>Area</th>\n",
              "      <th>Valor</th>\n",
              "      <th>Condominio</th>\n",
              "      <th>IPTU</th>\n",
              "    </tr>\n",
              "  </thead>\n",
              "  <tbody>\n",
              "  </tbody>\n",
              "</table>\n",
              "</div>"
            ],
            "text/plain": [
              "Empty DataFrame\n",
              "Columns: [Tipo, Bairro, Quartos, Vagas, Suites, Area, Valor, Condominio, IPTU]\n",
              "Index: []"
            ]
          },
          "metadata": {
            "tags": []
          },
          "execution_count": 204
        }
      ]
    },
    {
      "cell_type": "markdown",
      "metadata": {
        "id": "DmWzT6_M_wMl"
      },
      "source": [
        "## Tratamento de dados faltantes (continuação)"
      ]
    },
    {
      "cell_type": "code",
      "metadata": {
        "colab": {
          "base_uri": "https://localhost:8080/"
        },
        "id": "_tnQec5r_1nh",
        "outputId": "c7dc9c8f-e1d1-40c6-991d-ac38259c9783"
      },
      "source": [
        "# nota-se que ainda existem valores nulos nas colunas Condominio e IPTU\r\n",
        "dados.info()"
      ],
      "execution_count": null,
      "outputs": [
        {
          "output_type": "stream",
          "text": [
            "<class 'pandas.core.frame.DataFrame'>\n",
            "Int64Index: 22571 entries, 0 to 22579\n",
            "Data columns (total 9 columns):\n",
            " #   Column      Non-Null Count  Dtype  \n",
            "---  ------      --------------  -----  \n",
            " 0   Tipo        22571 non-null  object \n",
            " 1   Bairro      22571 non-null  object \n",
            " 2   Quartos     22571 non-null  int64  \n",
            " 3   Vagas       22571 non-null  int64  \n",
            " 4   Suites      22571 non-null  int64  \n",
            " 5   Area        22571 non-null  int64  \n",
            " 6   Valor       22571 non-null  float64\n",
            " 7   Condominio  20758 non-null  float64\n",
            " 8   IPTU        15791 non-null  float64\n",
            "dtypes: float64(3), int64(4), object(2)\n",
            "memory usage: 1.7+ MB\n"
          ],
          "name": "stdout"
        }
      ]
    },
    {
      "cell_type": "code",
      "metadata": {
        "colab": {
          "base_uri": "https://localhost:8080/"
        },
        "id": "3nTmmnfuFEmk",
        "outputId": "feb9bd2b-34bf-4590-a5ee-3ce09b87c71e"
      },
      "source": [
        "# Quantos condominios nulos temos?\r\n",
        "dados[dados['Condominio'].isnull()].shape[0]"
      ],
      "execution_count": null,
      "outputs": [
        {
          "output_type": "execute_result",
          "data": {
            "text/plain": [
              "1813"
            ]
          },
          "metadata": {
            "tags": []
          },
          "execution_count": 206
        }
      ]
    },
    {
      "cell_type": "code",
      "metadata": {
        "id": "I1AtvIjKFljF"
      },
      "source": [
        "\"\"\"\r\n",
        "Sendo assim, vamos criar uma seleção\r\n",
        "essa deve conter os valores nulos de condominios somente em apartamentos\r\n",
        "casas e outros tipos de imóveis não pagam condominio, deixando clara a razão \r\n",
        "do valor nulo\r\n",
        "\"\"\"\r\n",
        "selecao = (dados['Tipo'] == 'Apartamento') & (dados['Condominio'].isnull())"
      ],
      "execution_count": null,
      "outputs": []
    },
    {
      "cell_type": "code",
      "metadata": {
        "colab": {
          "base_uri": "https://localhost:8080/"
        },
        "id": "FvjX0HrYIjYV",
        "outputId": "eeb3f73b-6905-4a1f-f5f3-09e456e95d0a"
      },
      "source": [
        "\"\"\"\r\n",
        "- Aqui o objetivo é apagar os valores da seleção\r\n",
        "- dessa maneira, primeiramente, na variavel A, foi armazenado a quantidade \r\n",
        "de linhas do primeiro dataframe. \r\n",
        "- Na variavel B, foi armazenado a quantidade de linhas do dataframe após apagar \r\n",
        "os itens da seleção\r\n",
        "- É importante também lembrar que o sinal '~' foi utilizado como maneira de \r\n",
        "reverter os valores da seleção dentro do dataframe, selecionando assim somente os que não fazem parte da seleção prévia\r\n",
        "\"\"\"\r\n",
        "A = dados.shape[0]\r\n",
        "dados = dados[~selecao]\r\n",
        "B = dados.shape[0]\r\n",
        "A - B"
      ],
      "execution_count": null,
      "outputs": [
        {
          "output_type": "execute_result",
          "data": {
            "text/plain": [
              "745"
            ]
          },
          "metadata": {
            "tags": []
          },
          "execution_count": 208
        }
      ]
    },
    {
      "cell_type": "code",
      "metadata": {
        "colab": {
          "base_uri": "https://localhost:8080/"
        },
        "id": "jPOQC3LVJIoB",
        "outputId": "958874b0-c404-433d-b9e8-baa8e7c69c8f"
      },
      "source": [
        "# a diferença pode ser vista aqui também\r\n",
        "dados[dados['Condominio'].isnull()].shape[0]"
      ],
      "execution_count": null,
      "outputs": [
        {
          "output_type": "execute_result",
          "data": {
            "text/plain": [
              "1068"
            ]
          },
          "metadata": {
            "tags": []
          },
          "execution_count": 209
        }
      ]
    },
    {
      "cell_type": "code",
      "metadata": {
        "colab": {
          "base_uri": "https://localhost:8080/"
        },
        "id": "nPh2P5LaJrX8",
        "outputId": "4df219c1-967b-47d0-a1ac-5df248e25de3"
      },
      "source": [
        "# Ainda existem valores nulos em Condominio e IPTU.\r\n",
        "# Sendo assim, ao invés de apaga-los, vamos atribuir um valor a eles\r\n",
        "dados.info()"
      ],
      "execution_count": null,
      "outputs": [
        {
          "output_type": "stream",
          "text": [
            "<class 'pandas.core.frame.DataFrame'>\n",
            "Int64Index: 21826 entries, 0 to 22579\n",
            "Data columns (total 9 columns):\n",
            " #   Column      Non-Null Count  Dtype  \n",
            "---  ------      --------------  -----  \n",
            " 0   Tipo        21826 non-null  object \n",
            " 1   Bairro      21826 non-null  object \n",
            " 2   Quartos     21826 non-null  int64  \n",
            " 3   Vagas       21826 non-null  int64  \n",
            " 4   Suites      21826 non-null  int64  \n",
            " 5   Area        21826 non-null  int64  \n",
            " 6   Valor       21826 non-null  float64\n",
            " 7   Condominio  20758 non-null  float64\n",
            " 8   IPTU        15685 non-null  float64\n",
            "dtypes: float64(3), int64(4), object(2)\n",
            "memory usage: 1.7+ MB\n"
          ],
          "name": "stdout"
        }
      ]
    },
    {
      "cell_type": "code",
      "metadata": {
        "id": "cK5m8t4wLlXN"
      },
      "source": [
        "\"\"\"\r\n",
        "essa função subtitui todos os valores nulos por um valor determinado\r\n",
        "podemos utiliza-la de duas diferente maneiras: \r\n",
        "\r\n",
        "dados.fillna(0, inplace = True)\r\n",
        "\r\n",
        "dados.fillna({'Condominio': 0, 'IPTU': 0}, inplace = True)\r\n",
        "\r\n",
        "A primeira somente admite um valor para todos valores nulos, já a segunda \r\n",
        "subtitui de acordo com cada coluna\r\n",
        "\r\n",
        "\"\"\"\r\n",
        "\r\n",
        "dados.fillna({'Condominio': 0, 'IPTU': 0}, inplace = True)"
      ],
      "execution_count": null,
      "outputs": []
    },
    {
      "cell_type": "code",
      "metadata": {
        "colab": {
          "base_uri": "https://localhost:8080/"
        },
        "id": "x9XEMWriL640",
        "outputId": "80424970-881e-4421-d586-f617eb3688ee"
      },
      "source": [
        "dados.info()"
      ],
      "execution_count": null,
      "outputs": [
        {
          "output_type": "stream",
          "text": [
            "<class 'pandas.core.frame.DataFrame'>\n",
            "Int64Index: 21826 entries, 0 to 22579\n",
            "Data columns (total 9 columns):\n",
            " #   Column      Non-Null Count  Dtype  \n",
            "---  ------      --------------  -----  \n",
            " 0   Tipo        21826 non-null  object \n",
            " 1   Bairro      21826 non-null  object \n",
            " 2   Quartos     21826 non-null  int64  \n",
            " 3   Vagas       21826 non-null  int64  \n",
            " 4   Suites      21826 non-null  int64  \n",
            " 5   Area        21826 non-null  int64  \n",
            " 6   Valor       21826 non-null  float64\n",
            " 7   Condominio  21826 non-null  float64\n",
            " 8   IPTU        21826 non-null  float64\n",
            "dtypes: float64(3), int64(4), object(2)\n",
            "memory usage: 1.7+ MB\n"
          ],
          "name": "stdout"
        }
      ]
    },
    {
      "cell_type": "code",
      "metadata": {
        "colab": {
          "base_uri": "https://localhost:8080/"
        },
        "id": "KLjUSDZ3M9lg",
        "outputId": "f6f01272-c014-4af6-e7ec-06e3953694e6"
      },
      "source": [
        "dados[dados['Condominio'].isnull()].shape[0]"
      ],
      "execution_count": null,
      "outputs": [
        {
          "output_type": "execute_result",
          "data": {
            "text/plain": [
              "0"
            ]
          },
          "metadata": {
            "tags": []
          },
          "execution_count": 213
        }
      ]
    },
    {
      "cell_type": "code",
      "metadata": {
        "colab": {
          "base_uri": "https://localhost:8080/"
        },
        "id": "cHTjS7ZYNOXX",
        "outputId": "5ebf5be0-078f-4c06-80f3-8f615070b9f5"
      },
      "source": [
        "dados[dados['IPTU'].isnull()].shape[0]"
      ],
      "execution_count": null,
      "outputs": [
        {
          "output_type": "execute_result",
          "data": {
            "text/plain": [
              "0"
            ]
          },
          "metadata": {
            "tags": []
          },
          "execution_count": 214
        }
      ]
    },
    {
      "cell_type": "code",
      "metadata": {
        "id": "Ea9Vr8GFOKYC"
      },
      "source": [
        "# Após esse tratamento, preciso tranformar os dados em um arquivo .csv\r\n",
        "dados.to_csv('/content/aluguel_residencial_tratado.csv', sep = ';', index = False)"
      ],
      "execution_count": null,
      "outputs": []
    },
    {
      "cell_type": "markdown",
      "metadata": {
        "id": "4WHXBcnGR5qq"
      },
      "source": [
        "## Exercício"
      ]
    },
    {
      "cell_type": "code",
      "metadata": {
        "id": "sNUXqWzqR7Tt"
      },
      "source": [
        "imoveis = pd.DataFrame([['Apartamento', None, 970, 68], \r\n",
        "                        ['Apartamento', 2000, 878, 112], \r\n",
        "                        ['Casa', 5000, None, 500], \r\n",
        "                        ['Apartamento', None, 1010, 170], \r\n",
        "                        ['Apartamento', 1500, 850, None], \r\n",
        "                        ['Casa', None, None, None], \r\n",
        "                        ['Apartamento', 2000, 878, None], \r\n",
        "                        ['Apartamento', 1550, None, 228], \r\n",
        "                        ['Apartamento', 2500, 880, 195]], \r\n",
        "                        columns = ['Tipo', 'Valor', 'Condominio', 'IPTU'])"
      ],
      "execution_count": null,
      "outputs": []
    },
    {
      "cell_type": "code",
      "metadata": {
        "colab": {
          "base_uri": "https://localhost:8080/",
          "height": 328
        },
        "id": "awNzzansSB7L",
        "outputId": "b39113ab-f74d-419d-dfe2-fafb545fc954"
      },
      "source": [
        "imoveis"
      ],
      "execution_count": null,
      "outputs": [
        {
          "output_type": "execute_result",
          "data": {
            "text/html": [
              "<div>\n",
              "<style scoped>\n",
              "    .dataframe tbody tr th:only-of-type {\n",
              "        vertical-align: middle;\n",
              "    }\n",
              "\n",
              "    .dataframe tbody tr th {\n",
              "        vertical-align: top;\n",
              "    }\n",
              "\n",
              "    .dataframe thead th {\n",
              "        text-align: right;\n",
              "    }\n",
              "</style>\n",
              "<table border=\"1\" class=\"dataframe\">\n",
              "  <thead>\n",
              "    <tr style=\"text-align: right;\">\n",
              "      <th></th>\n",
              "      <th>Tipo</th>\n",
              "      <th>Valor</th>\n",
              "      <th>Condominio</th>\n",
              "      <th>IPTU</th>\n",
              "    </tr>\n",
              "  </thead>\n",
              "  <tbody>\n",
              "    <tr>\n",
              "      <th>0</th>\n",
              "      <td>Apartamento</td>\n",
              "      <td>NaN</td>\n",
              "      <td>970.0</td>\n",
              "      <td>68.0</td>\n",
              "    </tr>\n",
              "    <tr>\n",
              "      <th>1</th>\n",
              "      <td>Apartamento</td>\n",
              "      <td>2000.0</td>\n",
              "      <td>878.0</td>\n",
              "      <td>112.0</td>\n",
              "    </tr>\n",
              "    <tr>\n",
              "      <th>2</th>\n",
              "      <td>Casa</td>\n",
              "      <td>5000.0</td>\n",
              "      <td>NaN</td>\n",
              "      <td>500.0</td>\n",
              "    </tr>\n",
              "    <tr>\n",
              "      <th>3</th>\n",
              "      <td>Apartamento</td>\n",
              "      <td>NaN</td>\n",
              "      <td>1010.0</td>\n",
              "      <td>170.0</td>\n",
              "    </tr>\n",
              "    <tr>\n",
              "      <th>4</th>\n",
              "      <td>Apartamento</td>\n",
              "      <td>1500.0</td>\n",
              "      <td>850.0</td>\n",
              "      <td>NaN</td>\n",
              "    </tr>\n",
              "    <tr>\n",
              "      <th>5</th>\n",
              "      <td>Casa</td>\n",
              "      <td>NaN</td>\n",
              "      <td>NaN</td>\n",
              "      <td>NaN</td>\n",
              "    </tr>\n",
              "    <tr>\n",
              "      <th>6</th>\n",
              "      <td>Apartamento</td>\n",
              "      <td>2000.0</td>\n",
              "      <td>878.0</td>\n",
              "      <td>NaN</td>\n",
              "    </tr>\n",
              "    <tr>\n",
              "      <th>7</th>\n",
              "      <td>Apartamento</td>\n",
              "      <td>1550.0</td>\n",
              "      <td>NaN</td>\n",
              "      <td>228.0</td>\n",
              "    </tr>\n",
              "    <tr>\n",
              "      <th>8</th>\n",
              "      <td>Apartamento</td>\n",
              "      <td>2500.0</td>\n",
              "      <td>880.0</td>\n",
              "      <td>195.0</td>\n",
              "    </tr>\n",
              "  </tbody>\n",
              "</table>\n",
              "</div>"
            ],
            "text/plain": [
              "          Tipo   Valor  Condominio   IPTU\n",
              "0  Apartamento     NaN       970.0   68.0\n",
              "1  Apartamento  2000.0       878.0  112.0\n",
              "2         Casa  5000.0         NaN  500.0\n",
              "3  Apartamento     NaN      1010.0  170.0\n",
              "4  Apartamento  1500.0       850.0    NaN\n",
              "5         Casa     NaN         NaN    NaN\n",
              "6  Apartamento  2000.0       878.0    NaN\n",
              "7  Apartamento  1550.0         NaN  228.0\n",
              "8  Apartamento  2500.0       880.0  195.0"
            ]
          },
          "metadata": {
            "tags": []
          },
          "execution_count": 217
        }
      ]
    },
    {
      "cell_type": "code",
      "metadata": {
        "colab": {
          "base_uri": "https://localhost:8080/",
          "height": 235
        },
        "id": "sqvlwp9oSCnc",
        "outputId": "3560e84c-12e0-4d31-eab6-1ca1dd83aa52"
      },
      "source": [
        "imoveis.dropna(subset = ['Valor'], inplace = True)\r\n",
        "imoveis"
      ],
      "execution_count": null,
      "outputs": [
        {
          "output_type": "execute_result",
          "data": {
            "text/html": [
              "<div>\n",
              "<style scoped>\n",
              "    .dataframe tbody tr th:only-of-type {\n",
              "        vertical-align: middle;\n",
              "    }\n",
              "\n",
              "    .dataframe tbody tr th {\n",
              "        vertical-align: top;\n",
              "    }\n",
              "\n",
              "    .dataframe thead th {\n",
              "        text-align: right;\n",
              "    }\n",
              "</style>\n",
              "<table border=\"1\" class=\"dataframe\">\n",
              "  <thead>\n",
              "    <tr style=\"text-align: right;\">\n",
              "      <th></th>\n",
              "      <th>Tipo</th>\n",
              "      <th>Valor</th>\n",
              "      <th>Condominio</th>\n",
              "      <th>IPTU</th>\n",
              "    </tr>\n",
              "  </thead>\n",
              "  <tbody>\n",
              "    <tr>\n",
              "      <th>1</th>\n",
              "      <td>Apartamento</td>\n",
              "      <td>2000.0</td>\n",
              "      <td>878.0</td>\n",
              "      <td>112.0</td>\n",
              "    </tr>\n",
              "    <tr>\n",
              "      <th>2</th>\n",
              "      <td>Casa</td>\n",
              "      <td>5000.0</td>\n",
              "      <td>NaN</td>\n",
              "      <td>500.0</td>\n",
              "    </tr>\n",
              "    <tr>\n",
              "      <th>4</th>\n",
              "      <td>Apartamento</td>\n",
              "      <td>1500.0</td>\n",
              "      <td>850.0</td>\n",
              "      <td>NaN</td>\n",
              "    </tr>\n",
              "    <tr>\n",
              "      <th>6</th>\n",
              "      <td>Apartamento</td>\n",
              "      <td>2000.0</td>\n",
              "      <td>878.0</td>\n",
              "      <td>NaN</td>\n",
              "    </tr>\n",
              "    <tr>\n",
              "      <th>7</th>\n",
              "      <td>Apartamento</td>\n",
              "      <td>1550.0</td>\n",
              "      <td>NaN</td>\n",
              "      <td>228.0</td>\n",
              "    </tr>\n",
              "    <tr>\n",
              "      <th>8</th>\n",
              "      <td>Apartamento</td>\n",
              "      <td>2500.0</td>\n",
              "      <td>880.0</td>\n",
              "      <td>195.0</td>\n",
              "    </tr>\n",
              "  </tbody>\n",
              "</table>\n",
              "</div>"
            ],
            "text/plain": [
              "          Tipo   Valor  Condominio   IPTU\n",
              "1  Apartamento  2000.0       878.0  112.0\n",
              "2         Casa  5000.0         NaN  500.0\n",
              "4  Apartamento  1500.0       850.0    NaN\n",
              "6  Apartamento  2000.0       878.0    NaN\n",
              "7  Apartamento  1550.0         NaN  228.0\n",
              "8  Apartamento  2500.0       880.0  195.0"
            ]
          },
          "metadata": {
            "tags": []
          },
          "execution_count": 218
        }
      ]
    },
    {
      "cell_type": "code",
      "metadata": {
        "colab": {
          "base_uri": "https://localhost:8080/",
          "height": 204
        },
        "id": "6Kz8VB6fSFN8",
        "outputId": "9ba6d8b6-920d-42a5-dd16-417cab26ee95"
      },
      "source": [
        "selecao = (imoveis['Tipo'] == 'Apartamento') & (imoveis['Condominio'].isnull())\r\n",
        "imoveis = imoveis[~selecao]\r\n",
        "imoveis"
      ],
      "execution_count": null,
      "outputs": [
        {
          "output_type": "execute_result",
          "data": {
            "text/html": [
              "<div>\n",
              "<style scoped>\n",
              "    .dataframe tbody tr th:only-of-type {\n",
              "        vertical-align: middle;\n",
              "    }\n",
              "\n",
              "    .dataframe tbody tr th {\n",
              "        vertical-align: top;\n",
              "    }\n",
              "\n",
              "    .dataframe thead th {\n",
              "        text-align: right;\n",
              "    }\n",
              "</style>\n",
              "<table border=\"1\" class=\"dataframe\">\n",
              "  <thead>\n",
              "    <tr style=\"text-align: right;\">\n",
              "      <th></th>\n",
              "      <th>Tipo</th>\n",
              "      <th>Valor</th>\n",
              "      <th>Condominio</th>\n",
              "      <th>IPTU</th>\n",
              "    </tr>\n",
              "  </thead>\n",
              "  <tbody>\n",
              "    <tr>\n",
              "      <th>1</th>\n",
              "      <td>Apartamento</td>\n",
              "      <td>2000.0</td>\n",
              "      <td>878.0</td>\n",
              "      <td>112.0</td>\n",
              "    </tr>\n",
              "    <tr>\n",
              "      <th>2</th>\n",
              "      <td>Casa</td>\n",
              "      <td>5000.0</td>\n",
              "      <td>NaN</td>\n",
              "      <td>500.0</td>\n",
              "    </tr>\n",
              "    <tr>\n",
              "      <th>4</th>\n",
              "      <td>Apartamento</td>\n",
              "      <td>1500.0</td>\n",
              "      <td>850.0</td>\n",
              "      <td>NaN</td>\n",
              "    </tr>\n",
              "    <tr>\n",
              "      <th>6</th>\n",
              "      <td>Apartamento</td>\n",
              "      <td>2000.0</td>\n",
              "      <td>878.0</td>\n",
              "      <td>NaN</td>\n",
              "    </tr>\n",
              "    <tr>\n",
              "      <th>8</th>\n",
              "      <td>Apartamento</td>\n",
              "      <td>2500.0</td>\n",
              "      <td>880.0</td>\n",
              "      <td>195.0</td>\n",
              "    </tr>\n",
              "  </tbody>\n",
              "</table>\n",
              "</div>"
            ],
            "text/plain": [
              "          Tipo   Valor  Condominio   IPTU\n",
              "1  Apartamento  2000.0       878.0  112.0\n",
              "2         Casa  5000.0         NaN  500.0\n",
              "4  Apartamento  1500.0       850.0    NaN\n",
              "6  Apartamento  2000.0       878.0    NaN\n",
              "8  Apartamento  2500.0       880.0  195.0"
            ]
          },
          "metadata": {
            "tags": []
          },
          "execution_count": 219
        }
      ]
    },
    {
      "cell_type": "code",
      "metadata": {
        "colab": {
          "base_uri": "https://localhost:8080/",
          "height": 204
        },
        "id": "tn-2Ow4lSKe0",
        "outputId": "cd442882-6785-4f8e-85ee-51b02cfd74c8"
      },
      "source": [
        "imoveis = imoveis.fillna({'Condominio': 0, 'IPTU': 0})\r\n",
        "imoveis"
      ],
      "execution_count": null,
      "outputs": [
        {
          "output_type": "execute_result",
          "data": {
            "text/html": [
              "<div>\n",
              "<style scoped>\n",
              "    .dataframe tbody tr th:only-of-type {\n",
              "        vertical-align: middle;\n",
              "    }\n",
              "\n",
              "    .dataframe tbody tr th {\n",
              "        vertical-align: top;\n",
              "    }\n",
              "\n",
              "    .dataframe thead th {\n",
              "        text-align: right;\n",
              "    }\n",
              "</style>\n",
              "<table border=\"1\" class=\"dataframe\">\n",
              "  <thead>\n",
              "    <tr style=\"text-align: right;\">\n",
              "      <th></th>\n",
              "      <th>Tipo</th>\n",
              "      <th>Valor</th>\n",
              "      <th>Condominio</th>\n",
              "      <th>IPTU</th>\n",
              "    </tr>\n",
              "  </thead>\n",
              "  <tbody>\n",
              "    <tr>\n",
              "      <th>1</th>\n",
              "      <td>Apartamento</td>\n",
              "      <td>2000.0</td>\n",
              "      <td>878.0</td>\n",
              "      <td>112.0</td>\n",
              "    </tr>\n",
              "    <tr>\n",
              "      <th>2</th>\n",
              "      <td>Casa</td>\n",
              "      <td>5000.0</td>\n",
              "      <td>0.0</td>\n",
              "      <td>500.0</td>\n",
              "    </tr>\n",
              "    <tr>\n",
              "      <th>4</th>\n",
              "      <td>Apartamento</td>\n",
              "      <td>1500.0</td>\n",
              "      <td>850.0</td>\n",
              "      <td>0.0</td>\n",
              "    </tr>\n",
              "    <tr>\n",
              "      <th>6</th>\n",
              "      <td>Apartamento</td>\n",
              "      <td>2000.0</td>\n",
              "      <td>878.0</td>\n",
              "      <td>0.0</td>\n",
              "    </tr>\n",
              "    <tr>\n",
              "      <th>8</th>\n",
              "      <td>Apartamento</td>\n",
              "      <td>2500.0</td>\n",
              "      <td>880.0</td>\n",
              "      <td>195.0</td>\n",
              "    </tr>\n",
              "  </tbody>\n",
              "</table>\n",
              "</div>"
            ],
            "text/plain": [
              "          Tipo   Valor  Condominio   IPTU\n",
              "1  Apartamento  2000.0       878.0  112.0\n",
              "2         Casa  5000.0         0.0  500.0\n",
              "4  Apartamento  1500.0       850.0    0.0\n",
              "6  Apartamento  2000.0       878.0    0.0\n",
              "8  Apartamento  2500.0       880.0  195.0"
            ]
          },
          "metadata": {
            "tags": []
          },
          "execution_count": 220
        }
      ]
    },
    {
      "cell_type": "code",
      "metadata": {
        "colab": {
          "base_uri": "https://localhost:8080/",
          "height": 204
        },
        "id": "__PyZgi3Sxw1",
        "outputId": "dd8acbb2-6e1d-4cde-9c58-884b29df2d95"
      },
      "source": [
        "imoveis.index = range(imoveis.shape[0])\r\n",
        "imoveis"
      ],
      "execution_count": null,
      "outputs": [
        {
          "output_type": "execute_result",
          "data": {
            "text/html": [
              "<div>\n",
              "<style scoped>\n",
              "    .dataframe tbody tr th:only-of-type {\n",
              "        vertical-align: middle;\n",
              "    }\n",
              "\n",
              "    .dataframe tbody tr th {\n",
              "        vertical-align: top;\n",
              "    }\n",
              "\n",
              "    .dataframe thead th {\n",
              "        text-align: right;\n",
              "    }\n",
              "</style>\n",
              "<table border=\"1\" class=\"dataframe\">\n",
              "  <thead>\n",
              "    <tr style=\"text-align: right;\">\n",
              "      <th></th>\n",
              "      <th>Tipo</th>\n",
              "      <th>Valor</th>\n",
              "      <th>Condominio</th>\n",
              "      <th>IPTU</th>\n",
              "    </tr>\n",
              "  </thead>\n",
              "  <tbody>\n",
              "    <tr>\n",
              "      <th>0</th>\n",
              "      <td>Apartamento</td>\n",
              "      <td>2000.0</td>\n",
              "      <td>878.0</td>\n",
              "      <td>112.0</td>\n",
              "    </tr>\n",
              "    <tr>\n",
              "      <th>1</th>\n",
              "      <td>Casa</td>\n",
              "      <td>5000.0</td>\n",
              "      <td>0.0</td>\n",
              "      <td>500.0</td>\n",
              "    </tr>\n",
              "    <tr>\n",
              "      <th>2</th>\n",
              "      <td>Apartamento</td>\n",
              "      <td>1500.0</td>\n",
              "      <td>850.0</td>\n",
              "      <td>0.0</td>\n",
              "    </tr>\n",
              "    <tr>\n",
              "      <th>3</th>\n",
              "      <td>Apartamento</td>\n",
              "      <td>2000.0</td>\n",
              "      <td>878.0</td>\n",
              "      <td>0.0</td>\n",
              "    </tr>\n",
              "    <tr>\n",
              "      <th>4</th>\n",
              "      <td>Apartamento</td>\n",
              "      <td>2500.0</td>\n",
              "      <td>880.0</td>\n",
              "      <td>195.0</td>\n",
              "    </tr>\n",
              "  </tbody>\n",
              "</table>\n",
              "</div>"
            ],
            "text/plain": [
              "          Tipo   Valor  Condominio   IPTU\n",
              "0  Apartamento  2000.0       878.0  112.0\n",
              "1         Casa  5000.0         0.0  500.0\n",
              "2  Apartamento  1500.0       850.0    0.0\n",
              "3  Apartamento  2000.0       878.0    0.0\n",
              "4  Apartamento  2500.0       880.0  195.0"
            ]
          },
          "metadata": {
            "tags": []
          },
          "execution_count": 221
        }
      ]
    },
    {
      "cell_type": "markdown",
      "metadata": {
        "id": "0GR1rRpeS4kd"
      },
      "source": [
        "## (Extra) Métodos de interpolação"
      ]
    },
    {
      "cell_type": "code",
      "metadata": {
        "id": "NAXO-JeaS8HD"
      },
      "source": [
        "data = [0.5, None, None, 0.52, 0.54, None, None, 0.59, 0.6, None, 0.7]\r\n",
        "s = pd.Series(data)"
      ],
      "execution_count": null,
      "outputs": []
    },
    {
      "cell_type": "code",
      "metadata": {
        "colab": {
          "base_uri": "https://localhost:8080/"
        },
        "id": "uBtt3fUuVnxE",
        "outputId": "b340df5a-bc02-406b-aaf3-eb4fd46fa94e"
      },
      "source": [
        "s"
      ],
      "execution_count": null,
      "outputs": [
        {
          "output_type": "execute_result",
          "data": {
            "text/plain": [
              "0     0.50\n",
              "1      NaN\n",
              "2      NaN\n",
              "3     0.52\n",
              "4     0.54\n",
              "5      NaN\n",
              "6      NaN\n",
              "7     0.59\n",
              "8     0.60\n",
              "9      NaN\n",
              "10    0.70\n",
              "dtype: float64"
            ]
          },
          "metadata": {
            "tags": []
          },
          "execution_count": 223
        }
      ]
    },
    {
      "cell_type": "code",
      "metadata": {
        "colab": {
          "base_uri": "https://localhost:8080/"
        },
        "id": "zFIhXbKIVoKp",
        "outputId": "c50d1965-c098-4634-d3ca-1ff06a871be9"
      },
      "source": [
        "s.fillna(0)"
      ],
      "execution_count": null,
      "outputs": [
        {
          "output_type": "execute_result",
          "data": {
            "text/plain": [
              "0     0.50\n",
              "1     0.00\n",
              "2     0.00\n",
              "3     0.52\n",
              "4     0.54\n",
              "5     0.00\n",
              "6     0.00\n",
              "7     0.59\n",
              "8     0.60\n",
              "9     0.00\n",
              "10    0.70\n",
              "dtype: float64"
            ]
          },
          "metadata": {
            "tags": []
          },
          "execution_count": 224
        }
      ]
    },
    {
      "cell_type": "code",
      "metadata": {
        "colab": {
          "base_uri": "https://localhost:8080/"
        },
        "id": "Ym_fDdwSVrHC",
        "outputId": "9acb0c13-df2c-4213-8e1e-e71a9ad36007"
      },
      "source": [
        "# nesse método, sempre o número anterior, se válido, vai substituir o nulo\r\n",
        "s.fillna(method = 'ffill')"
      ],
      "execution_count": null,
      "outputs": [
        {
          "output_type": "execute_result",
          "data": {
            "text/plain": [
              "0     0.50\n",
              "1     0.50\n",
              "2     0.50\n",
              "3     0.52\n",
              "4     0.54\n",
              "5     0.54\n",
              "6     0.54\n",
              "7     0.59\n",
              "8     0.60\n",
              "9     0.60\n",
              "10    0.70\n",
              "dtype: float64"
            ]
          },
          "metadata": {
            "tags": []
          },
          "execution_count": 225
        }
      ]
    },
    {
      "cell_type": "code",
      "metadata": {
        "colab": {
          "base_uri": "https://localhost:8080/"
        },
        "id": "CbNabRMhVse7",
        "outputId": "7130a839-4e38-4527-f8d9-2731a186b3ac"
      },
      "source": [
        "# esse método faz o mesmo que o anterior, só que de baixo para cima\r\n",
        "s.fillna(method = 'bfill')"
      ],
      "execution_count": null,
      "outputs": [
        {
          "output_type": "execute_result",
          "data": {
            "text/plain": [
              "0     0.50\n",
              "1     0.52\n",
              "2     0.52\n",
              "3     0.52\n",
              "4     0.54\n",
              "5     0.59\n",
              "6     0.59\n",
              "7     0.59\n",
              "8     0.60\n",
              "9     0.70\n",
              "10    0.70\n",
              "dtype: float64"
            ]
          },
          "metadata": {
            "tags": []
          },
          "execution_count": 226
        }
      ]
    },
    {
      "cell_type": "code",
      "metadata": {
        "colab": {
          "base_uri": "https://localhost:8080/"
        },
        "id": "eVNSEAgkZeE1",
        "outputId": "b5a4c028-b1da-4ef1-e924-14babf46d9e4"
      },
      "source": [
        "s"
      ],
      "execution_count": null,
      "outputs": [
        {
          "output_type": "execute_result",
          "data": {
            "text/plain": [
              "0     0.50\n",
              "1      NaN\n",
              "2      NaN\n",
              "3     0.52\n",
              "4     0.54\n",
              "5      NaN\n",
              "6      NaN\n",
              "7     0.59\n",
              "8     0.60\n",
              "9      NaN\n",
              "10    0.70\n",
              "dtype: float64"
            ]
          },
          "metadata": {
            "tags": []
          },
          "execution_count": 227
        }
      ]
    },
    {
      "cell_type": "code",
      "metadata": {
        "colab": {
          "base_uri": "https://localhost:8080/"
        },
        "id": "CYpsvrLqZemG",
        "outputId": "e989abbf-8b32-44bd-dee6-f70e03a5768c"
      },
      "source": [
        "# O parametro limit define a quantidade máxima de valores consecutivos substituidos\r\n",
        "s.fillna(method = 'bfill', limit = 1)"
      ],
      "execution_count": null,
      "outputs": [
        {
          "output_type": "execute_result",
          "data": {
            "text/plain": [
              "0     0.50\n",
              "1      NaN\n",
              "2     0.52\n",
              "3     0.52\n",
              "4     0.54\n",
              "5      NaN\n",
              "6     0.59\n",
              "7     0.59\n",
              "8     0.60\n",
              "9     0.70\n",
              "10    0.70\n",
              "dtype: float64"
            ]
          },
          "metadata": {
            "tags": []
          },
          "execution_count": 228
        }
      ]
    },
    {
      "cell_type": "markdown",
      "metadata": {
        "id": "ZSeSPmTqagtU"
      },
      "source": [
        "# Relatório de Análise VI"
      ]
    },
    {
      "cell_type": "markdown",
      "metadata": {
        "id": "B-N8A9b0arFg"
      },
      "source": [
        "## Criando novas variáveis"
      ]
    },
    {
      "cell_type": "code",
      "metadata": {
        "colab": {
          "base_uri": "https://localhost:8080/",
          "height": 204
        },
        "id": "zA9OQ_XWauDN",
        "outputId": "83ca0e87-f1ca-428f-e6ba-6e45917a5a5a"
      },
      "source": [
        "dados.head()"
      ],
      "execution_count": null,
      "outputs": [
        {
          "output_type": "execute_result",
          "data": {
            "text/html": [
              "<div>\n",
              "<style scoped>\n",
              "    .dataframe tbody tr th:only-of-type {\n",
              "        vertical-align: middle;\n",
              "    }\n",
              "\n",
              "    .dataframe tbody tr th {\n",
              "        vertical-align: top;\n",
              "    }\n",
              "\n",
              "    .dataframe thead th {\n",
              "        text-align: right;\n",
              "    }\n",
              "</style>\n",
              "<table border=\"1\" class=\"dataframe\">\n",
              "  <thead>\n",
              "    <tr style=\"text-align: right;\">\n",
              "      <th></th>\n",
              "      <th>Tipo</th>\n",
              "      <th>Bairro</th>\n",
              "      <th>Quartos</th>\n",
              "      <th>Vagas</th>\n",
              "      <th>Suites</th>\n",
              "      <th>Area</th>\n",
              "      <th>Valor</th>\n",
              "      <th>Condominio</th>\n",
              "      <th>IPTU</th>\n",
              "    </tr>\n",
              "  </thead>\n",
              "  <tbody>\n",
              "    <tr>\n",
              "      <th>0</th>\n",
              "      <td>Quitinete</td>\n",
              "      <td>Copacabana</td>\n",
              "      <td>1</td>\n",
              "      <td>0</td>\n",
              "      <td>0</td>\n",
              "      <td>40</td>\n",
              "      <td>1700.0</td>\n",
              "      <td>500.0</td>\n",
              "      <td>60.0</td>\n",
              "    </tr>\n",
              "    <tr>\n",
              "      <th>1</th>\n",
              "      <td>Casa</td>\n",
              "      <td>Jardim Botânico</td>\n",
              "      <td>2</td>\n",
              "      <td>0</td>\n",
              "      <td>1</td>\n",
              "      <td>100</td>\n",
              "      <td>7000.0</td>\n",
              "      <td>0.0</td>\n",
              "      <td>0.0</td>\n",
              "    </tr>\n",
              "    <tr>\n",
              "      <th>2</th>\n",
              "      <td>Apartamento</td>\n",
              "      <td>Centro</td>\n",
              "      <td>1</td>\n",
              "      <td>0</td>\n",
              "      <td>0</td>\n",
              "      <td>15</td>\n",
              "      <td>800.0</td>\n",
              "      <td>390.0</td>\n",
              "      <td>20.0</td>\n",
              "    </tr>\n",
              "    <tr>\n",
              "      <th>3</th>\n",
              "      <td>Apartamento</td>\n",
              "      <td>Higienópolis</td>\n",
              "      <td>1</td>\n",
              "      <td>0</td>\n",
              "      <td>0</td>\n",
              "      <td>48</td>\n",
              "      <td>800.0</td>\n",
              "      <td>230.0</td>\n",
              "      <td>0.0</td>\n",
              "    </tr>\n",
              "    <tr>\n",
              "      <th>5</th>\n",
              "      <td>Apartamento</td>\n",
              "      <td>Cachambi</td>\n",
              "      <td>2</td>\n",
              "      <td>0</td>\n",
              "      <td>0</td>\n",
              "      <td>50</td>\n",
              "      <td>1300.0</td>\n",
              "      <td>301.0</td>\n",
              "      <td>17.0</td>\n",
              "    </tr>\n",
              "  </tbody>\n",
              "</table>\n",
              "</div>"
            ],
            "text/plain": [
              "          Tipo           Bairro  Quartos  Vagas  ...  Area   Valor  Condominio  IPTU\n",
              "0    Quitinete       Copacabana        1      0  ...    40  1700.0       500.0  60.0\n",
              "1         Casa  Jardim Botânico        2      0  ...   100  7000.0         0.0   0.0\n",
              "2  Apartamento           Centro        1      0  ...    15   800.0       390.0  20.0\n",
              "3  Apartamento     Higienópolis        1      0  ...    48   800.0       230.0   0.0\n",
              "5  Apartamento         Cachambi        2      0  ...    50  1300.0       301.0  17.0\n",
              "\n",
              "[5 rows x 9 columns]"
            ]
          },
          "metadata": {
            "tags": []
          },
          "execution_count": 229
        }
      ]
    },
    {
      "cell_type": "code",
      "metadata": {
        "id": "_y43YAEnbL6R"
      },
      "source": [
        "# criei uma nova coluna com a soma dessas outras três\r\n",
        "dados['Valor Bruto'] = dados['Valor'] + dados['Condominio'] + dados['IPTU']"
      ],
      "execution_count": null,
      "outputs": []
    },
    {
      "cell_type": "code",
      "metadata": {
        "colab": {
          "base_uri": "https://localhost:8080/",
          "height": 204
        },
        "id": "K1wBV72tbcAu",
        "outputId": "63385075-6413-44e7-ef1d-4557f31f9d64"
      },
      "source": [
        "dados.head()"
      ],
      "execution_count": null,
      "outputs": [
        {
          "output_type": "execute_result",
          "data": {
            "text/html": [
              "<div>\n",
              "<style scoped>\n",
              "    .dataframe tbody tr th:only-of-type {\n",
              "        vertical-align: middle;\n",
              "    }\n",
              "\n",
              "    .dataframe tbody tr th {\n",
              "        vertical-align: top;\n",
              "    }\n",
              "\n",
              "    .dataframe thead th {\n",
              "        text-align: right;\n",
              "    }\n",
              "</style>\n",
              "<table border=\"1\" class=\"dataframe\">\n",
              "  <thead>\n",
              "    <tr style=\"text-align: right;\">\n",
              "      <th></th>\n",
              "      <th>Tipo</th>\n",
              "      <th>Bairro</th>\n",
              "      <th>Quartos</th>\n",
              "      <th>Vagas</th>\n",
              "      <th>Suites</th>\n",
              "      <th>Area</th>\n",
              "      <th>Valor</th>\n",
              "      <th>Condominio</th>\n",
              "      <th>IPTU</th>\n",
              "      <th>Valor Bruto</th>\n",
              "    </tr>\n",
              "  </thead>\n",
              "  <tbody>\n",
              "    <tr>\n",
              "      <th>0</th>\n",
              "      <td>Quitinete</td>\n",
              "      <td>Copacabana</td>\n",
              "      <td>1</td>\n",
              "      <td>0</td>\n",
              "      <td>0</td>\n",
              "      <td>40</td>\n",
              "      <td>1700.0</td>\n",
              "      <td>500.0</td>\n",
              "      <td>60.0</td>\n",
              "      <td>2260.0</td>\n",
              "    </tr>\n",
              "    <tr>\n",
              "      <th>1</th>\n",
              "      <td>Casa</td>\n",
              "      <td>Jardim Botânico</td>\n",
              "      <td>2</td>\n",
              "      <td>0</td>\n",
              "      <td>1</td>\n",
              "      <td>100</td>\n",
              "      <td>7000.0</td>\n",
              "      <td>0.0</td>\n",
              "      <td>0.0</td>\n",
              "      <td>7000.0</td>\n",
              "    </tr>\n",
              "    <tr>\n",
              "      <th>2</th>\n",
              "      <td>Apartamento</td>\n",
              "      <td>Centro</td>\n",
              "      <td>1</td>\n",
              "      <td>0</td>\n",
              "      <td>0</td>\n",
              "      <td>15</td>\n",
              "      <td>800.0</td>\n",
              "      <td>390.0</td>\n",
              "      <td>20.0</td>\n",
              "      <td>1210.0</td>\n",
              "    </tr>\n",
              "    <tr>\n",
              "      <th>3</th>\n",
              "      <td>Apartamento</td>\n",
              "      <td>Higienópolis</td>\n",
              "      <td>1</td>\n",
              "      <td>0</td>\n",
              "      <td>0</td>\n",
              "      <td>48</td>\n",
              "      <td>800.0</td>\n",
              "      <td>230.0</td>\n",
              "      <td>0.0</td>\n",
              "      <td>1030.0</td>\n",
              "    </tr>\n",
              "    <tr>\n",
              "      <th>5</th>\n",
              "      <td>Apartamento</td>\n",
              "      <td>Cachambi</td>\n",
              "      <td>2</td>\n",
              "      <td>0</td>\n",
              "      <td>0</td>\n",
              "      <td>50</td>\n",
              "      <td>1300.0</td>\n",
              "      <td>301.0</td>\n",
              "      <td>17.0</td>\n",
              "      <td>1618.0</td>\n",
              "    </tr>\n",
              "  </tbody>\n",
              "</table>\n",
              "</div>"
            ],
            "text/plain": [
              "          Tipo           Bairro  Quartos  ...  Condominio  IPTU  Valor Bruto\n",
              "0    Quitinete       Copacabana        1  ...       500.0  60.0       2260.0\n",
              "1         Casa  Jardim Botânico        2  ...         0.0   0.0       7000.0\n",
              "2  Apartamento           Centro        1  ...       390.0  20.0       1210.0\n",
              "3  Apartamento     Higienópolis        1  ...       230.0   0.0       1030.0\n",
              "5  Apartamento         Cachambi        2  ...       301.0  17.0       1618.0\n",
              "\n",
              "[5 rows x 10 columns]"
            ]
          },
          "metadata": {
            "tags": []
          },
          "execution_count": 231
        }
      ]
    },
    {
      "cell_type": "code",
      "metadata": {
        "id": "z7c3IPpWbrhi"
      },
      "source": [
        "dados['Valor m2'] = dados['Valor'] / dados['Area']"
      ],
      "execution_count": null,
      "outputs": []
    },
    {
      "cell_type": "code",
      "metadata": {
        "colab": {
          "base_uri": "https://localhost:8080/",
          "height": 238
        },
        "id": "aN2zG-Npb8Qx",
        "outputId": "0226ffef-6f00-4e93-b63e-f2fa423634a2"
      },
      "source": [
        "# muitas casas decimais\r\n",
        "dados.head()"
      ],
      "execution_count": null,
      "outputs": [
        {
          "output_type": "execute_result",
          "data": {
            "text/html": [
              "<div>\n",
              "<style scoped>\n",
              "    .dataframe tbody tr th:only-of-type {\n",
              "        vertical-align: middle;\n",
              "    }\n",
              "\n",
              "    .dataframe tbody tr th {\n",
              "        vertical-align: top;\n",
              "    }\n",
              "\n",
              "    .dataframe thead th {\n",
              "        text-align: right;\n",
              "    }\n",
              "</style>\n",
              "<table border=\"1\" class=\"dataframe\">\n",
              "  <thead>\n",
              "    <tr style=\"text-align: right;\">\n",
              "      <th></th>\n",
              "      <th>Tipo</th>\n",
              "      <th>Bairro</th>\n",
              "      <th>Quartos</th>\n",
              "      <th>Vagas</th>\n",
              "      <th>Suites</th>\n",
              "      <th>Area</th>\n",
              "      <th>Valor</th>\n",
              "      <th>Condominio</th>\n",
              "      <th>IPTU</th>\n",
              "      <th>Valor Bruto</th>\n",
              "      <th>Valor m2</th>\n",
              "    </tr>\n",
              "  </thead>\n",
              "  <tbody>\n",
              "    <tr>\n",
              "      <th>0</th>\n",
              "      <td>Quitinete</td>\n",
              "      <td>Copacabana</td>\n",
              "      <td>1</td>\n",
              "      <td>0</td>\n",
              "      <td>0</td>\n",
              "      <td>40</td>\n",
              "      <td>1700.0</td>\n",
              "      <td>500.0</td>\n",
              "      <td>60.0</td>\n",
              "      <td>2260.0</td>\n",
              "      <td>42.500000</td>\n",
              "    </tr>\n",
              "    <tr>\n",
              "      <th>1</th>\n",
              "      <td>Casa</td>\n",
              "      <td>Jardim Botânico</td>\n",
              "      <td>2</td>\n",
              "      <td>0</td>\n",
              "      <td>1</td>\n",
              "      <td>100</td>\n",
              "      <td>7000.0</td>\n",
              "      <td>0.0</td>\n",
              "      <td>0.0</td>\n",
              "      <td>7000.0</td>\n",
              "      <td>70.000000</td>\n",
              "    </tr>\n",
              "    <tr>\n",
              "      <th>2</th>\n",
              "      <td>Apartamento</td>\n",
              "      <td>Centro</td>\n",
              "      <td>1</td>\n",
              "      <td>0</td>\n",
              "      <td>0</td>\n",
              "      <td>15</td>\n",
              "      <td>800.0</td>\n",
              "      <td>390.0</td>\n",
              "      <td>20.0</td>\n",
              "      <td>1210.0</td>\n",
              "      <td>53.333333</td>\n",
              "    </tr>\n",
              "    <tr>\n",
              "      <th>3</th>\n",
              "      <td>Apartamento</td>\n",
              "      <td>Higienópolis</td>\n",
              "      <td>1</td>\n",
              "      <td>0</td>\n",
              "      <td>0</td>\n",
              "      <td>48</td>\n",
              "      <td>800.0</td>\n",
              "      <td>230.0</td>\n",
              "      <td>0.0</td>\n",
              "      <td>1030.0</td>\n",
              "      <td>16.666667</td>\n",
              "    </tr>\n",
              "    <tr>\n",
              "      <th>5</th>\n",
              "      <td>Apartamento</td>\n",
              "      <td>Cachambi</td>\n",
              "      <td>2</td>\n",
              "      <td>0</td>\n",
              "      <td>0</td>\n",
              "      <td>50</td>\n",
              "      <td>1300.0</td>\n",
              "      <td>301.0</td>\n",
              "      <td>17.0</td>\n",
              "      <td>1618.0</td>\n",
              "      <td>26.000000</td>\n",
              "    </tr>\n",
              "  </tbody>\n",
              "</table>\n",
              "</div>"
            ],
            "text/plain": [
              "          Tipo           Bairro  Quartos  ...  IPTU  Valor Bruto   Valor m2\n",
              "0    Quitinete       Copacabana        1  ...  60.0       2260.0  42.500000\n",
              "1         Casa  Jardim Botânico        2  ...   0.0       7000.0  70.000000\n",
              "2  Apartamento           Centro        1  ...  20.0       1210.0  53.333333\n",
              "3  Apartamento     Higienópolis        1  ...   0.0       1030.0  16.666667\n",
              "5  Apartamento         Cachambi        2  ...  17.0       1618.0  26.000000\n",
              "\n",
              "[5 rows x 11 columns]"
            ]
          },
          "metadata": {
            "tags": []
          },
          "execution_count": 233
        }
      ]
    },
    {
      "cell_type": "code",
      "metadata": {
        "id": "VxomAMbhcXdA"
      },
      "source": [
        "dados['Valor m2'] = dados['Valor m2'].round(2)"
      ],
      "execution_count": null,
      "outputs": []
    },
    {
      "cell_type": "code",
      "metadata": {
        "id": "1AhEmCsccdz9",
        "colab": {
          "base_uri": "https://localhost:8080/",
          "height": 238
        },
        "outputId": "f495a9d8-7cab-4aee-9982-f7cee27d0388"
      },
      "source": [
        "dados.head()"
      ],
      "execution_count": null,
      "outputs": [
        {
          "output_type": "execute_result",
          "data": {
            "text/html": [
              "<div>\n",
              "<style scoped>\n",
              "    .dataframe tbody tr th:only-of-type {\n",
              "        vertical-align: middle;\n",
              "    }\n",
              "\n",
              "    .dataframe tbody tr th {\n",
              "        vertical-align: top;\n",
              "    }\n",
              "\n",
              "    .dataframe thead th {\n",
              "        text-align: right;\n",
              "    }\n",
              "</style>\n",
              "<table border=\"1\" class=\"dataframe\">\n",
              "  <thead>\n",
              "    <tr style=\"text-align: right;\">\n",
              "      <th></th>\n",
              "      <th>Tipo</th>\n",
              "      <th>Bairro</th>\n",
              "      <th>Quartos</th>\n",
              "      <th>Vagas</th>\n",
              "      <th>Suites</th>\n",
              "      <th>Area</th>\n",
              "      <th>Valor</th>\n",
              "      <th>Condominio</th>\n",
              "      <th>IPTU</th>\n",
              "      <th>Valor Bruto</th>\n",
              "      <th>Valor m2</th>\n",
              "    </tr>\n",
              "  </thead>\n",
              "  <tbody>\n",
              "    <tr>\n",
              "      <th>0</th>\n",
              "      <td>Quitinete</td>\n",
              "      <td>Copacabana</td>\n",
              "      <td>1</td>\n",
              "      <td>0</td>\n",
              "      <td>0</td>\n",
              "      <td>40</td>\n",
              "      <td>1700.0</td>\n",
              "      <td>500.0</td>\n",
              "      <td>60.0</td>\n",
              "      <td>2260.0</td>\n",
              "      <td>42.50</td>\n",
              "    </tr>\n",
              "    <tr>\n",
              "      <th>1</th>\n",
              "      <td>Casa</td>\n",
              "      <td>Jardim Botânico</td>\n",
              "      <td>2</td>\n",
              "      <td>0</td>\n",
              "      <td>1</td>\n",
              "      <td>100</td>\n",
              "      <td>7000.0</td>\n",
              "      <td>0.0</td>\n",
              "      <td>0.0</td>\n",
              "      <td>7000.0</td>\n",
              "      <td>70.00</td>\n",
              "    </tr>\n",
              "    <tr>\n",
              "      <th>2</th>\n",
              "      <td>Apartamento</td>\n",
              "      <td>Centro</td>\n",
              "      <td>1</td>\n",
              "      <td>0</td>\n",
              "      <td>0</td>\n",
              "      <td>15</td>\n",
              "      <td>800.0</td>\n",
              "      <td>390.0</td>\n",
              "      <td>20.0</td>\n",
              "      <td>1210.0</td>\n",
              "      <td>53.33</td>\n",
              "    </tr>\n",
              "    <tr>\n",
              "      <th>3</th>\n",
              "      <td>Apartamento</td>\n",
              "      <td>Higienópolis</td>\n",
              "      <td>1</td>\n",
              "      <td>0</td>\n",
              "      <td>0</td>\n",
              "      <td>48</td>\n",
              "      <td>800.0</td>\n",
              "      <td>230.0</td>\n",
              "      <td>0.0</td>\n",
              "      <td>1030.0</td>\n",
              "      <td>16.67</td>\n",
              "    </tr>\n",
              "    <tr>\n",
              "      <th>5</th>\n",
              "      <td>Apartamento</td>\n",
              "      <td>Cachambi</td>\n",
              "      <td>2</td>\n",
              "      <td>0</td>\n",
              "      <td>0</td>\n",
              "      <td>50</td>\n",
              "      <td>1300.0</td>\n",
              "      <td>301.0</td>\n",
              "      <td>17.0</td>\n",
              "      <td>1618.0</td>\n",
              "      <td>26.00</td>\n",
              "    </tr>\n",
              "  </tbody>\n",
              "</table>\n",
              "</div>"
            ],
            "text/plain": [
              "          Tipo           Bairro  Quartos  ...  IPTU  Valor Bruto  Valor m2\n",
              "0    Quitinete       Copacabana        1  ...  60.0       2260.0     42.50\n",
              "1         Casa  Jardim Botânico        2  ...   0.0       7000.0     70.00\n",
              "2  Apartamento           Centro        1  ...  20.0       1210.0     53.33\n",
              "3  Apartamento     Higienópolis        1  ...   0.0       1030.0     16.67\n",
              "5  Apartamento         Cachambi        2  ...  17.0       1618.0     26.00\n",
              "\n",
              "[5 rows x 11 columns]"
            ]
          },
          "metadata": {
            "tags": []
          },
          "execution_count": 235
        }
      ]
    },
    {
      "cell_type": "code",
      "metadata": {
        "id": "l3a_CAPBIZTZ"
      },
      "source": [
        "dados['Valor Bruto m2'] = (dados['Valor Bruto']/dados['Area']).round(2)"
      ],
      "execution_count": null,
      "outputs": []
    },
    {
      "cell_type": "code",
      "metadata": {
        "colab": {
          "base_uri": "https://localhost:8080/",
          "height": 255
        },
        "id": "IhhViu3UIdXe",
        "outputId": "bb1d531f-9bc5-4953-b7a8-7529023d3eef"
      },
      "source": [
        "dados.head()"
      ],
      "execution_count": null,
      "outputs": [
        {
          "output_type": "execute_result",
          "data": {
            "text/html": [
              "<div>\n",
              "<style scoped>\n",
              "    .dataframe tbody tr th:only-of-type {\n",
              "        vertical-align: middle;\n",
              "    }\n",
              "\n",
              "    .dataframe tbody tr th {\n",
              "        vertical-align: top;\n",
              "    }\n",
              "\n",
              "    .dataframe thead th {\n",
              "        text-align: right;\n",
              "    }\n",
              "</style>\n",
              "<table border=\"1\" class=\"dataframe\">\n",
              "  <thead>\n",
              "    <tr style=\"text-align: right;\">\n",
              "      <th></th>\n",
              "      <th>Tipo</th>\n",
              "      <th>Bairro</th>\n",
              "      <th>Quartos</th>\n",
              "      <th>Vagas</th>\n",
              "      <th>Suites</th>\n",
              "      <th>Area</th>\n",
              "      <th>Valor</th>\n",
              "      <th>Condominio</th>\n",
              "      <th>IPTU</th>\n",
              "      <th>Valor Bruto</th>\n",
              "      <th>Valor m2</th>\n",
              "      <th>Valor Bruto m2</th>\n",
              "    </tr>\n",
              "  </thead>\n",
              "  <tbody>\n",
              "    <tr>\n",
              "      <th>0</th>\n",
              "      <td>Quitinete</td>\n",
              "      <td>Copacabana</td>\n",
              "      <td>1</td>\n",
              "      <td>0</td>\n",
              "      <td>0</td>\n",
              "      <td>40</td>\n",
              "      <td>1700.0</td>\n",
              "      <td>500.0</td>\n",
              "      <td>60.0</td>\n",
              "      <td>2260.0</td>\n",
              "      <td>42.50</td>\n",
              "      <td>56.50</td>\n",
              "    </tr>\n",
              "    <tr>\n",
              "      <th>1</th>\n",
              "      <td>Casa</td>\n",
              "      <td>Jardim Botânico</td>\n",
              "      <td>2</td>\n",
              "      <td>0</td>\n",
              "      <td>1</td>\n",
              "      <td>100</td>\n",
              "      <td>7000.0</td>\n",
              "      <td>0.0</td>\n",
              "      <td>0.0</td>\n",
              "      <td>7000.0</td>\n",
              "      <td>70.00</td>\n",
              "      <td>70.00</td>\n",
              "    </tr>\n",
              "    <tr>\n",
              "      <th>2</th>\n",
              "      <td>Apartamento</td>\n",
              "      <td>Centro</td>\n",
              "      <td>1</td>\n",
              "      <td>0</td>\n",
              "      <td>0</td>\n",
              "      <td>15</td>\n",
              "      <td>800.0</td>\n",
              "      <td>390.0</td>\n",
              "      <td>20.0</td>\n",
              "      <td>1210.0</td>\n",
              "      <td>53.33</td>\n",
              "      <td>80.67</td>\n",
              "    </tr>\n",
              "    <tr>\n",
              "      <th>3</th>\n",
              "      <td>Apartamento</td>\n",
              "      <td>Higienópolis</td>\n",
              "      <td>1</td>\n",
              "      <td>0</td>\n",
              "      <td>0</td>\n",
              "      <td>48</td>\n",
              "      <td>800.0</td>\n",
              "      <td>230.0</td>\n",
              "      <td>0.0</td>\n",
              "      <td>1030.0</td>\n",
              "      <td>16.67</td>\n",
              "      <td>21.46</td>\n",
              "    </tr>\n",
              "    <tr>\n",
              "      <th>5</th>\n",
              "      <td>Apartamento</td>\n",
              "      <td>Cachambi</td>\n",
              "      <td>2</td>\n",
              "      <td>0</td>\n",
              "      <td>0</td>\n",
              "      <td>50</td>\n",
              "      <td>1300.0</td>\n",
              "      <td>301.0</td>\n",
              "      <td>17.0</td>\n",
              "      <td>1618.0</td>\n",
              "      <td>26.00</td>\n",
              "      <td>32.36</td>\n",
              "    </tr>\n",
              "  </tbody>\n",
              "</table>\n",
              "</div>"
            ],
            "text/plain": [
              "          Tipo           Bairro  Quartos  ...  Valor Bruto  Valor m2  Valor Bruto m2\n",
              "0    Quitinete       Copacabana        1  ...       2260.0     42.50           56.50\n",
              "1         Casa  Jardim Botânico        2  ...       7000.0     70.00           70.00\n",
              "2  Apartamento           Centro        1  ...       1210.0     53.33           80.67\n",
              "3  Apartamento     Higienópolis        1  ...       1030.0     16.67           21.46\n",
              "5  Apartamento         Cachambi        2  ...       1618.0     26.00           32.36\n",
              "\n",
              "[5 rows x 12 columns]"
            ]
          },
          "metadata": {
            "tags": []
          },
          "execution_count": 237
        }
      ]
    },
    {
      "cell_type": "code",
      "metadata": {
        "colab": {
          "base_uri": "https://localhost:8080/"
        },
        "id": "d_FFDY3wQUET",
        "outputId": "38c1012e-1eca-4265-d497-158514545c37"
      },
      "source": [
        "dados['Tipo'].value_counts()"
      ],
      "execution_count": null,
      "outputs": [
        {
          "output_type": "execute_result",
          "data": {
            "text/plain": [
              "Apartamento           18780\n",
              "Casa de Condomínio      996\n",
              "Casa                    965\n",
              "Quitinete               836\n",
              "Casa de Vila            249\n",
              "Name: Tipo, dtype: int64"
            ]
          },
          "metadata": {
            "tags": []
          },
          "execution_count": 238
        }
      ]
    },
    {
      "cell_type": "code",
      "metadata": {
        "id": "PN8ARn16QA4d"
      },
      "source": [
        "# Agora aqui o objetivo é separar por tipo agregado, separando por casa e ap\r\n",
        "casa = ['Casa', 'Casa de Vila', 'Casa de Condomínio']"
      ],
      "execution_count": null,
      "outputs": []
    },
    {
      "cell_type": "code",
      "metadata": {
        "id": "xkPz4GoBQoCX"
      },
      "source": [
        "# A função '.apply()' aplica uma função para cada registro do df\r\n",
        "dados['Tipo Agregado'] = dados['Tipo'].apply(lambda x: 'Casa' if x in casa else 'Apartamento' )"
      ],
      "execution_count": null,
      "outputs": []
    },
    {
      "cell_type": "code",
      "metadata": {
        "colab": {
          "base_uri": "https://localhost:8080/",
          "height": 481
        },
        "id": "2qrgyep7R1ec",
        "outputId": "21fb909c-8b11-4219-8af9-25f992d93317"
      },
      "source": [
        "dados.head(10)"
      ],
      "execution_count": null,
      "outputs": [
        {
          "output_type": "execute_result",
          "data": {
            "text/html": [
              "<div>\n",
              "<style scoped>\n",
              "    .dataframe tbody tr th:only-of-type {\n",
              "        vertical-align: middle;\n",
              "    }\n",
              "\n",
              "    .dataframe tbody tr th {\n",
              "        vertical-align: top;\n",
              "    }\n",
              "\n",
              "    .dataframe thead th {\n",
              "        text-align: right;\n",
              "    }\n",
              "</style>\n",
              "<table border=\"1\" class=\"dataframe\">\n",
              "  <thead>\n",
              "    <tr style=\"text-align: right;\">\n",
              "      <th></th>\n",
              "      <th>Tipo</th>\n",
              "      <th>Bairro</th>\n",
              "      <th>Quartos</th>\n",
              "      <th>Vagas</th>\n",
              "      <th>Suites</th>\n",
              "      <th>Area</th>\n",
              "      <th>Valor</th>\n",
              "      <th>Condominio</th>\n",
              "      <th>IPTU</th>\n",
              "      <th>Valor Bruto</th>\n",
              "      <th>Valor m2</th>\n",
              "      <th>Valor Bruto m2</th>\n",
              "      <th>Tipo Agregado</th>\n",
              "    </tr>\n",
              "  </thead>\n",
              "  <tbody>\n",
              "    <tr>\n",
              "      <th>0</th>\n",
              "      <td>Quitinete</td>\n",
              "      <td>Copacabana</td>\n",
              "      <td>1</td>\n",
              "      <td>0</td>\n",
              "      <td>0</td>\n",
              "      <td>40</td>\n",
              "      <td>1700.0</td>\n",
              "      <td>500.0</td>\n",
              "      <td>60.0</td>\n",
              "      <td>2260.0</td>\n",
              "      <td>42.50</td>\n",
              "      <td>56.50</td>\n",
              "      <td>Apartamento</td>\n",
              "    </tr>\n",
              "    <tr>\n",
              "      <th>1</th>\n",
              "      <td>Casa</td>\n",
              "      <td>Jardim Botânico</td>\n",
              "      <td>2</td>\n",
              "      <td>0</td>\n",
              "      <td>1</td>\n",
              "      <td>100</td>\n",
              "      <td>7000.0</td>\n",
              "      <td>0.0</td>\n",
              "      <td>0.0</td>\n",
              "      <td>7000.0</td>\n",
              "      <td>70.00</td>\n",
              "      <td>70.00</td>\n",
              "      <td>Casa</td>\n",
              "    </tr>\n",
              "    <tr>\n",
              "      <th>2</th>\n",
              "      <td>Apartamento</td>\n",
              "      <td>Centro</td>\n",
              "      <td>1</td>\n",
              "      <td>0</td>\n",
              "      <td>0</td>\n",
              "      <td>15</td>\n",
              "      <td>800.0</td>\n",
              "      <td>390.0</td>\n",
              "      <td>20.0</td>\n",
              "      <td>1210.0</td>\n",
              "      <td>53.33</td>\n",
              "      <td>80.67</td>\n",
              "      <td>Apartamento</td>\n",
              "    </tr>\n",
              "    <tr>\n",
              "      <th>3</th>\n",
              "      <td>Apartamento</td>\n",
              "      <td>Higienópolis</td>\n",
              "      <td>1</td>\n",
              "      <td>0</td>\n",
              "      <td>0</td>\n",
              "      <td>48</td>\n",
              "      <td>800.0</td>\n",
              "      <td>230.0</td>\n",
              "      <td>0.0</td>\n",
              "      <td>1030.0</td>\n",
              "      <td>16.67</td>\n",
              "      <td>21.46</td>\n",
              "      <td>Apartamento</td>\n",
              "    </tr>\n",
              "    <tr>\n",
              "      <th>5</th>\n",
              "      <td>Apartamento</td>\n",
              "      <td>Cachambi</td>\n",
              "      <td>2</td>\n",
              "      <td>0</td>\n",
              "      <td>0</td>\n",
              "      <td>50</td>\n",
              "      <td>1300.0</td>\n",
              "      <td>301.0</td>\n",
              "      <td>17.0</td>\n",
              "      <td>1618.0</td>\n",
              "      <td>26.00</td>\n",
              "      <td>32.36</td>\n",
              "      <td>Apartamento</td>\n",
              "    </tr>\n",
              "    <tr>\n",
              "      <th>6</th>\n",
              "      <td>Casa de Condomínio</td>\n",
              "      <td>Barra da Tijuca</td>\n",
              "      <td>5</td>\n",
              "      <td>4</td>\n",
              "      <td>5</td>\n",
              "      <td>750</td>\n",
              "      <td>22000.0</td>\n",
              "      <td>0.0</td>\n",
              "      <td>0.0</td>\n",
              "      <td>22000.0</td>\n",
              "      <td>29.33</td>\n",
              "      <td>29.33</td>\n",
              "      <td>Casa</td>\n",
              "    </tr>\n",
              "    <tr>\n",
              "      <th>7</th>\n",
              "      <td>Casa de Condomínio</td>\n",
              "      <td>Ramos</td>\n",
              "      <td>2</td>\n",
              "      <td>2</td>\n",
              "      <td>0</td>\n",
              "      <td>65</td>\n",
              "      <td>1000.0</td>\n",
              "      <td>0.0</td>\n",
              "      <td>0.0</td>\n",
              "      <td>1000.0</td>\n",
              "      <td>15.38</td>\n",
              "      <td>15.38</td>\n",
              "      <td>Casa</td>\n",
              "    </tr>\n",
              "    <tr>\n",
              "      <th>9</th>\n",
              "      <td>Apartamento</td>\n",
              "      <td>Grajaú</td>\n",
              "      <td>2</td>\n",
              "      <td>1</td>\n",
              "      <td>0</td>\n",
              "      <td>70</td>\n",
              "      <td>1500.0</td>\n",
              "      <td>642.0</td>\n",
              "      <td>74.0</td>\n",
              "      <td>2216.0</td>\n",
              "      <td>21.43</td>\n",
              "      <td>31.66</td>\n",
              "      <td>Apartamento</td>\n",
              "    </tr>\n",
              "    <tr>\n",
              "      <th>10</th>\n",
              "      <td>Apartamento</td>\n",
              "      <td>Lins de Vasconcelos</td>\n",
              "      <td>3</td>\n",
              "      <td>1</td>\n",
              "      <td>1</td>\n",
              "      <td>90</td>\n",
              "      <td>1500.0</td>\n",
              "      <td>455.0</td>\n",
              "      <td>14.0</td>\n",
              "      <td>1969.0</td>\n",
              "      <td>16.67</td>\n",
              "      <td>21.88</td>\n",
              "      <td>Apartamento</td>\n",
              "    </tr>\n",
              "    <tr>\n",
              "      <th>11</th>\n",
              "      <td>Apartamento</td>\n",
              "      <td>Copacabana</td>\n",
              "      <td>1</td>\n",
              "      <td>0</td>\n",
              "      <td>1</td>\n",
              "      <td>40</td>\n",
              "      <td>2000.0</td>\n",
              "      <td>561.0</td>\n",
              "      <td>50.0</td>\n",
              "      <td>2611.0</td>\n",
              "      <td>50.00</td>\n",
              "      <td>65.28</td>\n",
              "      <td>Apartamento</td>\n",
              "    </tr>\n",
              "  </tbody>\n",
              "</table>\n",
              "</div>"
            ],
            "text/plain": [
              "                  Tipo               Bairro  ...  Valor Bruto m2  Tipo Agregado\n",
              "0            Quitinete           Copacabana  ...           56.50    Apartamento\n",
              "1                 Casa      Jardim Botânico  ...           70.00           Casa\n",
              "2          Apartamento               Centro  ...           80.67    Apartamento\n",
              "3          Apartamento         Higienópolis  ...           21.46    Apartamento\n",
              "5          Apartamento             Cachambi  ...           32.36    Apartamento\n",
              "6   Casa de Condomínio      Barra da Tijuca  ...           29.33           Casa\n",
              "7   Casa de Condomínio                Ramos  ...           15.38           Casa\n",
              "9          Apartamento               Grajaú  ...           31.66    Apartamento\n",
              "10         Apartamento  Lins de Vasconcelos  ...           21.88    Apartamento\n",
              "11         Apartamento           Copacabana  ...           65.28    Apartamento\n",
              "\n",
              "[10 rows x 13 columns]"
            ]
          },
          "metadata": {
            "tags": []
          },
          "execution_count": 241
        }
      ]
    },
    {
      "cell_type": "markdown",
      "metadata": {
        "id": "u9SojTIfI5PH"
      },
      "source": [
        "## Exercício"
      ]
    },
    {
      "cell_type": "code",
      "metadata": {
        "id": "itcAl4nnI9kU"
      },
      "source": [
        "alunos = pd.DataFrame({'Nome': ['Ary', 'Cátia', 'Denis', 'Beto', 'Bruna', 'Dara', 'Carlos', 'Alice'], \r\n",
        "                        'Sexo': ['M', 'F', 'M', 'M', 'F', 'F', 'M', 'F'], \r\n",
        "                        'Idade': [15, 27, 56, 32, 42, 21, 19, 35], \r\n",
        "                        'Notas': [7.5, 2.5, 5.0, 10, 8.2, 7, 6, 5.6]}, \r\n",
        "                        columns = ['Nome', 'Idade', 'Sexo', 'Notas'])"
      ],
      "execution_count": null,
      "outputs": []
    },
    {
      "cell_type": "code",
      "metadata": {
        "colab": {
          "base_uri": "https://localhost:8080/"
        },
        "id": "jsKLFwk_MDTK",
        "outputId": "df36da58-7b3a-4b15-b050-162c2dca11af"
      },
      "source": [
        "alunos"
      ],
      "execution_count": null,
      "outputs": [
        {
          "output_type": "execute_result",
          "data": {
            "text/html": [
              "<div>\n",
              "<style scoped>\n",
              "    .dataframe tbody tr th:only-of-type {\n",
              "        vertical-align: middle;\n",
              "    }\n",
              "\n",
              "    .dataframe tbody tr th {\n",
              "        vertical-align: top;\n",
              "    }\n",
              "\n",
              "    .dataframe thead th {\n",
              "        text-align: right;\n",
              "    }\n",
              "</style>\n",
              "<table border=\"1\" class=\"dataframe\">\n",
              "  <thead>\n",
              "    <tr style=\"text-align: right;\">\n",
              "      <th></th>\n",
              "      <th>Nome</th>\n",
              "      <th>Idade</th>\n",
              "      <th>Sexo</th>\n",
              "      <th>Notas</th>\n",
              "    </tr>\n",
              "  </thead>\n",
              "  <tbody>\n",
              "    <tr>\n",
              "      <th>0</th>\n",
              "      <td>Ary</td>\n",
              "      <td>15</td>\n",
              "      <td>M</td>\n",
              "      <td>7.5</td>\n",
              "    </tr>\n",
              "    <tr>\n",
              "      <th>1</th>\n",
              "      <td>Cátia</td>\n",
              "      <td>27</td>\n",
              "      <td>F</td>\n",
              "      <td>2.5</td>\n",
              "    </tr>\n",
              "    <tr>\n",
              "      <th>2</th>\n",
              "      <td>Denis</td>\n",
              "      <td>56</td>\n",
              "      <td>M</td>\n",
              "      <td>5.0</td>\n",
              "    </tr>\n",
              "    <tr>\n",
              "      <th>3</th>\n",
              "      <td>Beto</td>\n",
              "      <td>32</td>\n",
              "      <td>M</td>\n",
              "      <td>10.0</td>\n",
              "    </tr>\n",
              "    <tr>\n",
              "      <th>4</th>\n",
              "      <td>Bruna</td>\n",
              "      <td>42</td>\n",
              "      <td>F</td>\n",
              "      <td>8.2</td>\n",
              "    </tr>\n",
              "    <tr>\n",
              "      <th>5</th>\n",
              "      <td>Dara</td>\n",
              "      <td>21</td>\n",
              "      <td>F</td>\n",
              "      <td>7.0</td>\n",
              "    </tr>\n",
              "    <tr>\n",
              "      <th>6</th>\n",
              "      <td>Carlos</td>\n",
              "      <td>19</td>\n",
              "      <td>M</td>\n",
              "      <td>6.0</td>\n",
              "    </tr>\n",
              "    <tr>\n",
              "      <th>7</th>\n",
              "      <td>Alice</td>\n",
              "      <td>35</td>\n",
              "      <td>F</td>\n",
              "      <td>5.6</td>\n",
              "    </tr>\n",
              "  </tbody>\n",
              "</table>\n",
              "</div>"
            ],
            "text/plain": [
              "     Nome  Idade Sexo  Notas\n",
              "0     Ary     15    M    7.5\n",
              "1   Cátia     27    F    2.5\n",
              "2   Denis     56    M    5.0\n",
              "3    Beto     32    M   10.0\n",
              "4   Bruna     42    F    8.2\n",
              "5    Dara     21    F    7.0\n",
              "6  Carlos     19    M    6.0\n",
              "7   Alice     35    F    5.6"
            ]
          },
          "metadata": {
            "tags": []
          },
          "execution_count": 243
        }
      ]
    },
    {
      "cell_type": "code",
      "metadata": {
        "id": "GvgeIK6LMSf6"
      },
      "source": [
        "alunos['Notas-Média(Notas)'] = alunos['Notas'].apply(lambda x: x - alunos['Notas'].mean())"
      ],
      "execution_count": null,
      "outputs": []
    },
    {
      "cell_type": "code",
      "metadata": {
        "colab": {
          "base_uri": "https://localhost:8080/"
        },
        "id": "ZcF_OhgcMTPT",
        "outputId": "7419d6e7-9146-4ebd-fcdf-6b11634c55f5"
      },
      "source": [
        "alunos"
      ],
      "execution_count": null,
      "outputs": [
        {
          "output_type": "execute_result",
          "data": {
            "text/html": [
              "<div>\n",
              "<style scoped>\n",
              "    .dataframe tbody tr th:only-of-type {\n",
              "        vertical-align: middle;\n",
              "    }\n",
              "\n",
              "    .dataframe tbody tr th {\n",
              "        vertical-align: top;\n",
              "    }\n",
              "\n",
              "    .dataframe thead th {\n",
              "        text-align: right;\n",
              "    }\n",
              "</style>\n",
              "<table border=\"1\" class=\"dataframe\">\n",
              "  <thead>\n",
              "    <tr style=\"text-align: right;\">\n",
              "      <th></th>\n",
              "      <th>Nome</th>\n",
              "      <th>Idade</th>\n",
              "      <th>Sexo</th>\n",
              "      <th>Notas</th>\n",
              "      <th>Notas-Média(Notas)</th>\n",
              "    </tr>\n",
              "  </thead>\n",
              "  <tbody>\n",
              "    <tr>\n",
              "      <th>0</th>\n",
              "      <td>Ary</td>\n",
              "      <td>15</td>\n",
              "      <td>M</td>\n",
              "      <td>7.5</td>\n",
              "      <td>1.025</td>\n",
              "    </tr>\n",
              "    <tr>\n",
              "      <th>1</th>\n",
              "      <td>Cátia</td>\n",
              "      <td>27</td>\n",
              "      <td>F</td>\n",
              "      <td>2.5</td>\n",
              "      <td>-3.975</td>\n",
              "    </tr>\n",
              "    <tr>\n",
              "      <th>2</th>\n",
              "      <td>Denis</td>\n",
              "      <td>56</td>\n",
              "      <td>M</td>\n",
              "      <td>5.0</td>\n",
              "      <td>-1.475</td>\n",
              "    </tr>\n",
              "    <tr>\n",
              "      <th>3</th>\n",
              "      <td>Beto</td>\n",
              "      <td>32</td>\n",
              "      <td>M</td>\n",
              "      <td>10.0</td>\n",
              "      <td>3.525</td>\n",
              "    </tr>\n",
              "    <tr>\n",
              "      <th>4</th>\n",
              "      <td>Bruna</td>\n",
              "      <td>42</td>\n",
              "      <td>F</td>\n",
              "      <td>8.2</td>\n",
              "      <td>1.725</td>\n",
              "    </tr>\n",
              "    <tr>\n",
              "      <th>5</th>\n",
              "      <td>Dara</td>\n",
              "      <td>21</td>\n",
              "      <td>F</td>\n",
              "      <td>7.0</td>\n",
              "      <td>0.525</td>\n",
              "    </tr>\n",
              "    <tr>\n",
              "      <th>6</th>\n",
              "      <td>Carlos</td>\n",
              "      <td>19</td>\n",
              "      <td>M</td>\n",
              "      <td>6.0</td>\n",
              "      <td>-0.475</td>\n",
              "    </tr>\n",
              "    <tr>\n",
              "      <th>7</th>\n",
              "      <td>Alice</td>\n",
              "      <td>35</td>\n",
              "      <td>F</td>\n",
              "      <td>5.6</td>\n",
              "      <td>-0.875</td>\n",
              "    </tr>\n",
              "  </tbody>\n",
              "</table>\n",
              "</div>"
            ],
            "text/plain": [
              "     Nome  Idade Sexo  Notas  Notas-Média(Notas)\n",
              "0     Ary     15    M    7.5               1.025\n",
              "1   Cátia     27    F    2.5              -3.975\n",
              "2   Denis     56    M    5.0              -1.475\n",
              "3    Beto     32    M   10.0               3.525\n",
              "4   Bruna     42    F    8.2               1.725\n",
              "5    Dara     21    F    7.0               0.525\n",
              "6  Carlos     19    M    6.0              -0.475\n",
              "7   Alice     35    F    5.6              -0.875"
            ]
          },
          "metadata": {
            "tags": []
          },
          "execution_count": 245
        }
      ]
    },
    {
      "cell_type": "code",
      "metadata": {
        "id": "Z_JnIHahMUSL"
      },
      "source": [
        "alunos['Faixa Etária'] = alunos['Idade'].apply(lambda x: 'Menor que 20 anos' if x < 20 else ('Entre 20 e 40 anos' if (x >= 20 and x <= 40) else 'Maior que 40 anos'))"
      ],
      "execution_count": null,
      "outputs": []
    },
    {
      "cell_type": "code",
      "metadata": {
        "colab": {
          "base_uri": "https://localhost:8080/"
        },
        "id": "Nc5SiTOrM0pB",
        "outputId": "2c80bdcb-e178-4856-e23b-ee4b8ad12754"
      },
      "source": [
        "alunos"
      ],
      "execution_count": null,
      "outputs": [
        {
          "output_type": "execute_result",
          "data": {
            "text/html": [
              "<div>\n",
              "<style scoped>\n",
              "    .dataframe tbody tr th:only-of-type {\n",
              "        vertical-align: middle;\n",
              "    }\n",
              "\n",
              "    .dataframe tbody tr th {\n",
              "        vertical-align: top;\n",
              "    }\n",
              "\n",
              "    .dataframe thead th {\n",
              "        text-align: right;\n",
              "    }\n",
              "</style>\n",
              "<table border=\"1\" class=\"dataframe\">\n",
              "  <thead>\n",
              "    <tr style=\"text-align: right;\">\n",
              "      <th></th>\n",
              "      <th>Nome</th>\n",
              "      <th>Idade</th>\n",
              "      <th>Sexo</th>\n",
              "      <th>Notas</th>\n",
              "      <th>Notas-Média(Notas)</th>\n",
              "      <th>Faixa Etária</th>\n",
              "    </tr>\n",
              "  </thead>\n",
              "  <tbody>\n",
              "    <tr>\n",
              "      <th>0</th>\n",
              "      <td>Ary</td>\n",
              "      <td>15</td>\n",
              "      <td>M</td>\n",
              "      <td>7.5</td>\n",
              "      <td>1.025</td>\n",
              "      <td>Menor que 20 anos</td>\n",
              "    </tr>\n",
              "    <tr>\n",
              "      <th>1</th>\n",
              "      <td>Cátia</td>\n",
              "      <td>27</td>\n",
              "      <td>F</td>\n",
              "      <td>2.5</td>\n",
              "      <td>-3.975</td>\n",
              "      <td>Entre 20 e 40 anos</td>\n",
              "    </tr>\n",
              "    <tr>\n",
              "      <th>2</th>\n",
              "      <td>Denis</td>\n",
              "      <td>56</td>\n",
              "      <td>M</td>\n",
              "      <td>5.0</td>\n",
              "      <td>-1.475</td>\n",
              "      <td>Maior que 40 anos</td>\n",
              "    </tr>\n",
              "    <tr>\n",
              "      <th>3</th>\n",
              "      <td>Beto</td>\n",
              "      <td>32</td>\n",
              "      <td>M</td>\n",
              "      <td>10.0</td>\n",
              "      <td>3.525</td>\n",
              "      <td>Entre 20 e 40 anos</td>\n",
              "    </tr>\n",
              "    <tr>\n",
              "      <th>4</th>\n",
              "      <td>Bruna</td>\n",
              "      <td>42</td>\n",
              "      <td>F</td>\n",
              "      <td>8.2</td>\n",
              "      <td>1.725</td>\n",
              "      <td>Maior que 40 anos</td>\n",
              "    </tr>\n",
              "    <tr>\n",
              "      <th>5</th>\n",
              "      <td>Dara</td>\n",
              "      <td>21</td>\n",
              "      <td>F</td>\n",
              "      <td>7.0</td>\n",
              "      <td>0.525</td>\n",
              "      <td>Entre 20 e 40 anos</td>\n",
              "    </tr>\n",
              "    <tr>\n",
              "      <th>6</th>\n",
              "      <td>Carlos</td>\n",
              "      <td>19</td>\n",
              "      <td>M</td>\n",
              "      <td>6.0</td>\n",
              "      <td>-0.475</td>\n",
              "      <td>Menor que 20 anos</td>\n",
              "    </tr>\n",
              "    <tr>\n",
              "      <th>7</th>\n",
              "      <td>Alice</td>\n",
              "      <td>35</td>\n",
              "      <td>F</td>\n",
              "      <td>5.6</td>\n",
              "      <td>-0.875</td>\n",
              "      <td>Entre 20 e 40 anos</td>\n",
              "    </tr>\n",
              "  </tbody>\n",
              "</table>\n",
              "</div>"
            ],
            "text/plain": [
              "     Nome  Idade Sexo  Notas  Notas-Média(Notas)        Faixa Etária\n",
              "0     Ary     15    M    7.5               1.025   Menor que 20 anos\n",
              "1   Cátia     27    F    2.5              -3.975  Entre 20 e 40 anos\n",
              "2   Denis     56    M    5.0              -1.475   Maior que 40 anos\n",
              "3    Beto     32    M   10.0               3.525  Entre 20 e 40 anos\n",
              "4   Bruna     42    F    8.2               1.725   Maior que 40 anos\n",
              "5    Dara     21    F    7.0               0.525  Entre 20 e 40 anos\n",
              "6  Carlos     19    M    6.0              -0.475   Menor que 20 anos\n",
              "7   Alice     35    F    5.6              -0.875  Entre 20 e 40 anos"
            ]
          },
          "metadata": {
            "tags": []
          },
          "execution_count": 247
        }
      ]
    },
    {
      "cell_type": "markdown",
      "metadata": {
        "id": "mBeRYvCTUqQB"
      },
      "source": [
        "## Excluindo variáveis"
      ]
    },
    {
      "cell_type": "code",
      "metadata": {
        "id": "LIu_lQ2KUtIa"
      },
      "source": [
        "dados_aux = pd.DataFrame(dados[['Tipo Agregado', 'Valor m2', 'Valor Bruto', 'Valor Bruto m2']])"
      ],
      "execution_count": null,
      "outputs": []
    },
    {
      "cell_type": "code",
      "metadata": {
        "colab": {
          "base_uri": "https://localhost:8080/",
          "height": 204
        },
        "id": "eITB0TArVHF2",
        "outputId": "26d20e26-ca98-46f2-8e9d-08de49f01f39"
      },
      "source": [
        "dados_aux.head()"
      ],
      "execution_count": null,
      "outputs": [
        {
          "output_type": "execute_result",
          "data": {
            "text/html": [
              "<div>\n",
              "<style scoped>\n",
              "    .dataframe tbody tr th:only-of-type {\n",
              "        vertical-align: middle;\n",
              "    }\n",
              "\n",
              "    .dataframe tbody tr th {\n",
              "        vertical-align: top;\n",
              "    }\n",
              "\n",
              "    .dataframe thead th {\n",
              "        text-align: right;\n",
              "    }\n",
              "</style>\n",
              "<table border=\"1\" class=\"dataframe\">\n",
              "  <thead>\n",
              "    <tr style=\"text-align: right;\">\n",
              "      <th></th>\n",
              "      <th>Tipo Agregado</th>\n",
              "      <th>Valor m2</th>\n",
              "      <th>Valor Bruto</th>\n",
              "      <th>Valor Bruto m2</th>\n",
              "    </tr>\n",
              "  </thead>\n",
              "  <tbody>\n",
              "    <tr>\n",
              "      <th>0</th>\n",
              "      <td>Apartamento</td>\n",
              "      <td>42.50</td>\n",
              "      <td>2260.0</td>\n",
              "      <td>56.50</td>\n",
              "    </tr>\n",
              "    <tr>\n",
              "      <th>1</th>\n",
              "      <td>Casa</td>\n",
              "      <td>70.00</td>\n",
              "      <td>7000.0</td>\n",
              "      <td>70.00</td>\n",
              "    </tr>\n",
              "    <tr>\n",
              "      <th>2</th>\n",
              "      <td>Apartamento</td>\n",
              "      <td>53.33</td>\n",
              "      <td>1210.0</td>\n",
              "      <td>80.67</td>\n",
              "    </tr>\n",
              "    <tr>\n",
              "      <th>3</th>\n",
              "      <td>Apartamento</td>\n",
              "      <td>16.67</td>\n",
              "      <td>1030.0</td>\n",
              "      <td>21.46</td>\n",
              "    </tr>\n",
              "    <tr>\n",
              "      <th>5</th>\n",
              "      <td>Apartamento</td>\n",
              "      <td>26.00</td>\n",
              "      <td>1618.0</td>\n",
              "      <td>32.36</td>\n",
              "    </tr>\n",
              "  </tbody>\n",
              "</table>\n",
              "</div>"
            ],
            "text/plain": [
              "  Tipo Agregado  Valor m2  Valor Bruto  Valor Bruto m2\n",
              "0   Apartamento     42.50       2260.0           56.50\n",
              "1          Casa     70.00       7000.0           70.00\n",
              "2   Apartamento     53.33       1210.0           80.67\n",
              "3   Apartamento     16.67       1030.0           21.46\n",
              "5   Apartamento     26.00       1618.0           32.36"
            ]
          },
          "metadata": {
            "tags": []
          },
          "execution_count": 249
        }
      ]
    },
    {
      "cell_type": "code",
      "metadata": {
        "id": "LHXveCiRVI2e"
      },
      "source": [
        "del dados_aux['Valor Bruto']"
      ],
      "execution_count": null,
      "outputs": []
    },
    {
      "cell_type": "code",
      "metadata": {
        "colab": {
          "base_uri": "https://localhost:8080/",
          "height": 204
        },
        "id": "nTLZZlrQVQ30",
        "outputId": "e6a9203b-9328-44bc-bcee-e4c9b4a4d257"
      },
      "source": [
        "dados_aux.head()"
      ],
      "execution_count": null,
      "outputs": [
        {
          "output_type": "execute_result",
          "data": {
            "text/html": [
              "<div>\n",
              "<style scoped>\n",
              "    .dataframe tbody tr th:only-of-type {\n",
              "        vertical-align: middle;\n",
              "    }\n",
              "\n",
              "    .dataframe tbody tr th {\n",
              "        vertical-align: top;\n",
              "    }\n",
              "\n",
              "    .dataframe thead th {\n",
              "        text-align: right;\n",
              "    }\n",
              "</style>\n",
              "<table border=\"1\" class=\"dataframe\">\n",
              "  <thead>\n",
              "    <tr style=\"text-align: right;\">\n",
              "      <th></th>\n",
              "      <th>Tipo Agregado</th>\n",
              "      <th>Valor m2</th>\n",
              "      <th>Valor Bruto m2</th>\n",
              "    </tr>\n",
              "  </thead>\n",
              "  <tbody>\n",
              "    <tr>\n",
              "      <th>0</th>\n",
              "      <td>Apartamento</td>\n",
              "      <td>42.50</td>\n",
              "      <td>56.50</td>\n",
              "    </tr>\n",
              "    <tr>\n",
              "      <th>1</th>\n",
              "      <td>Casa</td>\n",
              "      <td>70.00</td>\n",
              "      <td>70.00</td>\n",
              "    </tr>\n",
              "    <tr>\n",
              "      <th>2</th>\n",
              "      <td>Apartamento</td>\n",
              "      <td>53.33</td>\n",
              "      <td>80.67</td>\n",
              "    </tr>\n",
              "    <tr>\n",
              "      <th>3</th>\n",
              "      <td>Apartamento</td>\n",
              "      <td>16.67</td>\n",
              "      <td>21.46</td>\n",
              "    </tr>\n",
              "    <tr>\n",
              "      <th>5</th>\n",
              "      <td>Apartamento</td>\n",
              "      <td>26.00</td>\n",
              "      <td>32.36</td>\n",
              "    </tr>\n",
              "  </tbody>\n",
              "</table>\n",
              "</div>"
            ],
            "text/plain": [
              "  Tipo Agregado  Valor m2  Valor Bruto m2\n",
              "0   Apartamento     42.50           56.50\n",
              "1          Casa     70.00           70.00\n",
              "2   Apartamento     53.33           80.67\n",
              "3   Apartamento     16.67           21.46\n",
              "5   Apartamento     26.00           32.36"
            ]
          },
          "metadata": {
            "tags": []
          },
          "execution_count": 251
        }
      ]
    },
    {
      "cell_type": "code",
      "metadata": {
        "colab": {
          "base_uri": "https://localhost:8080/"
        },
        "id": "hC0sdnvKVRwD",
        "outputId": "5ac309c5-7462-4810-805a-c7518c96ca38"
      },
      "source": [
        "dados_aux.pop('Valor Bruto m2')"
      ],
      "execution_count": null,
      "outputs": [
        {
          "output_type": "execute_result",
          "data": {
            "text/plain": [
              "0        56.50\n",
              "1        70.00\n",
              "2        80.67\n",
              "3        21.46\n",
              "5        32.36\n",
              "         ...  \n",
              "22575    20.54\n",
              "22576    43.52\n",
              "22577    33.85\n",
              "22578    40.54\n",
              "22579    53.71\n",
              "Name: Valor Bruto m2, Length: 21826, dtype: float64"
            ]
          },
          "metadata": {
            "tags": []
          },
          "execution_count": 252
        }
      ]
    },
    {
      "cell_type": "code",
      "metadata": {
        "colab": {
          "base_uri": "https://localhost:8080/",
          "height": 204
        },
        "id": "Md4VmtqcVanm",
        "outputId": "b73af86f-b804-4425-ee49-6187102a899d"
      },
      "source": [
        "dados_aux.head()"
      ],
      "execution_count": null,
      "outputs": [
        {
          "output_type": "execute_result",
          "data": {
            "text/html": [
              "<div>\n",
              "<style scoped>\n",
              "    .dataframe tbody tr th:only-of-type {\n",
              "        vertical-align: middle;\n",
              "    }\n",
              "\n",
              "    .dataframe tbody tr th {\n",
              "        vertical-align: top;\n",
              "    }\n",
              "\n",
              "    .dataframe thead th {\n",
              "        text-align: right;\n",
              "    }\n",
              "</style>\n",
              "<table border=\"1\" class=\"dataframe\">\n",
              "  <thead>\n",
              "    <tr style=\"text-align: right;\">\n",
              "      <th></th>\n",
              "      <th>Tipo Agregado</th>\n",
              "      <th>Valor m2</th>\n",
              "    </tr>\n",
              "  </thead>\n",
              "  <tbody>\n",
              "    <tr>\n",
              "      <th>0</th>\n",
              "      <td>Apartamento</td>\n",
              "      <td>42.50</td>\n",
              "    </tr>\n",
              "    <tr>\n",
              "      <th>1</th>\n",
              "      <td>Casa</td>\n",
              "      <td>70.00</td>\n",
              "    </tr>\n",
              "    <tr>\n",
              "      <th>2</th>\n",
              "      <td>Apartamento</td>\n",
              "      <td>53.33</td>\n",
              "    </tr>\n",
              "    <tr>\n",
              "      <th>3</th>\n",
              "      <td>Apartamento</td>\n",
              "      <td>16.67</td>\n",
              "    </tr>\n",
              "    <tr>\n",
              "      <th>5</th>\n",
              "      <td>Apartamento</td>\n",
              "      <td>26.00</td>\n",
              "    </tr>\n",
              "  </tbody>\n",
              "</table>\n",
              "</div>"
            ],
            "text/plain": [
              "  Tipo Agregado  Valor m2\n",
              "0   Apartamento     42.50\n",
              "1          Casa     70.00\n",
              "2   Apartamento     53.33\n",
              "3   Apartamento     16.67\n",
              "5   Apartamento     26.00"
            ]
          },
          "metadata": {
            "tags": []
          },
          "execution_count": 253
        }
      ]
    },
    {
      "cell_type": "code",
      "metadata": {
        "id": "cFP2roCZVfd-"
      },
      "source": [
        "# Aqui precisamos colocar o parametro axis = 1, para identificar que são as colunas que desejamos apagar\r\n",
        "dados.drop(['Valor Bruto', 'Valor Bruto m2'], axis=1, inplace=True)"
      ],
      "execution_count": null,
      "outputs": []
    },
    {
      "cell_type": "code",
      "metadata": {
        "colab": {
          "base_uri": "https://localhost:8080/",
          "height": 238
        },
        "id": "tIKDpmcyWPfp",
        "outputId": "d54e5eb0-c14c-4f32-ecbb-57a2e45a1064"
      },
      "source": [
        "dados.head()"
      ],
      "execution_count": null,
      "outputs": [
        {
          "output_type": "execute_result",
          "data": {
            "text/html": [
              "<div>\n",
              "<style scoped>\n",
              "    .dataframe tbody tr th:only-of-type {\n",
              "        vertical-align: middle;\n",
              "    }\n",
              "\n",
              "    .dataframe tbody tr th {\n",
              "        vertical-align: top;\n",
              "    }\n",
              "\n",
              "    .dataframe thead th {\n",
              "        text-align: right;\n",
              "    }\n",
              "</style>\n",
              "<table border=\"1\" class=\"dataframe\">\n",
              "  <thead>\n",
              "    <tr style=\"text-align: right;\">\n",
              "      <th></th>\n",
              "      <th>Tipo</th>\n",
              "      <th>Bairro</th>\n",
              "      <th>Quartos</th>\n",
              "      <th>Vagas</th>\n",
              "      <th>Suites</th>\n",
              "      <th>Area</th>\n",
              "      <th>Valor</th>\n",
              "      <th>Condominio</th>\n",
              "      <th>IPTU</th>\n",
              "      <th>Valor m2</th>\n",
              "      <th>Tipo Agregado</th>\n",
              "    </tr>\n",
              "  </thead>\n",
              "  <tbody>\n",
              "    <tr>\n",
              "      <th>0</th>\n",
              "      <td>Quitinete</td>\n",
              "      <td>Copacabana</td>\n",
              "      <td>1</td>\n",
              "      <td>0</td>\n",
              "      <td>0</td>\n",
              "      <td>40</td>\n",
              "      <td>1700.0</td>\n",
              "      <td>500.0</td>\n",
              "      <td>60.0</td>\n",
              "      <td>42.50</td>\n",
              "      <td>Apartamento</td>\n",
              "    </tr>\n",
              "    <tr>\n",
              "      <th>1</th>\n",
              "      <td>Casa</td>\n",
              "      <td>Jardim Botânico</td>\n",
              "      <td>2</td>\n",
              "      <td>0</td>\n",
              "      <td>1</td>\n",
              "      <td>100</td>\n",
              "      <td>7000.0</td>\n",
              "      <td>0.0</td>\n",
              "      <td>0.0</td>\n",
              "      <td>70.00</td>\n",
              "      <td>Casa</td>\n",
              "    </tr>\n",
              "    <tr>\n",
              "      <th>2</th>\n",
              "      <td>Apartamento</td>\n",
              "      <td>Centro</td>\n",
              "      <td>1</td>\n",
              "      <td>0</td>\n",
              "      <td>0</td>\n",
              "      <td>15</td>\n",
              "      <td>800.0</td>\n",
              "      <td>390.0</td>\n",
              "      <td>20.0</td>\n",
              "      <td>53.33</td>\n",
              "      <td>Apartamento</td>\n",
              "    </tr>\n",
              "    <tr>\n",
              "      <th>3</th>\n",
              "      <td>Apartamento</td>\n",
              "      <td>Higienópolis</td>\n",
              "      <td>1</td>\n",
              "      <td>0</td>\n",
              "      <td>0</td>\n",
              "      <td>48</td>\n",
              "      <td>800.0</td>\n",
              "      <td>230.0</td>\n",
              "      <td>0.0</td>\n",
              "      <td>16.67</td>\n",
              "      <td>Apartamento</td>\n",
              "    </tr>\n",
              "    <tr>\n",
              "      <th>5</th>\n",
              "      <td>Apartamento</td>\n",
              "      <td>Cachambi</td>\n",
              "      <td>2</td>\n",
              "      <td>0</td>\n",
              "      <td>0</td>\n",
              "      <td>50</td>\n",
              "      <td>1300.0</td>\n",
              "      <td>301.0</td>\n",
              "      <td>17.0</td>\n",
              "      <td>26.00</td>\n",
              "      <td>Apartamento</td>\n",
              "    </tr>\n",
              "  </tbody>\n",
              "</table>\n",
              "</div>"
            ],
            "text/plain": [
              "          Tipo           Bairro  Quartos  ...  IPTU  Valor m2  Tipo Agregado\n",
              "0    Quitinete       Copacabana        1  ...  60.0     42.50    Apartamento\n",
              "1         Casa  Jardim Botânico        2  ...   0.0     70.00           Casa\n",
              "2  Apartamento           Centro        1  ...  20.0     53.33    Apartamento\n",
              "3  Apartamento     Higienópolis        1  ...   0.0     16.67    Apartamento\n",
              "5  Apartamento         Cachambi        2  ...  17.0     26.00    Apartamento\n",
              "\n",
              "[5 rows x 11 columns]"
            ]
          },
          "metadata": {
            "tags": []
          },
          "execution_count": 255
        }
      ]
    },
    {
      "cell_type": "code",
      "metadata": {
        "id": "jK8Dl3MjWRWm"
      },
      "source": [
        "dados.to_csv('/content/aluguel_residencial_tratado_2.csv', sep = ';')"
      ],
      "execution_count": null,
      "outputs": []
    },
    {
      "cell_type": "markdown",
      "metadata": {
        "id": "0fJldXkDXLBm"
      },
      "source": [
        "## (EXTRA) Contadores"
      ]
    },
    {
      "cell_type": "code",
      "metadata": {
        "colab": {
          "base_uri": "https://localhost:8080/"
        },
        "id": "Oxbh8EGjXPzV",
        "outputId": "cc35f54b-3645-4dc6-93fb-1542fe7616f2"
      },
      "source": [
        " s = pd.Series(list('asdadeadesdasesda'))\r\n",
        " s"
      ],
      "execution_count": null,
      "outputs": [
        {
          "output_type": "execute_result",
          "data": {
            "text/plain": [
              "0     a\n",
              "1     s\n",
              "2     d\n",
              "3     a\n",
              "4     d\n",
              "5     e\n",
              "6     a\n",
              "7     d\n",
              "8     e\n",
              "9     s\n",
              "10    d\n",
              "11    a\n",
              "12    s\n",
              "13    e\n",
              "14    s\n",
              "15    d\n",
              "16    a\n",
              "dtype: object"
            ]
          },
          "metadata": {
            "tags": []
          },
          "execution_count": 257
        }
      ]
    },
    {
      "cell_type": "code",
      "metadata": {
        "colab": {
          "base_uri": "https://localhost:8080/"
        },
        "id": "EHkH5ttwXfD1",
        "outputId": "5d4256a8-8a86-4e86-8255-0a7f17eec5ed"
      },
      "source": [
        "s.unique"
      ],
      "execution_count": null,
      "outputs": [
        {
          "output_type": "execute_result",
          "data": {
            "text/plain": [
              "<bound method Series.unique of 0     a\n",
              "1     s\n",
              "2     d\n",
              "3     a\n",
              "4     d\n",
              "5     e\n",
              "6     a\n",
              "7     d\n",
              "8     e\n",
              "9     s\n",
              "10    d\n",
              "11    a\n",
              "12    s\n",
              "13    e\n",
              "14    s\n",
              "15    d\n",
              "16    a\n",
              "dtype: object>"
            ]
          },
          "metadata": {
            "tags": []
          },
          "execution_count": 258
        }
      ]
    },
    {
      "cell_type": "code",
      "metadata": {
        "colab": {
          "base_uri": "https://localhost:8080/"
        },
        "id": "l820XsdkXiLS",
        "outputId": "4999ce05-7cf0-472f-939c-c888bfa89895"
      },
      "source": [
        "s.value_counts()"
      ],
      "execution_count": null,
      "outputs": [
        {
          "output_type": "execute_result",
          "data": {
            "text/plain": [
              "a    5\n",
              "d    5\n",
              "s    4\n",
              "e    3\n",
              "dtype: int64"
            ]
          },
          "metadata": {
            "tags": []
          },
          "execution_count": 259
        }
      ]
    },
    {
      "cell_type": "code",
      "metadata": {
        "id": "dtFqdSY6XnQj"
      },
      "source": [
        "dados = pd.read_csv('/content/aluguel_residencial_tratado.csv', sep = \";\")"
      ],
      "execution_count": null,
      "outputs": []
    },
    {
      "cell_type": "code",
      "metadata": {
        "colab": {
          "base_uri": "https://localhost:8080/",
          "height": 419
        },
        "id": "p6ozFKyXXyTj",
        "outputId": "64dba18a-f2e2-49a3-a313-dd888cd47484"
      },
      "source": [
        "dados"
      ],
      "execution_count": null,
      "outputs": [
        {
          "output_type": "execute_result",
          "data": {
            "text/html": [
              "<div>\n",
              "<style scoped>\n",
              "    .dataframe tbody tr th:only-of-type {\n",
              "        vertical-align: middle;\n",
              "    }\n",
              "\n",
              "    .dataframe tbody tr th {\n",
              "        vertical-align: top;\n",
              "    }\n",
              "\n",
              "    .dataframe thead th {\n",
              "        text-align: right;\n",
              "    }\n",
              "</style>\n",
              "<table border=\"1\" class=\"dataframe\">\n",
              "  <thead>\n",
              "    <tr style=\"text-align: right;\">\n",
              "      <th></th>\n",
              "      <th>Tipo</th>\n",
              "      <th>Bairro</th>\n",
              "      <th>Quartos</th>\n",
              "      <th>Vagas</th>\n",
              "      <th>Suites</th>\n",
              "      <th>Area</th>\n",
              "      <th>Valor</th>\n",
              "      <th>Condominio</th>\n",
              "      <th>IPTU</th>\n",
              "    </tr>\n",
              "  </thead>\n",
              "  <tbody>\n",
              "    <tr>\n",
              "      <th>0</th>\n",
              "      <td>Quitinete</td>\n",
              "      <td>Copacabana</td>\n",
              "      <td>1</td>\n",
              "      <td>0</td>\n",
              "      <td>0</td>\n",
              "      <td>40</td>\n",
              "      <td>1700.0</td>\n",
              "      <td>500.0</td>\n",
              "      <td>60.0</td>\n",
              "    </tr>\n",
              "    <tr>\n",
              "      <th>1</th>\n",
              "      <td>Casa</td>\n",
              "      <td>Jardim Botânico</td>\n",
              "      <td>2</td>\n",
              "      <td>0</td>\n",
              "      <td>1</td>\n",
              "      <td>100</td>\n",
              "      <td>7000.0</td>\n",
              "      <td>0.0</td>\n",
              "      <td>0.0</td>\n",
              "    </tr>\n",
              "    <tr>\n",
              "      <th>2</th>\n",
              "      <td>Apartamento</td>\n",
              "      <td>Centro</td>\n",
              "      <td>1</td>\n",
              "      <td>0</td>\n",
              "      <td>0</td>\n",
              "      <td>15</td>\n",
              "      <td>800.0</td>\n",
              "      <td>390.0</td>\n",
              "      <td>20.0</td>\n",
              "    </tr>\n",
              "    <tr>\n",
              "      <th>3</th>\n",
              "      <td>Apartamento</td>\n",
              "      <td>Higienópolis</td>\n",
              "      <td>1</td>\n",
              "      <td>0</td>\n",
              "      <td>0</td>\n",
              "      <td>48</td>\n",
              "      <td>800.0</td>\n",
              "      <td>230.0</td>\n",
              "      <td>0.0</td>\n",
              "    </tr>\n",
              "    <tr>\n",
              "      <th>4</th>\n",
              "      <td>Apartamento</td>\n",
              "      <td>Cachambi</td>\n",
              "      <td>2</td>\n",
              "      <td>0</td>\n",
              "      <td>0</td>\n",
              "      <td>50</td>\n",
              "      <td>1300.0</td>\n",
              "      <td>301.0</td>\n",
              "      <td>17.0</td>\n",
              "    </tr>\n",
              "    <tr>\n",
              "      <th>...</th>\n",
              "      <td>...</td>\n",
              "      <td>...</td>\n",
              "      <td>...</td>\n",
              "      <td>...</td>\n",
              "      <td>...</td>\n",
              "      <td>...</td>\n",
              "      <td>...</td>\n",
              "      <td>...</td>\n",
              "      <td>...</td>\n",
              "    </tr>\n",
              "    <tr>\n",
              "      <th>21821</th>\n",
              "      <td>Apartamento</td>\n",
              "      <td>Méier</td>\n",
              "      <td>2</td>\n",
              "      <td>0</td>\n",
              "      <td>0</td>\n",
              "      <td>70</td>\n",
              "      <td>900.0</td>\n",
              "      <td>490.0</td>\n",
              "      <td>48.0</td>\n",
              "    </tr>\n",
              "    <tr>\n",
              "      <th>21822</th>\n",
              "      <td>Quitinete</td>\n",
              "      <td>Centro</td>\n",
              "      <td>0</td>\n",
              "      <td>0</td>\n",
              "      <td>0</td>\n",
              "      <td>27</td>\n",
              "      <td>800.0</td>\n",
              "      <td>350.0</td>\n",
              "      <td>25.0</td>\n",
              "    </tr>\n",
              "    <tr>\n",
              "      <th>21823</th>\n",
              "      <td>Apartamento</td>\n",
              "      <td>Jacarepaguá</td>\n",
              "      <td>3</td>\n",
              "      <td>1</td>\n",
              "      <td>2</td>\n",
              "      <td>78</td>\n",
              "      <td>1800.0</td>\n",
              "      <td>800.0</td>\n",
              "      <td>40.0</td>\n",
              "    </tr>\n",
              "    <tr>\n",
              "      <th>21824</th>\n",
              "      <td>Apartamento</td>\n",
              "      <td>São Francisco Xavier</td>\n",
              "      <td>2</td>\n",
              "      <td>1</td>\n",
              "      <td>0</td>\n",
              "      <td>48</td>\n",
              "      <td>1400.0</td>\n",
              "      <td>509.0</td>\n",
              "      <td>37.0</td>\n",
              "    </tr>\n",
              "    <tr>\n",
              "      <th>21825</th>\n",
              "      <td>Apartamento</td>\n",
              "      <td>Leblon</td>\n",
              "      <td>2</td>\n",
              "      <td>0</td>\n",
              "      <td>0</td>\n",
              "      <td>70</td>\n",
              "      <td>3000.0</td>\n",
              "      <td>760.0</td>\n",
              "      <td>0.0</td>\n",
              "    </tr>\n",
              "  </tbody>\n",
              "</table>\n",
              "<p>21826 rows × 9 columns</p>\n",
              "</div>"
            ],
            "text/plain": [
              "              Tipo                Bairro  Quartos  ...   Valor  Condominio  IPTU\n",
              "0        Quitinete            Copacabana        1  ...  1700.0       500.0  60.0\n",
              "1             Casa       Jardim Botânico        2  ...  7000.0         0.0   0.0\n",
              "2      Apartamento                Centro        1  ...   800.0       390.0  20.0\n",
              "3      Apartamento          Higienópolis        1  ...   800.0       230.0   0.0\n",
              "4      Apartamento              Cachambi        2  ...  1300.0       301.0  17.0\n",
              "...            ...                   ...      ...  ...     ...         ...   ...\n",
              "21821  Apartamento                 Méier        2  ...   900.0       490.0  48.0\n",
              "21822    Quitinete                Centro        0  ...   800.0       350.0  25.0\n",
              "21823  Apartamento           Jacarepaguá        3  ...  1800.0       800.0  40.0\n",
              "21824  Apartamento  São Francisco Xavier        2  ...  1400.0       509.0  37.0\n",
              "21825  Apartamento                Leblon        2  ...  3000.0       760.0   0.0\n",
              "\n",
              "[21826 rows x 9 columns]"
            ]
          },
          "metadata": {
            "tags": []
          },
          "execution_count": 266
        }
      ]
    },
    {
      "cell_type": "code",
      "metadata": {
        "colab": {
          "base_uri": "https://localhost:8080/"
        },
        "id": "IFfbJMZeX3MM",
        "outputId": "3876a342-6f96-4319-ae05-e9448fcf85a0"
      },
      "source": [
        "dados['Tipo'].unique()"
      ],
      "execution_count": null,
      "outputs": [
        {
          "output_type": "execute_result",
          "data": {
            "text/plain": [
              "array(['Quitinete', 'Casa', 'Apartamento', 'Casa de Condomínio',\n",
              "       'Casa de Vila'], dtype=object)"
            ]
          },
          "metadata": {
            "tags": []
          },
          "execution_count": 267
        }
      ]
    },
    {
      "cell_type": "code",
      "metadata": {
        "colab": {
          "base_uri": "https://localhost:8080/"
        },
        "id": "olKPufhsYMF1",
        "outputId": "123e43c6-dbb1-41b9-8775-f1692b12a186"
      },
      "source": [
        "dados['Tipo'].value_counts()"
      ],
      "execution_count": null,
      "outputs": [
        {
          "output_type": "execute_result",
          "data": {
            "text/plain": [
              "Apartamento           18780\n",
              "Casa de Condomínio      996\n",
              "Casa                    965\n",
              "Quitinete               836\n",
              "Casa de Vila            249\n",
              "Name: Tipo, dtype: int64"
            ]
          },
          "metadata": {
            "tags": []
          },
          "execution_count": 268
        }
      ]
    },
    {
      "cell_type": "markdown",
      "metadata": {
        "id": "Kb1zWr6uY7eo"
      },
      "source": [
        "## Exercício Moedas"
      ]
    },
    {
      "cell_type": "code",
      "metadata": {
        "id": "SKlDgwlBY_gy"
      },
      "source": [
        "m1 = 'CCcCCccCCCccCcCccCcCcCCCcCCcccCCcCcCcCcccCCcCcccCc'\r\n",
        "m2 = 'CCCCCccCccCcCCCCccCccccCccCccCCcCccCcCcCCcCccCccCc'\r\n",
        "m3 = 'CccCCccCcCCCCCCCCCCcccCccCCCCCCccCCCcccCCCcCCcccCC'\r\n",
        "m4 = 'cCCccCCccCCccCCccccCcCcCcCcCcCcCCCCccccCCCcCCcCCCC'\r\n",
        "m5 = 'CCCcCcCcCcCCCcCCcCcCCccCcCCcccCccCCcCcCcCcCcccccCc'"
      ],
      "execution_count": null,
      "outputs": []
    },
    {
      "cell_type": "code",
      "metadata": {
        "id": "JVi1Cv6DY_7e"
      },
      "source": [
        "eventos = {\r\n",
        "    'm1': list(m1),\r\n",
        "    'm2': list(m2),\r\n",
        "    'm3': list(m3),\r\n",
        "    'm4': list(m4),\r\n",
        "    'm5': list(m5)\r\n",
        "}"
      ],
      "execution_count": null,
      "outputs": []
    },
    {
      "cell_type": "code",
      "metadata": {
        "id": "f4aLVTaoZkDv"
      },
      "source": [
        "moedas = pd.DataFrame(eventos)"
      ],
      "execution_count": null,
      "outputs": []
    },
    {
      "cell_type": "code",
      "metadata": {
        "colab": {
          "base_uri": "https://localhost:8080/",
          "height": 1000
        },
        "id": "W_QIZYohZuR2",
        "outputId": "aaf8a06a-10de-4e4d-82b9-c156aefa8330"
      },
      "source": [
        "moedas"
      ],
      "execution_count": null,
      "outputs": [
        {
          "output_type": "execute_result",
          "data": {
            "text/html": [
              "<div>\n",
              "<style scoped>\n",
              "    .dataframe tbody tr th:only-of-type {\n",
              "        vertical-align: middle;\n",
              "    }\n",
              "\n",
              "    .dataframe tbody tr th {\n",
              "        vertical-align: top;\n",
              "    }\n",
              "\n",
              "    .dataframe thead th {\n",
              "        text-align: right;\n",
              "    }\n",
              "</style>\n",
              "<table border=\"1\" class=\"dataframe\">\n",
              "  <thead>\n",
              "    <tr style=\"text-align: right;\">\n",
              "      <th></th>\n",
              "      <th>m1</th>\n",
              "      <th>m2</th>\n",
              "      <th>m3</th>\n",
              "      <th>m4</th>\n",
              "      <th>m5</th>\n",
              "    </tr>\n",
              "  </thead>\n",
              "  <tbody>\n",
              "    <tr>\n",
              "      <th>0</th>\n",
              "      <td>C</td>\n",
              "      <td>C</td>\n",
              "      <td>C</td>\n",
              "      <td>c</td>\n",
              "      <td>C</td>\n",
              "    </tr>\n",
              "    <tr>\n",
              "      <th>1</th>\n",
              "      <td>C</td>\n",
              "      <td>C</td>\n",
              "      <td>c</td>\n",
              "      <td>C</td>\n",
              "      <td>C</td>\n",
              "    </tr>\n",
              "    <tr>\n",
              "      <th>2</th>\n",
              "      <td>c</td>\n",
              "      <td>C</td>\n",
              "      <td>c</td>\n",
              "      <td>C</td>\n",
              "      <td>C</td>\n",
              "    </tr>\n",
              "    <tr>\n",
              "      <th>3</th>\n",
              "      <td>C</td>\n",
              "      <td>C</td>\n",
              "      <td>C</td>\n",
              "      <td>c</td>\n",
              "      <td>c</td>\n",
              "    </tr>\n",
              "    <tr>\n",
              "      <th>4</th>\n",
              "      <td>C</td>\n",
              "      <td>C</td>\n",
              "      <td>C</td>\n",
              "      <td>c</td>\n",
              "      <td>C</td>\n",
              "    </tr>\n",
              "    <tr>\n",
              "      <th>5</th>\n",
              "      <td>c</td>\n",
              "      <td>c</td>\n",
              "      <td>c</td>\n",
              "      <td>C</td>\n",
              "      <td>c</td>\n",
              "    </tr>\n",
              "    <tr>\n",
              "      <th>6</th>\n",
              "      <td>c</td>\n",
              "      <td>c</td>\n",
              "      <td>c</td>\n",
              "      <td>C</td>\n",
              "      <td>C</td>\n",
              "    </tr>\n",
              "    <tr>\n",
              "      <th>7</th>\n",
              "      <td>C</td>\n",
              "      <td>C</td>\n",
              "      <td>C</td>\n",
              "      <td>c</td>\n",
              "      <td>c</td>\n",
              "    </tr>\n",
              "    <tr>\n",
              "      <th>8</th>\n",
              "      <td>C</td>\n",
              "      <td>c</td>\n",
              "      <td>c</td>\n",
              "      <td>c</td>\n",
              "      <td>C</td>\n",
              "    </tr>\n",
              "    <tr>\n",
              "      <th>9</th>\n",
              "      <td>C</td>\n",
              "      <td>c</td>\n",
              "      <td>C</td>\n",
              "      <td>C</td>\n",
              "      <td>c</td>\n",
              "    </tr>\n",
              "    <tr>\n",
              "      <th>10</th>\n",
              "      <td>c</td>\n",
              "      <td>C</td>\n",
              "      <td>C</td>\n",
              "      <td>C</td>\n",
              "      <td>C</td>\n",
              "    </tr>\n",
              "    <tr>\n",
              "      <th>11</th>\n",
              "      <td>c</td>\n",
              "      <td>c</td>\n",
              "      <td>C</td>\n",
              "      <td>c</td>\n",
              "      <td>C</td>\n",
              "    </tr>\n",
              "    <tr>\n",
              "      <th>12</th>\n",
              "      <td>C</td>\n",
              "      <td>C</td>\n",
              "      <td>C</td>\n",
              "      <td>c</td>\n",
              "      <td>C</td>\n",
              "    </tr>\n",
              "    <tr>\n",
              "      <th>13</th>\n",
              "      <td>c</td>\n",
              "      <td>C</td>\n",
              "      <td>C</td>\n",
              "      <td>C</td>\n",
              "      <td>c</td>\n",
              "    </tr>\n",
              "    <tr>\n",
              "      <th>14</th>\n",
              "      <td>C</td>\n",
              "      <td>C</td>\n",
              "      <td>C</td>\n",
              "      <td>C</td>\n",
              "      <td>C</td>\n",
              "    </tr>\n",
              "    <tr>\n",
              "      <th>15</th>\n",
              "      <td>c</td>\n",
              "      <td>C</td>\n",
              "      <td>C</td>\n",
              "      <td>c</td>\n",
              "      <td>C</td>\n",
              "    </tr>\n",
              "    <tr>\n",
              "      <th>16</th>\n",
              "      <td>c</td>\n",
              "      <td>c</td>\n",
              "      <td>C</td>\n",
              "      <td>c</td>\n",
              "      <td>c</td>\n",
              "    </tr>\n",
              "    <tr>\n",
              "      <th>17</th>\n",
              "      <td>C</td>\n",
              "      <td>c</td>\n",
              "      <td>C</td>\n",
              "      <td>c</td>\n",
              "      <td>C</td>\n",
              "    </tr>\n",
              "    <tr>\n",
              "      <th>18</th>\n",
              "      <td>c</td>\n",
              "      <td>C</td>\n",
              "      <td>C</td>\n",
              "      <td>c</td>\n",
              "      <td>c</td>\n",
              "    </tr>\n",
              "    <tr>\n",
              "      <th>19</th>\n",
              "      <td>C</td>\n",
              "      <td>c</td>\n",
              "      <td>c</td>\n",
              "      <td>C</td>\n",
              "      <td>C</td>\n",
              "    </tr>\n",
              "    <tr>\n",
              "      <th>20</th>\n",
              "      <td>c</td>\n",
              "      <td>c</td>\n",
              "      <td>c</td>\n",
              "      <td>c</td>\n",
              "      <td>C</td>\n",
              "    </tr>\n",
              "    <tr>\n",
              "      <th>21</th>\n",
              "      <td>C</td>\n",
              "      <td>c</td>\n",
              "      <td>c</td>\n",
              "      <td>C</td>\n",
              "      <td>c</td>\n",
              "    </tr>\n",
              "    <tr>\n",
              "      <th>22</th>\n",
              "      <td>C</td>\n",
              "      <td>c</td>\n",
              "      <td>C</td>\n",
              "      <td>c</td>\n",
              "      <td>c</td>\n",
              "    </tr>\n",
              "    <tr>\n",
              "      <th>23</th>\n",
              "      <td>C</td>\n",
              "      <td>C</td>\n",
              "      <td>c</td>\n",
              "      <td>C</td>\n",
              "      <td>C</td>\n",
              "    </tr>\n",
              "    <tr>\n",
              "      <th>24</th>\n",
              "      <td>c</td>\n",
              "      <td>c</td>\n",
              "      <td>c</td>\n",
              "      <td>c</td>\n",
              "      <td>c</td>\n",
              "    </tr>\n",
              "    <tr>\n",
              "      <th>25</th>\n",
              "      <td>C</td>\n",
              "      <td>c</td>\n",
              "      <td>C</td>\n",
              "      <td>C</td>\n",
              "      <td>C</td>\n",
              "    </tr>\n",
              "    <tr>\n",
              "      <th>26</th>\n",
              "      <td>C</td>\n",
              "      <td>C</td>\n",
              "      <td>C</td>\n",
              "      <td>c</td>\n",
              "      <td>C</td>\n",
              "    </tr>\n",
              "    <tr>\n",
              "      <th>27</th>\n",
              "      <td>c</td>\n",
              "      <td>c</td>\n",
              "      <td>C</td>\n",
              "      <td>C</td>\n",
              "      <td>c</td>\n",
              "    </tr>\n",
              "    <tr>\n",
              "      <th>28</th>\n",
              "      <td>c</td>\n",
              "      <td>c</td>\n",
              "      <td>C</td>\n",
              "      <td>c</td>\n",
              "      <td>c</td>\n",
              "    </tr>\n",
              "    <tr>\n",
              "      <th>29</th>\n",
              "      <td>c</td>\n",
              "      <td>C</td>\n",
              "      <td>C</td>\n",
              "      <td>C</td>\n",
              "      <td>c</td>\n",
              "    </tr>\n",
              "    <tr>\n",
              "      <th>30</th>\n",
              "      <td>C</td>\n",
              "      <td>C</td>\n",
              "      <td>C</td>\n",
              "      <td>c</td>\n",
              "      <td>C</td>\n",
              "    </tr>\n",
              "    <tr>\n",
              "      <th>31</th>\n",
              "      <td>C</td>\n",
              "      <td>c</td>\n",
              "      <td>c</td>\n",
              "      <td>C</td>\n",
              "      <td>c</td>\n",
              "    </tr>\n",
              "    <tr>\n",
              "      <th>32</th>\n",
              "      <td>c</td>\n",
              "      <td>C</td>\n",
              "      <td>c</td>\n",
              "      <td>C</td>\n",
              "      <td>c</td>\n",
              "    </tr>\n",
              "    <tr>\n",
              "      <th>33</th>\n",
              "      <td>C</td>\n",
              "      <td>c</td>\n",
              "      <td>C</td>\n",
              "      <td>C</td>\n",
              "      <td>C</td>\n",
              "    </tr>\n",
              "    <tr>\n",
              "      <th>34</th>\n",
              "      <td>c</td>\n",
              "      <td>c</td>\n",
              "      <td>C</td>\n",
              "      <td>C</td>\n",
              "      <td>C</td>\n",
              "    </tr>\n",
              "    <tr>\n",
              "      <th>35</th>\n",
              "      <td>C</td>\n",
              "      <td>C</td>\n",
              "      <td>C</td>\n",
              "      <td>c</td>\n",
              "      <td>c</td>\n",
              "    </tr>\n",
              "    <tr>\n",
              "      <th>36</th>\n",
              "      <td>c</td>\n",
              "      <td>c</td>\n",
              "      <td>c</td>\n",
              "      <td>c</td>\n",
              "      <td>C</td>\n",
              "    </tr>\n",
              "    <tr>\n",
              "      <th>37</th>\n",
              "      <td>C</td>\n",
              "      <td>C</td>\n",
              "      <td>c</td>\n",
              "      <td>c</td>\n",
              "      <td>c</td>\n",
              "    </tr>\n",
              "    <tr>\n",
              "      <th>38</th>\n",
              "      <td>c</td>\n",
              "      <td>c</td>\n",
              "      <td>c</td>\n",
              "      <td>c</td>\n",
              "      <td>C</td>\n",
              "    </tr>\n",
              "    <tr>\n",
              "      <th>39</th>\n",
              "      <td>c</td>\n",
              "      <td>C</td>\n",
              "      <td>C</td>\n",
              "      <td>C</td>\n",
              "      <td>c</td>\n",
              "    </tr>\n",
              "    <tr>\n",
              "      <th>40</th>\n",
              "      <td>c</td>\n",
              "      <td>C</td>\n",
              "      <td>C</td>\n",
              "      <td>C</td>\n",
              "      <td>C</td>\n",
              "    </tr>\n",
              "    <tr>\n",
              "      <th>41</th>\n",
              "      <td>C</td>\n",
              "      <td>c</td>\n",
              "      <td>C</td>\n",
              "      <td>C</td>\n",
              "      <td>c</td>\n",
              "    </tr>\n",
              "    <tr>\n",
              "      <th>42</th>\n",
              "      <td>C</td>\n",
              "      <td>C</td>\n",
              "      <td>c</td>\n",
              "      <td>c</td>\n",
              "      <td>C</td>\n",
              "    </tr>\n",
              "    <tr>\n",
              "      <th>43</th>\n",
              "      <td>c</td>\n",
              "      <td>c</td>\n",
              "      <td>C</td>\n",
              "      <td>C</td>\n",
              "      <td>c</td>\n",
              "    </tr>\n",
              "    <tr>\n",
              "      <th>44</th>\n",
              "      <td>C</td>\n",
              "      <td>c</td>\n",
              "      <td>C</td>\n",
              "      <td>C</td>\n",
              "      <td>c</td>\n",
              "    </tr>\n",
              "    <tr>\n",
              "      <th>45</th>\n",
              "      <td>c</td>\n",
              "      <td>C</td>\n",
              "      <td>c</td>\n",
              "      <td>c</td>\n",
              "      <td>c</td>\n",
              "    </tr>\n",
              "    <tr>\n",
              "      <th>46</th>\n",
              "      <td>c</td>\n",
              "      <td>c</td>\n",
              "      <td>c</td>\n",
              "      <td>C</td>\n",
              "      <td>c</td>\n",
              "    </tr>\n",
              "    <tr>\n",
              "      <th>47</th>\n",
              "      <td>c</td>\n",
              "      <td>c</td>\n",
              "      <td>c</td>\n",
              "      <td>C</td>\n",
              "      <td>c</td>\n",
              "    </tr>\n",
              "    <tr>\n",
              "      <th>48</th>\n",
              "      <td>C</td>\n",
              "      <td>C</td>\n",
              "      <td>C</td>\n",
              "      <td>C</td>\n",
              "      <td>C</td>\n",
              "    </tr>\n",
              "    <tr>\n",
              "      <th>49</th>\n",
              "      <td>c</td>\n",
              "      <td>c</td>\n",
              "      <td>C</td>\n",
              "      <td>C</td>\n",
              "      <td>c</td>\n",
              "    </tr>\n",
              "  </tbody>\n",
              "</table>\n",
              "</div>"
            ],
            "text/plain": [
              "   m1 m2 m3 m4 m5\n",
              "0   C  C  C  c  C\n",
              "1   C  C  c  C  C\n",
              "2   c  C  c  C  C\n",
              "3   C  C  C  c  c\n",
              "4   C  C  C  c  C\n",
              "5   c  c  c  C  c\n",
              "6   c  c  c  C  C\n",
              "7   C  C  C  c  c\n",
              "8   C  c  c  c  C\n",
              "9   C  c  C  C  c\n",
              "10  c  C  C  C  C\n",
              "11  c  c  C  c  C\n",
              "12  C  C  C  c  C\n",
              "13  c  C  C  C  c\n",
              "14  C  C  C  C  C\n",
              "15  c  C  C  c  C\n",
              "16  c  c  C  c  c\n",
              "17  C  c  C  c  C\n",
              "18  c  C  C  c  c\n",
              "19  C  c  c  C  C\n",
              "20  c  c  c  c  C\n",
              "21  C  c  c  C  c\n",
              "22  C  c  C  c  c\n",
              "23  C  C  c  C  C\n",
              "24  c  c  c  c  c\n",
              "25  C  c  C  C  C\n",
              "26  C  C  C  c  C\n",
              "27  c  c  C  C  c\n",
              "28  c  c  C  c  c\n",
              "29  c  C  C  C  c\n",
              "30  C  C  C  c  C\n",
              "31  C  c  c  C  c\n",
              "32  c  C  c  C  c\n",
              "33  C  c  C  C  C\n",
              "34  c  c  C  C  C\n",
              "35  C  C  C  c  c\n",
              "36  c  c  c  c  C\n",
              "37  C  C  c  c  c\n",
              "38  c  c  c  c  C\n",
              "39  c  C  C  C  c\n",
              "40  c  C  C  C  C\n",
              "41  C  c  C  C  c\n",
              "42  C  C  c  c  C\n",
              "43  c  c  C  C  c\n",
              "44  C  c  C  C  c\n",
              "45  c  C  c  c  c\n",
              "46  c  c  c  C  c\n",
              "47  c  c  c  C  c\n",
              "48  C  C  C  C  C\n",
              "49  c  c  C  C  c"
            ]
          },
          "metadata": {
            "tags": []
          },
          "execution_count": 274
        }
      ]
    },
    {
      "cell_type": "code",
      "metadata": {
        "id": "O86idCHFZvaK"
      },
      "source": [
        "df = pd.DataFrame(data = ['Cara', 'Coroa'],\r\n",
        "                  index = ['c', 'C'],\r\n",
        "                  columns = ['Faces'])"
      ],
      "execution_count": null,
      "outputs": []
    },
    {
      "cell_type": "code",
      "metadata": {
        "colab": {
          "base_uri": "https://localhost:8080/",
          "height": 111
        },
        "id": "baTVjpV7aADb",
        "outputId": "1ae31e50-695f-4624-9653-fc324f03f7a7"
      },
      "source": [
        "df"
      ],
      "execution_count": null,
      "outputs": [
        {
          "output_type": "execute_result",
          "data": {
            "text/html": [
              "<div>\n",
              "<style scoped>\n",
              "    .dataframe tbody tr th:only-of-type {\n",
              "        vertical-align: middle;\n",
              "    }\n",
              "\n",
              "    .dataframe tbody tr th {\n",
              "        vertical-align: top;\n",
              "    }\n",
              "\n",
              "    .dataframe thead th {\n",
              "        text-align: right;\n",
              "    }\n",
              "</style>\n",
              "<table border=\"1\" class=\"dataframe\">\n",
              "  <thead>\n",
              "    <tr style=\"text-align: right;\">\n",
              "      <th></th>\n",
              "      <th>Faces</th>\n",
              "    </tr>\n",
              "  </thead>\n",
              "  <tbody>\n",
              "    <tr>\n",
              "      <th>c</th>\n",
              "      <td>Cara</td>\n",
              "    </tr>\n",
              "    <tr>\n",
              "      <th>C</th>\n",
              "      <td>Coroa</td>\n",
              "    </tr>\n",
              "  </tbody>\n",
              "</table>\n",
              "</div>"
            ],
            "text/plain": [
              "   Faces\n",
              "c   Cara\n",
              "C  Coroa"
            ]
          },
          "metadata": {
            "tags": []
          },
          "execution_count": 278
        }
      ]
    },
    {
      "cell_type": "code",
      "metadata": {
        "id": "rqpFIKbhaG6P"
      },
      "source": [
        "for item in moedas:\r\n",
        "  df = pd.concat([df, moedas[item].value_counts()], axis = 1)"
      ],
      "execution_count": null,
      "outputs": []
    },
    {
      "cell_type": "code",
      "metadata": {
        "colab": {
          "base_uri": "https://localhost:8080/",
          "height": 111
        },
        "id": "2kG6t0vkaZc1",
        "outputId": "3e4e5c8a-dc07-4958-fbe1-f3bd36189f91"
      },
      "source": [
        "df"
      ],
      "execution_count": null,
      "outputs": [
        {
          "output_type": "execute_result",
          "data": {
            "text/html": [
              "<div>\n",
              "<style scoped>\n",
              "    .dataframe tbody tr th:only-of-type {\n",
              "        vertical-align: middle;\n",
              "    }\n",
              "\n",
              "    .dataframe tbody tr th {\n",
              "        vertical-align: top;\n",
              "    }\n",
              "\n",
              "    .dataframe thead th {\n",
              "        text-align: right;\n",
              "    }\n",
              "</style>\n",
              "<table border=\"1\" class=\"dataframe\">\n",
              "  <thead>\n",
              "    <tr style=\"text-align: right;\">\n",
              "      <th></th>\n",
              "      <th>Faces</th>\n",
              "      <th>m1</th>\n",
              "      <th>m2</th>\n",
              "      <th>m3</th>\n",
              "      <th>m4</th>\n",
              "      <th>m5</th>\n",
              "    </tr>\n",
              "  </thead>\n",
              "  <tbody>\n",
              "    <tr>\n",
              "      <th>c</th>\n",
              "      <td>Cara</td>\n",
              "      <td>25</td>\n",
              "      <td>26</td>\n",
              "      <td>19</td>\n",
              "      <td>23</td>\n",
              "      <td>25</td>\n",
              "    </tr>\n",
              "    <tr>\n",
              "      <th>C</th>\n",
              "      <td>Coroa</td>\n",
              "      <td>25</td>\n",
              "      <td>24</td>\n",
              "      <td>31</td>\n",
              "      <td>27</td>\n",
              "      <td>25</td>\n",
              "    </tr>\n",
              "  </tbody>\n",
              "</table>\n",
              "</div>"
            ],
            "text/plain": [
              "   Faces  m1  m2  m3  m4  m5\n",
              "c   Cara  25  26  19  23  25\n",
              "C  Coroa  25  24  31  27  25"
            ]
          },
          "metadata": {
            "tags": []
          },
          "execution_count": 282
        }
      ]
    },
    {
      "cell_type": "code",
      "metadata": {
        "colab": {
          "base_uri": "https://localhost:8080/"
        },
        "id": "vSALxpCBan7r",
        "outputId": "b09f0d6f-dc45-4588-d5e9-f6fdf391af0d"
      },
      "source": [
        "for item in moedas:\r\n",
        "  print(item)"
      ],
      "execution_count": null,
      "outputs": [
        {
          "output_type": "stream",
          "text": [
            "m1\n",
            "m2\n",
            "m3\n",
            "m4\n",
            "m5\n"
          ],
          "name": "stdout"
        }
      ]
    }
  ]
}